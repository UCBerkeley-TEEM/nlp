{
 "cells": [
  {
   "cell_type": "code",
   "execution_count": 2,
   "metadata": {
    "collapsed": false
   },
   "outputs": [],
   "source": [
    "from nltk.corpus import brown\n",
    "from nltk.corpus import treebank\n",
    "from nltk import *\n",
    "import nltk, pprint\n",
    "from nltk import word_tokenize\n",
    "from nltk.corpus import stopwords\n",
    "from nltk.tokenize import RegexpTokenizer\n",
    "sent_tokenizer=nltk.data.load('tokenizers/punkt/english.pickle')"
   ]
  },
  {
   "cell_type": "code",
   "execution_count": 3,
   "metadata": {
    "collapsed": true
   },
   "outputs": [],
   "source": [
    "from __future__ import absolute_import\n",
    "from __future__ import print_function\n",
    "import six\n",
    "__author__ = 'a_medelyan'\n",
    "\n",
    "import rake\n",
    "import operator\n",
    "import io"
   ]
  },
  {
   "cell_type": "code",
   "execution_count": 4,
   "metadata": {
    "collapsed": false
   },
   "outputs": [],
   "source": [
    "stoppath = \"SmartStoplist.txt\""
   ]
  },
  {
   "cell_type": "code",
   "execution_count": 5,
   "metadata": {
    "collapsed": false
   },
   "outputs": [],
   "source": [
    "rake_object = rake.Rake(stoppath, 5, 3, 4)"
   ]
  },
  {
   "cell_type": "code",
   "execution_count": 6,
   "metadata": {
    "collapsed": true
   },
   "outputs": [],
   "source": [
    "sample_file = io.open(\"115039_12-16-08.txt\", 'r',encoding=\"iso-8859-1\")\n",
    "text = sample_file.read()"
   ]
  },
  {
   "cell_type": "code",
   "execution_count": 7,
   "metadata": {
    "collapsed": true
   },
   "outputs": [],
   "source": [
    "keywords = rake_object.run(text)"
   ]
  },
  {
   "cell_type": "code",
   "execution_count": 8,
   "metadata": {
    "collapsed": false
   },
   "outputs": [
    {
     "name": "stdout",
     "output_type": "stream",
     "text": [
      "clerk sachi hamai\n",
      "santa monica mountains\n",
      "sheriff larry waldie\n",
      "martin luther king\n",
      "marina del rey\n",
      "nancy vernon marino\n",
      "los angeles angels\n",
      "los angeles county\n",
      "long beach\n",
      "los angeles\n",
      "newborn king\n",
      "straight time\n",
      "trauma center\n",
      "regional planning\n",
      "trauma centers\n",
      "health services\n",
      "federal government\n",
      "earl shields\n",
      "scale back\n",
      "united states\n",
      "superior court\n",
      "affordable housing\n",
      "hard work\n",
      "ray fortner\n",
      "wonderful child\n",
      "good afternoon\n",
      "public works\n",
      "kerry silverstrom\n",
      "million dollars\n",
      "southern california\n",
      "ellen sandt\n",
      "selected text\n",
      "january 6th\n",
      "years ago\n",
      "relief factor\n",
      "angels sing\n",
      "robert taylor\n",
      "michael tripp\n",
      "lynne shapiro\n",
      "arnold sachs\n",
      "honorable supervisors\n",
      "closed session\n",
      "grade level\n",
      "important part\n",
      "great grandchildren\n",
      "supervisor ridley\n",
      "supplemental agenda\n",
      "indirect costs\n",
      "move forward\n",
      "supervisor molina\n",
      "large counties\n",
      "supervisor antonovich\n",
      "supervisor yaroslavsky\n",
      "county board\n",
      "sheriff\n",
      "dollars\n",
      "nancy\n",
      "metro\n",
      "property\n",
      "supervisor\n",
      "marina\n",
      "arnold\n",
      "field\n",
      "court\n",
      "sachs\n",
      "public\n",
      "clipboard\n",
      "provide\n",
      "times\n",
      "funds\n",
      "large\n",
      "counsel\n",
      "shores\n",
      "impact\n",
      "amount\n",
      "document\n",
      "family\n",
      "community\n",
      "california\n",
      "manager\n",
      "michael\n",
      "angels\n",
      "benefits\n",
      "director\n",
      "signed\n",
      "level\n",
      "significant\n",
      "comment\n",
      "county\n",
      "light\n",
      "retrofitting\n",
      "gottlieb\n",
      "father\n",
      "report\n",
      "building\n",
      "meeting\n",
      "backfill\n",
      "projects\n",
      "platoon\n",
      "including\n",
      "lease\n",
      "amendment\n",
      "comments\n",
      "personnel\n",
      "couple\n",
      "january\n",
      "hospital\n",
      "today\n",
      "working\n",
      "mentioned\n",
      "district\n",
      "areas\n",
      "review\n",
      "contract\n",
      "participating\n",
      "paying\n",
      "counties\n",
      "construction\n",
      "request\n",
      "hospitals\n",
      "important\n",
      "item 68\n",
      "item 71\n",
      "ridley\n",
      "deputies\n",
      "vacation\n",
      "items\n",
      "number\n",
      "include\n",
      "click\n",
      "inauguration\n",
      "honor\n",
      "agenda\n",
      "policy\n",
      "windows\n",
      "staff\n",
      "recommendation\n",
      "posted\n",
      "forward\n",
      "study\n",
      "issue\n",
      "select\n",
      "training\n",
      "grandchildren\n",
      "officers\n",
      "position\n",
      "analyze\n",
      "pasadena\n",
      "assume\n",
      "costs\n",
      "issues\n",
      "project\n",
      "litigation\n",
      "involved\n",
      "place\n",
      "requested\n",
      "called\n",
      "funding\n",
      "office\n",
      "motion\n",
      "supervisors\n",
      "children\n",
      "consistent\n",
      "change\n",
      "action\n",
      "making\n",
      "process\n",
      "yesterday\n",
      "page 3\n",
      "concern\n",
      "subject\n",
      "state\n",
      "analyzed\n",
      "lowly\n",
      "raise\n",
      "budget\n",
      "grant\n",
      "status\n",
      "holidays\n",
      "background\n",
      "provided\n",
      "decision\n",
      "raised\n",
      "letter\n",
      "commitment\n",
      "record\n",
      "years\n",
      "molina\n",
      "numbers\n",
      "morning\n",
      "board\n",
      "recently\n",
      "member\n",
      "thing\n",
      "phase\n",
      "table\n",
      "people\n",
      "focus\n",
      "based\n",
      "close\n",
      "extent\n",
      "residents\n",
      "parents\n",
      "brought\n",
      "apartments\n",
      "controller\n",
      "overtime\n",
      "point\n",
      "street\n",
      "wrong\n",
      "found\n",
      "built\n",
      "bring\n",
      "received\n",
      "antonovich\n",
      "department\n",
      "discussion\n",
      "coming\n",
      "asked\n",
      "situation\n",
      "problem\n",
      "money\n",
      "address\n",
      "unrelated\n",
      "direct\n",
      "daughter\n",
      "basically\n",
      "proud\n",
      "approval\n",
      "flight\n",
      "worked\n",
      "death\n",
      "stand\n",
      "letters\n",
      "support\n",
      "continued\n",
      "expertise\n",
      "information\n",
      "charge\n",
      "proposers\n",
      "heard\n",
      "assumption\n",
      "corrections\n",
      "direction\n",
      "questions\n",
      "addressed\n",
      "prepared\n",
      "thomas\n",
      "proceed\n",
      "answer\n",
      "weeks\n",
      "communities\n",
      "companies\n",
      "members\n",
      "station\n",
      "statement\n",
      "colleagues\n",
      "cover\n",
      "looked\n",
      "respond\n",
      "addition\n",
      "intent\n",
      "auditor\n",
      "reviews\n",
      "enter\n",
      "attention\n",
      "interest\n",
      "person\n",
      "continue\n",
      "passed\n",
      "filled\n",
      "absolutely\n",
      "agreement\n",
      "chorus\n",
      "doesn\n",
      "survived\n",
      "presentation\n",
      "order\n",
      "quality\n",
      "jesus\n",
      "yaroslavsky\n",
      "things\n",
      "cases\n",
      "question\n",
      "adjourn\n",
      "wanted\n",
      "knabe\n",
      "memory\n",
      "correct\n",
      "platoons\n",
      "understand\n",
      "chair\n",
      "terms\n",
      "concerned\n",
      "talked\n",
      "spouses\n",
      "consideration\n",
      "sending\n",
      "authorize\n",
      "flexibility\n",
      "apply\n",
      "opposed\n",
      "recommend\n",
      "posting\n",
      "brings\n",
      "aware\n",
      "behalf\n",
      "women\n",
      "assumptions\n",
      "allowed\n",
      "conversation\n",
      "bringing\n",
      "loophole\n",
      "happened\n",
      "mention\n",
      "transparent\n",
      "truth\n",
      "happen\n",
      "reason\n",
      "kings\n",
      "couldn\n",
      "museum\n",
      "revenue\n",
      "guess\n",
      "ordered\n",
      "participated\n",
      "listen\n",
      "matter\n",
      "providing\n",
      "talking\n",
      "option\n",
      "concerns\n",
      "chairman\n",
      "finding\n",
      "fujioka\n",
      "participate\n",
      "threshold\n",
      "proclamation\n",
      "means\n",
      "familiar\n",
      "shortchange\n",
      "declined\n",
      "extend\n",
      "seconded\n",
      "reading\n",
      "ability\n",
      "protect\n",
      "speak\n",
      "create\n",
      "certify\n",
      "present\n",
      "ahead\n",
      "suggest\n",
      "daughters\n",
      "negotiate\n",
      "opportunity\n",
      "prioritize\n",
      "thought\n",
      "pisano\n",
      "application\n",
      "amended\n",
      "steps\n",
      "served\n",
      "adjournments\n",
      "assuming\n",
      "leadership\n",
      "citizens\n",
      "ensure\n",
      "washington\n",
      "included\n",
      "determine\n",
      "prepare\n",
      "start\n",
      "failure\n",
      "continuance\n",
      "applying\n",
      "glory\n",
      "limit\n",
      "moved\n",
      "relates\n",
      "objection\n",
      "kinds\n",
      "friends\n",
      "applause\n"
     ]
    }
   ],
   "source": [
    "for a,b in keywords:\n",
    "    print(a)"
   ]
  },
  {
   "cell_type": "code",
   "execution_count": null,
   "metadata": {
    "collapsed": true
   },
   "outputs": [],
   "source": []
  },
  {
   "cell_type": "code",
   "execution_count": null,
   "metadata": {
    "collapsed": true
   },
   "outputs": [],
   "source": []
  },
  {
   "cell_type": "code",
   "execution_count": 9,
   "metadata": {
    "collapsed": true
   },
   "outputs": [],
   "source": [
    "def read_and_clean_file():\n",
    "    with open('115039_12-16-08.txt', 'r') as f:\n",
    "        raw = f.read()\n",
    "    start = (raw.find(\"REPORT OF ACTION TAKEN IN CLOSED SESSION\")) +85\n",
    "    end = (raw.rfind('Certified Shorthand Reporter'))-10\n",
    "    raw = raw[start:end]\n",
    "    return raw\n",
    "\n",
    "def tokenize_and_further_cleanse(raw):\n",
    "    pattern = r'''(?x) # set flag to allow verbose regexps\n",
    "    (?:[A-Z]\\.)+ # abbreviations, e.g. U.S.A.\n",
    "    | \\w+(?:-\\w+)* # words with optional internal hyphens\n",
    "    | \\d{1,2}:\\d{2} # time as one token\n",
    "    | \\$?\\d+(?:\\.\\d+)?%? # currency and percentages, e.g. $12.40, 82%\n",
    "    | \\.\\.\\. # ellipsis\n",
    "    | [][.,;\"'?():-_`] # these are separate tokens; includes ], [\n",
    "    '''\n",
    "    tokenized_raw_text = nltk.regexp_tokenize(raw, pattern)\n",
    "    tokenized_raw_text_new = [w.lower() for w in tokenized_raw_text if w.isalpha()]\n",
    "    tokenized_raw_text_wo_stopwords = [x for x in tokenized_raw_text_new if x not in stopwords.words('english')]\n",
    "    return tokenized_raw_text_wo_stopwords\n",
    "\n",
    "def most_freq_unigrams():\n",
    "    raw = read_and_clean_file()\n",
    "    tokenized_raw_text_wo_stopwords = tokenize_and_further_cleanse(raw)\n",
    "    mp_freqdist = FreqDist(tokenized_raw_text_wo_stopwords)  # compute the frequency distribution\n",
    "    x=len(tokenized_raw_text_wo_stopwords)\n",
    "    sum=0\n",
    "    for words in mp_freqdist.most_common(20):\n",
    "        #print(words[0])# show the top 100 Unigrams\n",
    "        sum=sum +(len(words[0]))\n",
    "    #print(\"Total Number of Character\",sum)\n",
    "    #return sum\n",
    "    return tokenized_raw_text_wo_stopwords"
   ]
  },
  {
   "cell_type": "code",
   "execution_count": 10,
   "metadata": {
    "collapsed": false
   },
   "outputs": [
    {
     "name": "stdout",
     "output_type": "stream",
     "text": [
      "The most frequent unigrams: ['sup', 'knabe', 'chair', 'call', 'meeting', 'order', 'please', 'everyone', 'would', 'please', 'rise', 'led', 'invocation', 'morning', 'father', 'mauricio', 'goloron', 'st', 'martha', 'church', 'la', 'puente', 'pledge', 'led', 'victor', 'aprea', 'member', 'post', 'west', 'covina', 'american', 'legion', 'father', 'fr', 'mauricio', 'goloron', 'god', 'called', 'us', 'darkness', 'wonderful', 'light', 'may', 'god', 'light', 'guide', 'us', 'protect', 'us', 'community', 'may', 'god', 'wisdom', 'direct', 'board', 'work', 'decisions', 'today', 'every', 'day', 'may', 'god', 'love', 'strengthen', 'work', 'county', 'make', 'god', 'peace', 'make', 'us', 'one', 'help', 'us', 'always', 'strive', 'common', 'good', 'neighbors', 'repeats', 'prayer', 'spanish', 'repeats', 'prayer', 'tagalog', 'amen', 'victor', 'aprea', 'please', 'face', 'flag', 'placing', 'right', 'land', 'heart', 'joining', 'pledge', 'allegiance', 'pledge', 'allegiance', 'recited', 'thank', 'supervisor', 'molina', 'sup', 'molina', 'thank', 'mr', 'chairman', 'honor', 'morning', 'present', 'certificate', 'appreciation', 'father', 'mauricio', 'goloron', 'father', 'goloron', 'born', 'raised', 'southern', 'philippines', 'entered', 'seminary', 'age', 'educated', 'society', 'jesus', 'became', 'ordained', 'priest', 'father', 'goloron', 'came', 'united', 'states', 'served', 'immaculate', 'heart', 'mary', 'church', 'hollywood', 'st', 'catherine', 'laborne', 'church', 'torrens', 'currently', 'heads', 'robust', 'congregation', 'st', 'martha', 'church', 'velinda', 'st', 'martha', 'situated', 'thriving', 'community', 'many', 'compassionate', 'parishioners', 'devoted', 'good', 'works', 'community', 'service', 'offering', 'food', 'banks', 'donating', 'clothing', 'bank', 'needy', 'want', 'extend', 'heartfelt', 'thanks', 'father', 'goloron', 'want', 'present', 'certificate', 'appreciation', 'leading', 'us', 'invocation', 'thank', 'father', 'applause', 'supervisor', 'antonovich', 'sup', 'antonovich', 'want', 'welcome', 'victor', 'aprea', 'covina', 'came', 'today', 'member', 'west', 'covina', 'post', 'american', 'legion', 'retired', 'administrative', 'assistant', 'city', 'los', 'angeles', 'transportation', 'department', 'graduate', 'washington', 'generals', 'high', 'school', 'los', 'angeles', 'university', 'southern', 'california', 'thank', 'coming', 'applause', 'sup', 'knabe', 'chair', 'okay', 'proceed', 'reading', 'agenda', 'clerk', 'sachi', 'hamai', 'good', 'morning', 'mr', 'chairman', 'members', 'board', 'begin', 'today', 'agenda', 'page', 'agenda', 'meeting', 'community', 'development', 'commission', 'items', 'sup', 'knabe', 'chair', 'moved', 'supervisor', 'yaroslavsky', 'seconded', 'antonovich', 'without', 'objection', 'ordered', 'clerk', 'sachi', 'hamai', 'agenda', 'meeting', 'housing', 'authority', 'item', 'sup', 'knabe', 'chair', 'clerk', 'sachi', 'hamai', 'item', 'agenda', 'housing', 'authority', 'sup', 'knabe', 'chair', 'moved', 'yaroslavsky', 'seconded', 'molina', 'without', 'objection', 'ordered', 'clerk', 'sachi', 'hamai', 'page', 'agenda', 'meeting', 'regional', 'park', 'open', 'space', 'district', 'item', 'sup', 'knabe', 'chair', 'moved', 'supervisor', 'molina', 'seconded', 'supervisor', 'antonovich', 'without', 'objection', 'ordered', 'clerk', 'sachi', 'hamai', 'board', 'supervisors', 'items', 'item', 'number', 'request', 'member', 'public', 'hold', 'item', 'remaining', 'items', 'sup', 'knabe', 'chair', 'hold', 'item', 'clerk', 'sachi', 'hamai', 'yes', 'sup', 'knabe', 'chair', 'okay', 'remainder', 'moved', 'supervisor', 'seconded', 'chair', 'without', 'objection', 'ordered', 'clerk', 'sachi', 'hamai', 'items', 'item', 'number', 'posted', 'agenda', 'chief', 'executive', 'officer', 'requests', 'item', 'referred', 'back', 'office', 'sup', 'knabe', 'chair', 'remainder', 'us', 'clerk', 'sachi', 'hamai', 'item', 'sup', 'knabe', 'chair', 'ordered', 'clerk', 'sachi', 'hamai', 'item', 'supervisor', 'antonovich', 'requests', 'item', 'held', 'item', 'number', 'supervisor', 'knabe', 'requests', 'item', 'held', 'item', 'number', 'chief', 'executive', 'officer', 'requests', 'item', 'continued', 'january', 'sup', 'knabe', 'chair', 'ordered', 'clerk', 'sachi', 'hamai', 'item', 'number', 'supervisor', 'knabe', 'requests', 'item', 'held', 'item', 'number', 'supervisor', 'knabe', 'member', 'public', 'request', 'item', 'held', 'item', 'number', 'request', 'member', 'public', 'hold', 'item', 'item', 'number', 'request', 'member', 'public', 'hold', 'item', 'item', 'number', 'request', 'member', 'public', 'hold', 'item', 'item', 'number', 'request', 'member', 'public', 'hold', 'item', 'item', 'request', 'member', 'public', 'hold', 'item', 'item', 'number', 'interim', 'director', 'health', 'services', 'requests', 'corrective', 'action', 'plan', 'continued', 'january', 'settlement', 'approved', 'today', 'remaining', 'items', 'sup', 'knabe', 'chair', 'remaining', 'items', 'moved', 'supervisor', 'seconded', 'supervisor', 'yaroslavsky', 'without', 'objection', 'ordered', 'recognizing', 'holds', 'continuances', 'clerk', 'sachi', 'hamai', 'thank', 'page', 'ordinance', 'introduction', 'item', 'number', 'indicated', 'posted', 'agenda', 'chief', 'executive', 'officer', 'requests', 'item', 'referred', 'back', 'office', 'sup', 'knabe', 'chair', 'ordered', 'clerk', 'sachi', 'hamai', 'discussion', 'items', 'items', 'item', 'hold', 'discussion', 'item', 'indicated', 'supplemental', 'agenda', 'recommendation', 'revised', 'also', 'hold', 'discussion', 'item', 'hold', 'discussion', 'public', 'hearings', 'item', 'hold', 'public', 'hearing', 'item', 'indicated', 'supplemental', 'agenda', 'supervisor', 'requests', 'item', 'continued', 'without', 'discussion', 'january', 'sup', 'knabe', 'chair', 'ordered', 'clerk', 'sachi', 'hamai', 'item', 'indicated', 'supplemental', 'agenda', 'supervisor', 'requests', 'item', 'continued', 'without', 'discussion', 'february', 'sup', 'knabe', 'chair', 'ordered', 'clerk', 'sachi', 'hamai', 'page', 'miscellaneous', 'additions', 'agenda', 'posted', 'hours', 'advance', 'meeting', 'indicated', 'supplemental', 'agenda', 'request', 'member', 'public', 'hold', 'item', 'pursuant', 'government', 'code', 'section', 'chief', 'executive', 'officer', 'requests', 'referred', 'closed', 'session', 'sup', 'knabe', 'chair', 'ordered', 'clerk', 'sachi', 'hamai', 'completes', 'reading', 'agenda', 'supervisorial', 'items', 'begin', 'supervisorial', 'district', 'number', 'sup', 'knabe', 'chair', 'number', 'special', 'presentations', 'call', 'supervisor', 'antonovich', 'supervisor', 'sup', 'antonovich', 'well', 'real', 'great', 'pleasure', 'introduce', 'one', 'great', 'role', 'models', 'michael', 'scioscia', 'former', 'manager', 'los', 'angeles', 'angels', 'anaheim', 'formerly', 'california', 'angels', 'formerly', 'los', 'angeles', 'angels', 'los', 'angeles', 'angels', 'anaheim', 'often', 'play', 'los', 'angeles', 'dodgers', 'chinatown', 'time', 'time', 'laughter', 'recognition', 'hard', 'work', 'leadership', 'dedication', 'towards', 'guiding', 'angels', 'anaheim', 'american', 'league', 'western', 'division', 'championship', 'second', 'consecutive', 'year', 'posting', 'wins', 'single', 'system', 'first', 'time', 'franchise', 'history', 'angels', 'season', 'franchise', 'regular', 'season', 'ended', 'angels', 'winning', 'seventh', 'american', 'west', 'division', 'title', 'setting', 'franchise', 'record', 'single', 'season', 'wins', 'mike', 'scioscia', 'former', 'catcher', 'los', 'angeles', 'dodgers', 'marked', 'ninth', 'season', 'manager', 'angels', 'owns', 'record', 'winning', 'percentage', 'angels', 'reached', 'win', 'plateau', 'september', 'victory', 'seattle', 'presently', 'michael', 'manager', 'american', 'league', 'baseball', 'manager', 'angel', 'history', 'guided', 'angels', 'post', 'season', 'four', 'last', 'five', 'seasons', 'angels', 'manager', 'win', 'american', 'league', 'western', 'division', 'championship', 'surpassing', 'gene', 'mock', 'led', 'angels', 'five', 'straight', 'winning', 'seasons', 'leadership', 'five', 'last', 'seven', 'seasons', 'numerous', 'community', 'events', 'include', 'co', 'chair', 'angels', 'care', 'roses', 'golf', 'tournament', 'chairman', 'heart', 'association', 'heart', 'soul', 'walk', 'supports', 'local', 'little', 'leagues', 'throughout', 'mike', 'scioscia', 'youth', 'baseball', 'clinic', 'foundation', 'also', 'leadership', 'monrovia', 'boys', 'girls', 'club', 'raise', 'percent', 'budget', 'january', 'february', 'annual', 'dinner', 'mike', 'phenomenal', 'job', 'auctioneer', 'raise', 'amount', 'money', 'entire', 'year', 'helps', 'young', 'boys', 'girls', 'san', 'gabriel', 'valley', 'monrovia', 'inducted', 'italian', 'american', 'hall', 'fame', 'major', 'league', 'baseball', 'arizona', 'fall', 'league', 'fame', 'also', 'honoring', 'los', 'angeles', 'angels', 'inviting', 'los', 'angeles', 'county', 'boys', 'girls', 'attend', 'annual', 'children', 'holiday', 'celebration', 'takes', 'place', 'today', 'afternoon', 'angels', 'stadium', 'tony', 'riggins', 'general', 'manager', 'michael', 'reading', 'children', 'children', 'also', 'get', 'opportunity', 'sing', 'holiday', 'songs', 'make', 'specially', 'designed', 'angel', 'christmas', 'tree', 'ornaments', 'also', 'treated', 'traditional', 'baseball', 'meal', 'allowed', 'select', 'christmas', 'gift', 'summer', 'part', 'national', 'summer', 'mental', 'health', 'awareness', 'program', 'teamed', 'angels', 'general', 'manager', 'tony', 'riggins', 'left', 'hand', 'pitcher', 'darren', 'oliver', 'hosting', 'prevention', 'early', 'intervention', 'event', 'encouraging', 'children', 'eat', 'proper', 'foods', 'would', 'turn', 'help', 'promote', 'positive', 'mental', 'health', 'wellness', 'attitude', 'students', 'frank', 'telamo', 'elementary', 'school', 'los', 'angeles', 'located', 'near', 'korea', 'town', 'nine', 'different', 'languages', 'spoken', 'campus', 'participated', 'exciting', 'event', 'michael', 'want', 'give', 'manager', 'year', 'plaque', 'county', 'los', 'angeles', 'wish', 'many', 'many', 'successful', 'seasons', 'opportunity', 'world', 'series', 'couple', 'years', 'ago', 'great', 'feeling', 'little', 'different', 'little', 'boy', 'wrigley', 'field', 'watching', 'los', 'angeles', 'angels', 'lose', 'bill', 'kelly', 'manager', 'anyway', 'congratulations', 'god', 'bless', 'applause', 'los', 'angeles', 'angels', 'western', 'division', 'championship', 'good', 'champions', 'applause', 'mike', 'scioscia', 'supervisor', 'antonovich', 'board', 'supervisors', 'want', 'thank', 'ver', 'much', 'presentation', 'honor', 'amount', 'support', 'get', 'southern', 'california', 'incredible', 'almost', 'million', 'fans', 'came', 'see', 'us', 'angels', 'stadium', 'great', 'regular', 'season', 'prepare', 'next', 'season', 'supervisor', 'going', 'little', 'better', 'playoffs', 'know', 'disappointed', 'disappointed', 'great', 'regular', 'season', 'thank', 'plaque', 'ceremony', 'going', 'better', 'playoffs', 'supervisor', 'promise', 'thank', 'much', 'god', 'bless', 'applause', 'sup', 'knabe', 'chair', 'right', 'mark', 'understand', 'special', 'presentation', 'us', 'well', 'huh', 'sup', 'thank', 'much', 'mr', 'chairman', 'members', 'pleased', 'ask', 'joined', 'los', 'angeles', 'county', 'arts', 'commission', 'director', 'know', 'laura', 'zucker', 'representing', 'united', 'children', 'chorus', 'directors', 'willie', 'norwood', 'sr', 'ravaline', 'harold', 'members', 'chorus', 'hear', 'soon', 'like', 'know', 'formed', 'summer', 'known', 'crusade', 'christ', 'campaign', 'held', 'county', 'los', 'angeles', 'young', 'men', 'women', 'various', 'churches', 'christ', 'throughout', 'los', 'angeles', 'surrounding', 'counties', 'came', 'together', 'perform', 'known', 'tremendous', 'event', 'rave', 'reviews', 'following', 'event', 'requested', 'group', 'remain', 'together', 'want', 'know', 'group', 'ranging', 'ages', 'late', 'enlighten', 'audiences', 'extraordinary', 'gifts', 'entertaining', 'us', 'know', 'capello', 'singing', 'chorus', 'director', 'willie', 'norwood', 'sr', 'directing', 'last', 'years', 'minister', 'music', 'woodland', 'hills', 'church', 'christ', 'father', 'singer', 'actress', 'brandy', 'norwood', 'singer', 'actor', 'willie', 'ray', 'jay', 'norwood', 'also', 'sang', 'chorus', 'vocally', 'talented', 'soon', 'see', 'part', 'family', 'granddaughter', 'also', 'joined', 'chorus', 'tremendously', 'honored', 'us', 'today', 'mr', 'chairman', 'colleagues', 'want', 'note', 'figueroa', 'church', 'christ', 'know', 'little', 'angels', 'chorus', 'one', 'first', 'invited', 'sing', 'late', 'accomplish', 'many', 'many', 'great', 'things', 'let', 'say', 'indeed', 'pleased', 'us', 'morning', 'want', 'know', 'featured', 'holiday', 'celebration', 'national', 'show', 'december', 'december', 'nationwide', 'make', 'sure', 'miss', 'addition', 'performing', 'annual', 'holiday', 'celebration', 'dorothy', 'chandler', 'pavilion', 'december', 'may', 'take', 'opportunity', 'present', 'presentation', 'thank', 'contributions', 'delighted', 'hear', 'immediately', 'following', 'please', 'join', 'welcoming', 'congratulating', 'united', 'children', 'chorus', 'applause', 'hear', 'ravaline', 'hear', 'chorus', 'ravaline', 'harold', 'honorable', 'mark', 'supervisor', 'second', 'district', 'proudly', 'represent', 'supervisors', 'also', 'serve', 'great', 'city', 'los', 'angeles', 'laura', 'zucker', 'adam', 'davis', 'heather', 'rigby', 'los', 'angeles', 'county', 'arts', 'commission', 'recommendation', 'united', 'children', 'chorus', 'great', 'honor', 'mr', 'norwood', 'united', 'children', 'chorus', 'parents', 'feel', 'privileged', 'today', 'accept', 'role', 'honoring', 'achievements', 'last', 'years', 'also', 'happy', 'perform', 'year', 'annual', 'holiday', 'celebration', 'significant', 'dating', 'back', 'early', 'performed', 'years', 'old', 'supervisor', 'kenneth', 'hahn', 'years', 'later', 'still', 'excited', 'working', 'magnificent', 'group', 'young', 'people', 'ages', 'mentioned', 'featured', 'celebration', 'tomorrow', 'night', 'first', 'year', 'highlights', 'version', 'show', 'air', 'first', 'time', 'tomorrow', 'night', 'december', 'stations', 'across', 'country', 'christmas', 'eve', 'also', 'invite', 'supervisor', 'said', 'free', 'free', 'parking', 'invite', 'friends', 'hope', 'see', 'mr', 'norwood', 'parents', 'thank', 'wonderful', 'honor', 'hope', 'continue', 'working', 'serving', 'community', 'many', 'years', 'come', 'thank', 'applause', 'believe', 'going', 'perform', 'performing', 'song', 'singing', 'national', 'show', 'tomorrow', 'night', 'jesus', 'oh', 'wonderful', 'child', 'choir', 'singing', 'jesus', 'oh', 'wonderful', 'child', 'jesus', 'jesus', 'lowly', 'meek', 'mild', 'new', 'life', 'new', 'hope', 'new', 'joy', 'brings', 'listen', 'angels', 'sing', 'glory', 'glory', 'glory', 'newborn', 'king', 'jesus', 'jesus', 'jesus', 'oh', 'wonderful', 'child', 'jesus', 'jesus', 'jesus', 'lowly', 'meek', 'mild', 'new', 'life', 'new', 'hope', 'new', 'joy', 'brings', 'listen', 'angels', 'sing', 'glory', 'glory', 'glory', 'newborn', 'king', 'heralded', 'angels', 'born', 'lowly', 'manger', 'virgin', 'mary', 'mother', 'joseph', 'earthly', 'father', 'three', 'wise', 'men', 'came', 'afar', 'guided', 'shining', 'star', 'see', 'king', 'jesus', 'lay', 'manger', 'filled', 'hay', 'jesus', 'jesus', 'jesus', 'oh', 'wonderful', 'child', 'jesus', 'jesus', 'jesus', 'lowly', 'meek', 'mild', 'new', 'life', 'new', 'hope', 'new', 'joy', 'brings', 'listen', 'angels', 'sing', 'glory', 'glory', 'glory', 'newborn', 'king', 'heralded', 'angels', 'born', 'lowly', 'manger', 'virgin', 'mary', 'mother', 'know', 'joseph', 'earthly', 'father', 'three', 'wise', 'men', 'traveling', 'afar', 'guided', 'shining', 'star', 'wanted', 'see', 'king', 'jesus', 'lay', 'manger', 'filled', 'hay', 'jesus', 'jesus', 'jesus', 'oh', 'wonderful', 'child', 'jesus', 'jesus', 'jesus', 'lowly', 'meek', 'mild', 'new', 'life', 'new', 'hope', 'listen', 'angels', 'sing', 'glory', 'glory', 'glory', 'newborn', 'king', 'yeah', 'jesus', 'glory', 'newborn', 'king', 'glory', 'glory', 'newborn', 'heavenly', 'king', 'peace', 'applause', 'sup', 'thank', 'much', 'appreciate', 'look', 'forward', 'seeing', 'tomorrow', 'evening', 'extend', 'warm', 'invitation', 'make', 'dorothy', 'chandler', 'pavilion', 'mr', 'chairman', 'let', 'give', 'another', 'big', 'round', 'applause', 'applause', 'sup', 'knabe', 'chair', 'great', 'way', 'start', 'last', 'meeting', 'year', 'thank', 'much', 'going', 'ask', 'dr', 'john', 'schunoff', 'kathy', 'cheister', 'ph', 'director', 'county', 'emergency', 'medical', 'services', 'agency', 'join', 'along', 'representatives', 'county', 'trauma', 'centers', 'pleasure', 'join', 'colleagues', 'today', 'going', 'recognize', 'various', 'trauma', 'centers', 'districts', 'recognizing', 'los', 'angeles', 'county', 'trauma', 'system', 'anniversary', 'hospitals', 'honor', 'today', 'provide', 'county', 'residents', 'highest', 'level', 'surgical', 'interventions', 'suffering', 'major', 'loss', 'shock', 'resulting', 'vehicular', 'crashes', 'gunshot', 'knife', 'wounds', 'falls', 'violent', 'accidents', 'trauma', 'leading', 'cause', 'death', 'people', 'ages', 'approximately', 'patients', 'treated', 'los', 'angeles', 'county', 'trauma', 'centers', 'per', 'year', 'roughly', 'patients', 'day', 'since', 'nearly', 'critically', 'injured', 'trauma', 'patients', 'treated', 'local', 'trauma', 'centers', 'make', 'presentation', 'two', 'hospitals', 'said', 'folks', 'upstairs', 'morning', 'said', 'guess', 'know', 'around', 'long', 'enough', 'remember', 'years', 'ago', 'everybody', 'walked', 'hauls', 'eighth', 'floor', 'ask', 'involved', 'trauma', 'service', 'created', 'level', 'created', 'level', 'level', 'said', 'ladies', 'gentlemen', 'survivors', 'let', 'give', 'big', 'round', 'applause', 'applause', 'going', 'ask', 'liz', 'ragenold', 'long', 'beach', 'memorial', 'medical', 'center', 'join', 'want', 'thank', 'long', 'beach', 'memorial', 'ongoing', 'efforts', 'service', 'trauma', 'care', 'thank', 'dr', 'james', 'murray', 'medical', 'center', 'well', 'appreciate', 'city', 'long', 'beach', 'fortunate', 'supervisor', 'molina', 'presentations', 'sup', 'molina', 'thank', 'mr', 'chairman', 'know', 'say', 'enough', 'wonderful', 'partnership', 'whole', 'area', 'trauma', 'supervisor', 'knabe', 'said', 'years', 'ago', 'everybody', 'rushing', 'front', 'trying', 'figure', 'get', 'part', 'action', 'frankly', 'end', 'day', 'everybody', 'knows', 'hardest', 'service', 'delivery', 'model', 'yet', 'significant', 'us', 'hope', 'never', 'end', 'trauma', 'ward', 'reality', 'want', 'make', 'sure', 'one', 'available', 'us', 'ever', 'need', 'always', 'impressed', 'quality', 'work', 'delivery', 'patient', 'care', 'trauma', 'facilities', 'want', 'begin', 'honoring', 'course', 'one', 'county', 'one', 'superstars', 'always', 'impressed', 'county', 'hospital', 'sees', 'trauma', 'patients', 'treats', 'percent', 'trauma', 'patients', 'county', 'people', 'year', 'new', 'facility', 'today', 'helicopter', 'pad', 'roof', 'going', 'resulting', 'much', 'care', 'course', 'much', 'rapid', 'response', 'patients', 'honored', 'today', 'make', 'presentation', 'administrator', 'pete', 'delgado', 'also', 'shirley', 'nemoto', 'joining', 'us', 'want', 'congratulate', 'outstanding', 'job', 'congratulations', 'applause', 'well', 'also', 'another', 'superstar', 'first', 'district', 'proud', 'california', 'hospital', 'going', 'ask', 'diana', 'torres', 'gladys', 'guerrero', 'come', 'join', 'us', 'california', 'hospital', 'third', 'busiest', 'trauma', 'hospital', 'county', 'seeing', 'percent', 'county', 'trauma', 'patients', 'trauma', 'patients', 'every', 'year', 'really', 'appreciate', 'partnership', 'us', 'sticking', 'longest', 'time', 'vital', 'partner', 'healthcare', 'safety', 'net', 'throughout', 'county', 'want', 'congratulate', 'california', 'hospital', 'medical', 'center', 'congratulations', 'applause', 'sup', 'knabe', 'chair', 'thank', 'supervisor', 'sup', 'thank', 'much', 'mr', 'chairman', 'colleagues', 'pleased', 'able', 'make', 'presentation', 'two', 'stellar', 'trauma', 'centers', 'county', 'network', 'know', 'opportunity', 'relate', 'institutions', 'capacity', 'chair', 'select', 'committee', 'healthcare', 'crisis', 'county', 'los', 'angeles', 'assembly', 'senate', 'delighted', 'able', 'acknowledge', 'context', 'ceremony', 'known', 'healthcare', 'providers', 'among', 'top', 'tier', 'many', 'respects', 'specialists', 'respective', 'staffs', 'take', 'note', 'fact', 'continue', 'work', 'hard', 'every', 'day', 'may', 'ask', 'program', 'manager', 'laura', 'schneider', 'director', 'dr', 'brant', 'putnam', 'harbor', 'medical', 'center', 'come', 'forward', 'make', 'presentation', 'great', 'appreciation', 'admiration', 'work', 'done', 'work', 'continue', 'behalf', 'county', 'board', 'supervisors', 'present', 'great', 'appreciation', 'applause', 'may', 'ask', 'program', 'manager', 'director', 'renee', 'gray', 'dr', 'takachi', 'shepherd', 'st', 'francis', 'medical', 'center', 'come', 'forward', 'present', 'resolution', 'commendation', 'work', 'done', 'county', 'los', 'angeles', 'particularly', 'southeast', 'portion', 'county', 'los', 'angeles', 'continue', 'distinguish', 'even', 'challenging', 'circumstances', 'severely', 'impacted', 'recent', 'years', 'continued', 'distinguish', 'work', 'throughout', 'hospital', 'specifically', 'terms', 'trauma', 'center', 'wish', 'know', 'county', 'los', 'angeles', 'entirety', 'particularly', 'patients', 'visit', 'st', 'francis', 'medical', 'center', 'appreciative', 'work', 'done', 'partner', 'work', 'needs', 'done', 'future', 'thank', 'much', 'applause', 'thank', 'mr', 'chairman', 'sup', 'knabe', 'chair', 'thank', 'mr', 'yaroslavsky', 'sup', 'yaroslavsky', 'several', 'mr', 'chairman', 'first', 'third', 'district', 'probably', 'largely', 'centrally', 'located', 'district', 'county', 'straddles', 'hollywood', 'hills', 'santa', 'monica', 'mountains', 'five', 'trauma', 'centers', 'proud', 'first', 'let', 'introduce', 'present', 'proclamation', 'children', 'hospital', 'los', 'angeles', 'children', 'hospital', 'trauma', 'center', 'pediatric', 'trauma', 'center', 'think', 'northerly', 'pediatric', 'center', 'county', 'los', 'angeles', 'something', 'trying', 'rectify', 'san', 'fernando', 'valley', 'hopefully', 'help', 'children', 'hospital', 'point', 'outstanding', 'job', 'nationally', 'internationally', 'known', 'let', 'present', 'proclamation', 'children', 'hospital', 'michael', 'jordan', 'representing', 'hospital', 'applause', 'children', 'two', 'blocks', 'outside', 'supervisor', 'molina', 'district', 'share', 'sphere', 'influence', 'let', 'add', 'word', 'make', 'rest', 'presentations', 'one', 'thing', 'thank', 'people', 'los', 'angeles', 'county', 'voted', 'proposition', 'measure', 'b', 'provided', 'much', 'needed', 'funding', 'helped', 'trauma', 'centers', 'survive', 'time', 'trauma', 'centers', 'county', 'several', 'threatening', 'close', 'able', 'stabilize', 'california', 'hospital', 'opened', 'result', 'problems', 'king', 'hope', 'temporary', 'able', 'open', 'trauma', 'center', 'california', 'part', 'funds', 'provided', 'measure', 'think', 'know', 'important', 'people', 'los', 'angeles', 'county', 'overwhelmingly', 'supported', 'deserve', 'thanks', 'made', 'good', 'promise', 'expectations', 'thrilled', 'next', 'let', 'present', 'proclamation', 'may', 'winning', 'football', 'team', 'year', 'great', 'medical', 'center', 'medical', 'center', 'let', 'ask', 'marilyn', 'cohen', 'marilyn', 'come', 'next', 'privilege', 'present', 'proclamation', 'cedar', 'sinai', 'medical', 'center', 'dan', 'marbillis', 'next', 'one', 'two', 'trauma', 'centers', 'san', 'fernando', 'valley', 'northridge', 'hospital', 'medical', 'center', 'representing', 'today', 'melanie', 'crowley', 'melanie', 'last', 'certainly', 'least', 'providence', 'holy', 'cross', 'medical', 'center', 'great', 'partner', 'county', 'los', 'angeles', 'representing', 'holy', 'cross', 'judy', 'sterling', 'judy', 'hope', 'building', 'construction', 'see', 'construction', 'fruition', 'soon', 'enough', 'expand', 'trauma', 'center', 'thank', 'mr', 'chairman', 'sup', 'knabe', 'chair', 'thank', 'supervisor', 'antonovich', 'sup', 'antonovich', 'well', 'two', 'hospitals', 'area', 'proud', 'done', 'superb', 'job', 'san', 'gabriel', 'valley', 'huntington', 'memorial', 'trauma', 'center', 'santa', 'clarita', 'valley', 'henry', 'mayo', 'newhall', 'memorial', 'hospital', 'huntington', 'also', 'good', 'emergency', 'room', 'little', 'boy', 'went', 'yesterday', 'knee', 'injury', 'great', 'service', 'henry', 'mayo', 'sup', 'knabe', 'chair', 'okay', 'going', 'thank', 'mike', 'group', 'photo', 'five', 'supervisors', 'get', 'everybody', 'nice', 'close', 'moment', 'celebration', 'years', 'think', 'us', 'want', 'underestimate', 'importance', 'hospitals', 'provide', 'million', 'plus', 'residents', 'visitors', 'whoever', 'may', 'let', 'give', 'big', 'round', 'applause', 'need', 'applause', 'kathy', 'dr', 'schunhoff', 'like', 'say', 'couple', 'words', 'dr', 'john', 'schunhoff', 'thank', 'supervisor', 'fact', 'trauma', 'centers', 'backbone', 'emergency', 'medical', 'system', 'exemplified', 'tragic', 'incident', 'metrolink', 'really', 'shows', 'value', 'trauma', 'centers', 'entire', 'county', 'certainly', 'honor', 'today', 'kathy', 'cheister', 'wanted', 'thank', 'trauma', 'centers', 'hard', 'work', 'daily', 'basis', 'years', 'taking', 'care', 'patients', 'proud', 'also', 'thank', 'board', 'ongoing', 'support', 'emergency', 'medical', 'services', 'trauma', 'services', 'thank', 'sup', 'knabe', 'chair', 'thank', 'thank', 'much', 'applause', 'nice', 'holiday', 'healthy', 'hope', 'need', 'see', 'sup', 'molina', 'ditto', 'right', 'sup', 'knabe', 'chair', 'thank', 'supervisor', 'antonovich', 'sup', 'antonovich', 'like', 'bring', 'los', 'angeles', 'kings', 'hockey', 'club', 'us', 'danelle', 'prado', 'james', 'klefley', 'jennifer', 'weinstein', 'luc', 'robitaille', 'los', 'angeles', 'kings', 'hockey', 'club', 'trish', 'ploehn', 'director', 'department', 'children', 'family', 'services', 'going', 'recognize', 'hard', 'work', 'leadership', 'dedication', 'partnering', 'department', 'children', 'family', 'services', 'promote', 'positive', 'outcomes', 'children', 'foster', 'care', 'help', 'find', 'permanent', 'loving', 'families', 'support', 'freddie', 'mack', 'foundation', 'wednesday', 'child', 'program', 'fox', 'news', 'heart', 'gallery', 'los', 'angeles', 'department', 'adoption', 'matching', 'events', 'awareness', 'campaigns', 'children', 'foster', 'homes', 'group', 'homes', 'county', 'one', 'reason', 'another', 'parents', 'homes', 'nearly', 'awaiting', 'adopted', 'young', 'people', 'waiting', 'families', 'give', 'love', 'support', 'need', 'ages', 'families', 'adopt', 'show', 'generous', 'spirit', 'nation', 'every', 'child', 'desires', 'permanent', 'home', 'parents', 'adopt', 'child', 'love', 'lives', 'forever', 'changed', 'parents', 'decision', 'adopt', 'among', 'life', 'greatest', 'happiest', 'turning', 'points', 'stop', 'proliferation', 'gangs', 'violence', 'children', 'need', 'grow', 'stable', 'loving', 'homes', 'knowing', 'difference', 'right', 'wrong', 'enable', 'ability', 'say', 'destructive', 'lifestyles', 'children', 'future', 'also', 'future', 'criminals', 'make', 'difference', 'encourage', 'become', 'families', 'responsible', 'individuals', 'also', 'say', 'crime', 'drugs', 'information', 'foster', 'children', 'program', 'adoptions', 'call', 'county', 'hot', 'line', 'time', 'let', 'make', 'presentation', 'first', 'los', 'angeles', 'kings', 'hockey', 'club', 'sup', 'knabe', 'chair', 'right', 'applause', 'luc', 'robitaille', 'danelle', 'prado', 'james', 'jennifer', 'luc', 'robitaille', 'thank', 'much', 'thank', 'much', 'many', 'years', 'kings', 'proud', 'sponsor', 'freddie', 'mack', 'foundation', 'wednesday', 'child', 'program', 'support', 'endeavors', 'county', 'department', 'children', 'family', 'services', 'collective', 'quest', 'find', 'permanent', 'loving', 'homes', 'hundreds', 'county', 'foster', 'children', 'special', 'thanks', 'supervisor', 'antonovich', 'members', 'board', 'welcoming', 'new', 'supervisor', 'mike', 'ridley', 'thomas', 'trish', 'ploehn', 'f', 'course', 'christine', 'devine', 'course', 'fox', 'wednesday', 'child', 'team', 'thank', 'board', 'supervisors', 'tremendous', 'honor', 'recognition', 'thank', 'letting', 'us', 'part', 'team', 'thank', 'much', 'applause', 'trish', 'ploehn', 'behalf', 'department', 'many', 'children', 'impacted', 'positively', 'kindness', 'generosity', 'kings', 'thank', 'much', 'blessing', 'us', 'blessing', 'children', 'applause', 'sup', 'antonovich', 'terrier', 'mix', 'likes', 'baseball', 'hockey', 'maybe', 'could', 'nice', 'little', 'mascot', 'either', 'angels', 'kings', 'little', 'noel', 'seven', 'months', 'old', 'looking', 'home', 'bite', 'think', 'need', 'girlfriend', 'type', 'dog', 'okay', 'anyway', 'little', 'hi', 'yeah', 'trying', 'get', 'home', 'yeah', 'trying', 'get', 'home', 'anyway', 'call', 'little', 'noel', 'holidays', 'also', 'looks', 'like', 'really', 'go', 'hollywood', 'disney', 'movie', 'dogs', 'last', 'four', 'weeks', 'promises', 'go', 'strike', 'zev', 'likes', 'west', 'los', 'angeles', 'okay', 'barbara', 'barbara', 'sup', 'knabe', 'chair', 'right', 'go', 'back', 'agenda', 'thank', 'everyone', 'thank', 'kings', 'support', 'children', 'family', 'services', 'programs', 'supervisor', 'molina', 'first', 'district', 'first', 'adjournments', 'special', 'items', 'sup', 'molina', 'let', 'begin', 'item', 'number', 'understand', 'sheriffs', 'get', 'back', 'work', 'item', 'probably', 'lot', 'discussion', 'know', 'want', 'begin', 'make', 'presentation', 'sheriff', 'waldie', 'make', 'presentation', 'good', 'sheriff', 'larry', 'waldie', 'good', 'morning', 'happy', 'holidays', 'thank', 'miss', 'molina', 'sup', 'molina', 'certainly', 'sheriff', 'larry', 'waldie', 'basically', 'asking', 'board', 'authorize', 'sheriff', 'department', 'charter', 'private', 'airline', 'transport', 'deputy', 'personnel', 'presidential', 'inauguration', 'washington', 'agenda', 'item', 'requesting', 'sup', 'knabe', 'chair', 'well', 'requesting', 'considerable', 'discussion', 'last', 'week', 'items', 'changed', 'think', 'would', 'appropriate', 'would', 'address', 'one', 'costs', 'obviously', 'taking', 'deputies', 'streets', 'particularly', 'unincorporated', 'areas', 'know', 'others', 'questions', 'think', 'might', 'appropriate', 'least', 'changed', 'last', 'tuesday', 'million', 'dollars', 'cost', 'today', 'obviously', 'letter', 'saying', 'costs', 'think', 'would', 'appropriate', 'laid', 'exactly', 'today', 'sheriff', 'larry', 'waldie', 'yes', 'absolutely', 'cost', 'county', 'los', 'angeles', 'washington', 'police', 'told', 'us', 'written', 'form', 'reimburse', 'us', 'costs', 'costs', 'flight', 'costs', 'salvage', 'deputy', 'sheriffs', 'full', 'cost', 'per', 'diem', 'granted', 'federal', 'stipend', 'per', 'diem', 'addition', 'achieved', 'booking', 'hotel', 'people', 'stay', 'hotel', 'pick', 'costs', 'reality', 'cost', 'county', 'los', 'angeles', 'sup', 'yaroslavsky', 'picking', 'indirect', 'costs', 'sheriff', 'larry', 'waldie', 'indirect', 'costs', 'supervisor', 'sup', 'yaroslavsky', 'employee', 'benefits', 'sheriff', 'larry', 'waldie', 'employee', 'benefits', 'built', 'salaries', 'sheriffs', 'washington', 'would', 'paid', 'would', 'paid', 'go', 'paid', 'sup', 'yaroslavsky', 'conversation', 'sheriff', 'baca', 'looking', 'contract', 'rose', 'parade', 'provide', 'sheriff', 'protection', 'services', 'rose', 'parade', 'charge', 'direct', 'indirect', 'costs', 'case', 'understand', 'city', 'washington', 'inaugural', 'committee', 'refused', 'pay', 'indirect', 'costs', 'charging', 'one', 'price', 'city', 'pasadena', 'charging', 'thing', 'city', 'washington', 'aware', 'sheriff', 'larry', 'waldie', 'well', 'aware', 'paying', 'benefits', 'section', 'talking', 'washington', 'familiar', 'sup', 'yaroslavsky', 'pasadena', 'sheriff', 'larry', 'waldie', 'okay', 'would', 'case', 'aware', 'whether', 'cost', 'paid', 'regardless', 'sup', 'yaroslavsky', 'cost', 'quarter', 'million', 'dollars', 'understand', 'sheriff', 'larry', 'waldie', 'case', 'exact', 'yes', 'sup', 'yaroslavsky', 'thank', 'sheriff', 'larry', 'waldie', 'second', 'point', 'regarding', 'staffing', 'levels', 'unincorporated', 'area', 'car', 'filled', 'filled', 'according', 'every', 'single', 'contract', 'filled', 'position', 'filled', 'filled', 'normal', 'circumstances', 'sup', 'knabe', 'chair', 'straight', 'time', 'overtime', 'sheriff', 'larry', 'waldie', 'overtime', 'overtime', 'used', 'done', 'originally', 'wanted', 'people', 'without', 'use', 'overtime', 'cut', 'could', 'backfilling', 'administrative', 'people', 'training', 'people', 'using', 'relief', 'factor', 'avoiding', 'training', 'particular', 'days', 'able', 'ensure', 'would', 'put', 'people', 'field', 'regular', 'positions', 'without', 'use', 'overtime', 'sup', 'knabe', 'chair', 'supervisor', 'molina', 'questions', 'sup', 'molina', 'well', 'questions', 'gotten', 'answers', 'think', 'want', 'getting', 'full', 'reimbursement', 'reimbursement', 'going', 'benefits', 'think', 'number', 'awfully', 'high', 'wish', 'would', 'lot', 'less', 'looked', 'tried', 'understand', 'backfill', 'going', 'cost', 'us', 'time', 'half', 'understanding', 'sort', 'number', 'usually', 'people', 'vacation', 'sick', 'leave', 'something', 'like', 'part', 'going', 'permit', 'sick', 'leave', 'going', 'permit', 'vacations', 'period', 'time', 'regular', 'standard', 'backfill', 'necessarily', 'overtime', 'backfill', 'correct', 'sheriff', 'larry', 'waldie', 'yes', 'absolutely', 'correct', 'every', 'single', 'deputy', 'sheriff', 'item', 'every', 'assignment', 'relief', 'factor', 'usually', 'training', 'days', 'cover', 'sicks', 'injuries', 'vacation', 'time', 'therefore', 'going', 'limit', 'vacation', 'days', 'training', 'days', 'ensure', 'relief', 'factor', 'available', 'pick', 'without', 'pay', 'overtime', 'sup', 'molina', 'received', 'couple', 'letters', 'constituents', 'concern', 'concerns', 'issues', 'related', 'related', 'example', 'raise', 'issue', 'bearing', 'brunt', 'costs', 'want', 'make', 'sure', 'reimbursing', 'us', 'second', 'taking', 'deputies', 'patrol', 'cars', 'creating', 'insecurity', 'situations', 'county', 'trying', 'provide', 'security', 'washington', 'sheriff', 'larry', 'waldie', 'absolutely', 'first', 'priority', 'obviously', 'county', 'los', 'angeles', 'citizens', 'serve', 'absolutely', 'endangered', 'way', 'shape', 'form', 'cut', 'back', 'way', 'shape', 'form', 'sup', 'molina', 'think', 'issue', 'many', 'people', 'raise', 'course', 'whole', 'issue', 'state', 'budget', 'situation', 'fact', 'leftover', 'money', 'guess', 'situation', 'want', 'say', 'mutual', 'support', 'guess', 'think', 'want', 'express', 'concern', 'large', 'number', 'think', 'negotiate', 'made', 'larger', 'request', 'originally', 'sheriff', 'larry', 'waldie', 'yes', 'asked', 'people', 'supply', 'otherwise', 'would', 'gone', 'overtime', 'factor', 'paying', 'cut', 'people', 'want', 'said', 'could', 'sup', 'molina', 'one', 'constituents', 'wrote', 'felt', 'go', 'along', 'order', 'take', 'pictures', 'partying', 'understand', 'travel', 'sunday', 'train', 'monday', 'work', 'tuesday', 'day', 'hours', 'understand', 'return', 'wednesday', 'correct', 'sheriff', 'larry', 'waldie', 'correct', 'little', 'time', 'party', 'sup', 'molina', 'would', 'say', 'think', 'certainly', 'concern', 'well', 'initially', 'concern', 'said', 'full', 'reimbursement', 'point', 'time', 'looks', 'like', 'think', 'extensive', 'still', 'seem', 'problem', 'standpoint', 'allowing', 'happen', 'hopefully', 'get', 'cooperation', 'sheriff', 'issues', 'within', 'districts', 'communities', 'know', 'ongoing', 'concern', 'time', 'time', 'think', 'opportunity', 'think', 'mistaken', 'one', 'jurisdiction', 'sending', 'many', 'although', 'part', 'sharing', 'us', 'much', 'many', 'going', 'various', 'jurisdictions', 'correct', 'sheriff', 'larry', 'waldie', 'correct', 'know', 'numbers', 'number', 'obviously', 'quite', 'large', 'yes', 'sup', 'molina', 'okay', 'questions', 'sup', 'antonovich', 'deputy', 'retires', 'post', 'certification', 'retire', 'date', 'retirement', 'day', 'end', 'fiscal', 'year', 'sheriff', 'larry', 'waldie', 'longer', 'peace', 'officer', 'state', 'california', 'point', 'minute', 'retires', 'particular', 'configuration', 'demanding', 'peace', 'officers', 'state', 'california', 'sup', 'antonovich', 'police', 'officer', 'one', 'come', 'back', 'days', 'sheriff', 'larry', 'waldie', 'know', 'legal', 'ramification', 'means', 'presume', 'would', 'yes', 'sup', 'antonovich', 'exercise', 'retirees', 'come', 'back', 'days', 'eligible', 'still', 'entitled', 'employees', 'would', 'shortchange', 'communities', 'necessary', 'patrols', 'ensure', 'reduced', 'response', 'times', 'adequate', 'force', 'type', 'emergency', 'sheriff', 'larry', 'waldie', 'first', 'shortchanging', 'communities', 'number', 'cars', 'today', 'go', 'washington', 'tomorrow', 'shortchanging', 'anybody', 'days', 'employees', 'would', 'require', 'full', 'physical', 'background', 'hired', 'would', 'take', 'enormous', 'amount', 'time', 'able', 'many', 'know', 'would', 'qualified', 'based', 'upon', 'physical', 'condition', 'well', 'sup', 'antonovich', 'going', 'shortchange', 'could', 'say', 'board', 'could', 'eliminate', 'positions', 'day', 'would', 'impact', 'response', 'time', 'patrol', 'sheriff', 'larry', 'waldie', 'said', 'use', 'relief', 'factor', 'built', 'every', 'single', 'car', 'cover', 'vacations', 'sick', 'time', 'whatever', 'else', 'comes', 'play', 'take', 'someone', 'street', 'factor', 'built', 'use', 'time', 'time', 'training', 'handling', 'issues', 'emergencies', 'yes', 'sup', 'antonovich', 'yes', 'emergency', 'occurs', 'one', 'station', 'another', 'one', 'location', 'another', 'miles', 'away', 'sheriff', 'larry', 'waldie', 'well', 'prepared', 'complete', 'operational', 'plan', 'current', 'staffing', 'mobile', 'teams', 'available', 'working', 'worked', 'sheriff', 'response', 'team', 'worked', 'response', 'teams', 'mutual', 'agencies', 'rest', 'independent', 'agencies', 'already', 'set', 'place', 'emergency', 'ready', 'deal', 'sup', 'antonovich', 'asked', 'backfill', 'staff', 'identified', 'still', 'received', 'information', 'sheriff', 'larry', 'waldie', 'backfill', 'staff', 'sup', 'antonovich', 'right', 'told', 'backfill', 'would', 'done', 'regular', 'time', 'administrative', 'detective', 'staff', 'staff', 'already', 'identified', 'asked', 'information', 'still', 'received', 'sheriff', 'larry', 'waldie', 'asked', 'best', 'get', 'supervisor', 'sup', 'antonovich', 'need', 'gets', 'defeated', 'today', 'sheriff', 'larry', 'waldie', 'correct', 'sup', 'antonovich', 'problem', 'sent', 'officers', 'type', 'number', 'order', 'would', 'appropriate', 'number', 'requesting', 'today', 'many', 'times', 'precarious', 'times', 'nobody', 'knows', 'going', 'happen', 'know', 'serious', 'problems', 'facing', 'leave', 'many', 'vacancies', 'officers', 'miles', 'away', 'come', 'back', 'respond', 'think', 'price', 'afford', 'pay', 'especially', 'los', 'angeles', 'police', 'department', 'even', 'involved', 'keeping', 'men', 'women', 'home', 'streets', 'sheriff', 'larry', 'waldie', 'spoke', 'assistant', 'chief', 'significant', 'logistical', 'problems', 'answer', 'responding', 'regarding', 'many', 'people', 'last', 'second', 'chicago', 'backed', 'potential', 'elements', 'city', 'something', 'happen', 'chose', 'send', 'supposed', 'send', 'also', 'washington', 'concerned', 'inauguration', 'expecting', 'million', 'people', 'rather', 'significant', 'reason', 'numbers', 'agencies', 'right', 'nearby', 'dropping', 'large', 'number', 'people', 'sup', 'antonovich', 'logistics', 'los', 'angeles', 'county', 'versus', 'washington', 'long', 'distance', 'leave', 'void', 'ought', 'new', 'york', 'eastern', 'cities', 'participating', 'counties', 'law', 'enforcement', 'instead', 'coming', 'way', 'west', 'coast', 'sheriff', 'larry', 'waldie', 'sent', 'invitations', 'participating', 'list', 'every', 'single', 'agency', 'participating', 'sup', 'antonovich', 'los', 'angeles', 'police', 'department', 'concerns', 'want', 'keep', 'men', 'women', 'home', 'feet', 'away', 'feel', 'shortchange', 'citizens', 'participating', 'level', 'would', 'support', 'smaller', 'number', 'level', 'requested', 'sheriff', 'larry', 'waldie', 'well', 'sure', 'open', 'matter', 'smaller', 'number', 'open', 'lowering', 'figure', 'asked', 'asked', 'could', 'provide', 'without', 'additional', 'overtime', 'overtime', 'number', 'gave', 'board', 'wishes', 'look', 'desire', 'yes', 'sup', 'yaroslavsky', 'understand', 'last', 'comment', 'saying', 'open', 'cutting', 'number', 'sheriff', 'larry', 'waldie', 'yes', 'obviously', 'board', 'says', 'go', 'would', 'like', 'go', 'help', 'necessary', 'chose', 'send', 'approve', 'would', 'look', 'numbers', 'deal', 'difficulties', 'charter', 'reserved', 'holds', 'people', 'cut', 'people', 'may', 'liable', 'pay', 'whole', 'thing', 'know', 'look', 'open', 'rigid', 'want', 'help', 'feel', 'honor', 'privilege', 'open', 'sup', 'yaroslavsky', 'want', 'understand', 'want', 'gloss', 'assumption', 'made', 'cost', 'nothing', 'backfill', 'say', 'going', 'use', 'resources', 'would', 'use', 'somebody', 'vacation', 'somebody', 'sick', 'making', 'assumption', 'exercise', 'one', 'sick', 'sheriff', 'larry', 'waldie', 'sup', 'yaroslavsky', 'assumption', 'making', 'sheriff', 'larry', 'waldie', 'sup', 'yaroslavsky', 'let', 'ask', 'questions', 'answer', 'questions', 'percentage', 'assuming', 'percentage', 'assuming', 'would', 'normally', 'sick', 'going', 'sick', 'make', 'determination', 'going', 'zero', 'cost', 'sheriff', 'larry', 'waldie', 'well', 'look', 'total', 'number', 'people', 'sworn', 'approximately', 'take', 'number', 'people', 'available', 'vacation', 'relief', 'number', 'example', 'two', 'man', 'car', 'seven', 'around', 'clock', 'think', 'relief', 'factor', 'remember', 'exactly', 'figures', 'every', 'single', 'position', 'relief', 'factor', 'built', 'enough', 'relief', 'factor', 'still', 'take', 'care', 'sick', 'god', 'forbid', 'huge', 'amount', 'people', 'sick', 'injured', 'still', 'able', 'cover', 'yes', 'sup', 'yaroslavsky', 'quantified', 'sheriff', 'larry', 'waldie', 'like', 'sup', 'yaroslavsky', 'thought', 'maybe', 'already', 'done', 'made', 'statement', 'going', 'cost', 'let', 'walk', 'country', 'boy', 'west', 'side', 'got', 'station', 'altadena', 'serves', 'unincorporated', 'area', 'correct', 'sheriff', 'larry', 'waldie', 'yes', 'sup', 'yaroslavsky', 'let', 'sake', 'argument', 'say', 'two', 'people', 'patrol', 'altadena', 'going', 'part', 'team', 'going', 'washington', 'okay', 'going', 'backfill', 'two', 'people', 'altadena', 'correct', 'sheriff', 'larry', 'waldie', 'streets', 'yes', 'sup', 'yaroslavsky', 'yes', 'going', 'overtime', 'said', 'straight', 'time', 'correct', 'sheriff', 'larry', 'waldie', 'would', 'either', 'vacation', 'relief', 'available', 'station', 'would', 'training', 'guard', 'station', 'administrative', 'guard', 'station', 'detective', 'guard', 'station', 'would', 'post', 'position', 'could', 'fill', 'position', 'day', 'two', 'sup', 'yaroslavsky', 'administrative', 'guy', 'going', 'go', 'field', 'patrol', 'sheriff', 'larry', 'waldie', 'yes', 'sup', 'yaroslavsky', 'straight', 'time', 'overtime', 'sheriff', 'larry', 'waldie', 'straight', 'time', 'sup', 'yaroslavsky', 'happens', 'person', 'sick', 'sheriff', 'larry', 'waldie', 'well', 'conjecture', 'everyone', 'went', 'sick', 'problem', 'sup', 'yaroslavsky', 'saying', 'everyone', 'went', 'sick', 'make', 'certain', 'assumptions', 'mr', 'waldie', 'make', 'certain', 'assumptions', 'many', 'people', 'going', 'sick', 'course', 'year', 'many', 'going', 'vacation', 'year', 'january', 'number', 'employees', 'sick', 'rises', 'january', 'well', 'know', 'make', 'statement', 'going', 'cost', 'anything', 'use', 'overtime', 'backfill', 'use', 'sick', 'time', 'assuming', 'somebody', 'going', 'sick', 'going', 'sick', 'obviously', 'numbers', 'doubt', 'even', 'made', 'assessment', 'think', 'said', 'minute', 'ago', 'agreed', 'asked', 'sheriff', 'larry', 'waldie', 'asked', 'said', 'could', 'sup', 'yaroslavsky', 'last', 'weeks', 'problem', 'kind', 'goofy', 'moving', 'target', 'think', 'everybody', 'knows', 'started', 'first', 'heard', 'people', 'asked', 'going', 'million', 'dollars', 'cost', 'cost', 'going', 'cost', 'going', 'cover', 'percent', 'costs', 'covering', 'percent', 'costs', 'covering', 'indirect', 'costs', 'charge', 'contract', 'cities', 'indirect', 'costs', 'charge', 'pasadena', 'rose', 'parade', 'indirect', 'costs', 'indirect', 'costs', 'employee', 'benefits', 'health', 'benefits', 'retirement', 'contributions', 'element', 'know', 'percent', 'top', 'salary', 'estimate', 'cost', 'county', 'aside', 'financial', 'costs', 'guess', 'alluded', 'asked', 'los', 'angeles', 'police', 'department', 'sources', 'tell', 'reasonably', 'high', 'levels', 'asked', 'inaugural', 'city', 'washington', 'contribute', 'complement', 'officers', 'declined', 'characterize', 'reason', 'declined', 'let', 'say', 'thought', 'keeping', 'officers', 'home', 'better', 'expenditure', 'resources', 'sending', 'washington', 'city', 'new', 'york', 'even', 'asked', 'participate', 'based', 'conversation', 'city', 'new', 'york', 'city', 'councilman', 'mayor', 'washington', 'asking', 'question', 'ask', 'mean', 'sheriff', 'pay', 'half', 'million', 'dollars', 'washington', 'money', 'transport', 'guys', 'airplane', 'could', 'called', 'new', 'york', 'police', 'department', 'would', 'gotten', 'bussed', 'six', 'seven', 'buses', 'saved', 'probably', 'transportation', 'costs', 'sup', 'antonovich', 'amtrak', 'sup', 'yaroslavsky', 'strangest', 'thing', 'said', 'mutual', 'aid', 'next', 'argument', 'used', 'mutual', 'aid', 'disaster', 'katrina', 'brush', 'fire', 'quadrennial', 'event', 'everyone', 'knew', 'going', 'happen', 'like', 'know', 'going', 'another', 'inauguration', 'need', 'prepared', 'came', 'rely', 'sheriff', 'department', 'think', 'sent', 'last', 'year', 'think', 'came', 'sorry', 'four', 'years', 'ago', 'come', 'board', 'approval', 'four', 'years', 'ago', 'asked', 'even', 'going', 'become', 'part', 'regular', 'quadrennial', 'policing', 'complement', 'city', 'washington', 'inaugural', 'think', 'appropriate', 'think', 'people', 'taxpayers', 'los', 'angeles', 'county', 'think', 'appropriate', 'whatever', 'reason', 'however', 'good', 'reason', 'however', 'good', 'important', 'need', 'take', 'los', 'angeles', 'county', 'sheriff', 'deputies', 'uproot', 'take', 'four', 'days', 'move', 'washington', 'take', 'back', 'disruptive', 'thing', 'organization', 'chief', 'bratton', 'chicago', 'cities', 'cities', 'sending', 'minimum', 'complement', 'compared', 'far', 'largest', 'complement', 'asked', 'baltimore', 'right', 'road', 'believe', 'memory', 'serves', 'correctly', 'miles', 'away', 'like', 'pomona', 'ontario', 'downtown', 'los', 'angeles', 'think', 'bad', 'idea', 'think', 'sends', 'wrong', 'message', 'wrong', 'message', 'aside', 'money', 'simply', 'disruptive', 'kind', 'flexibility', 'think', 'flexibility', 'ought', 'exhibited', 'communities', 'terms', 'policing', 'washington', 'going', 'support', 'number', 'thank', 'mr', 'chair', 'sup', 'knabe', 'chair', 'supervisor', 'sup', 'thank', 'mr', 'chairman', 'think', 'ought', 'act', 'prudently', 'respect', 'fiscal', 'responsibilities', 'obligations', 'well', 'concern', 'public', 'safety', 'generally', 'speaking', 'stated', 'fact', 'satisfy', 'issues', 'terms', 'prudent', 'responsible', 'think', 'ought', 'informed', 'significance', 'taking', 'place', 'nation', 'capital', 'view', 'broadly', 'narrowly', 'extent', 'case', 'believe', 'something', 'worthy', 'pursuit', 'think', 'ought', 'figure', 'balance', 'outstanding', 'issues', 'extent', 'significant', 'mr', 'chair', 'would', 'inclined', 'move', 'forward', 'light', 'expecting', 'appropriate', 'analysts', 'along', 'sheriff', 'want', 'underscore', 'look', 'broadly', 'terms', 'perspective', 'communicated', 'respect', 'county', 'capacity', 'inclinations', 'particularly', 'backdrop', 'set', 'concerns', 'relationship', 'new', 'administration', 'extent', 'case', 'think', 'wholly', 'defensible', 'strategically', 'position', 'county', 'los', 'angeles', 'favorable', 'way', 'public', 'discourse', 'would', 'seem', 'ought', 'inclined', 'thank', 'mr', 'chairman', 'sup', 'knabe', 'chair', 'thank', 'would', 'least', 'say', 'least', 'perspective', 'still', 'think', 'number', 'way', 'large', 'obviously', 'participated', 'previous', 'inaugurations', 'problem', 'participating', 'one', 'particularly', 'one', 'based', 'crowds', 'think', 'number', 'bothers', 'sense', 'every', 'time', 'issue', 'unincorporated', 'area', 'get', 'issues', 'lack', 'staff', 'whatever', 'may', 'yet', 'pick', 'bodies', 'move', 'washington', 'mean', 'fact', 'four', 'years', 'ago', 'sent', 'number', 'think', 'outright', 'reject', 'participated', 'past', 'might', 'number', 'could', 'support', 'part', 'inauguration', 'whatever', 'number', 'may', 'obviously', 'look', 'guidance', 'least', 'perspective', 'motion', 'us', 'relates', 'plus', 'officers', 'could', 'support', 'know', 'number', 'may', 'said', 'could', 'look', 'maybe', 'could', 'lay', 'table', 'go', 'back', 'talk', 'folks', 'come', 'back', 'half', 'hour', 'number', 'mean', 'know', 'think', 'get', 'sense', 'support', 'another', 'number', 'current', 'recommendation', 'support', 'mean', 'support', 'sup', 'molina', 'issue', 'think', 'negotiated', 'already', 'original', 'request', 'one', 'issues', 'concern', 'left', 'far', 'team', 'think', 'look', 'broader', 'sense', 'time', 'last', 'year', 'vacancies', 'less', 'full', 'full', 'complete', 'staff', 'kind', 'margin', 'guess', 'usually', 'occurs', 'vacation', 'sick', 'days', 'jury', 'duty', 'testifying', 'court', 'kinds', 'things', 'going', 'saying', 'going', 'go', 'away', 'think', 'restricting', 'vacation', 'course', 'period', 'time', 'sheriff', 'larry', 'waldie', 'vacation', 'training', 'days', 'sup', 'molina', 'right', 'situation', 'done', 'sometime', 'today', 'correct', 'otherwise', 'commitment', 'way', 'could', 'prepare', 'start', 'kind', 'movement', 'going', 'forward', 'get', 'done', 'today', 'think', 'anything', 'negotiate', 'going', 'different', 'far', 'number', 'concerned', 'sheriff', 'larry', 'waldie', 'well', 'go', 'back', 'washington', 'let', 'know', 'could', 'desire', 'send', 'people', 'sup', 'molina', 'well', 'let', 'understand', 'colleagues', 'number', 'want', 'come', 'back', 'use', 'going', 'way', 'negotiate', 'come', 'back', 'less', 'satisfactory', 'would', 'like', 'see', 'way', 'better', 'move', 'forward', 'come', 'back', 'sup', 'antonovich', 'one', 'questions', 'asking', 'non', 'relief', 'talking', 'using', 'relief', 'people', 'hold', 'relief', 'items', 'require', 'overtime', 'backfill', 'cost', 'cost', 'number', 'metro', 'going', 'reimburse', 'us', 'relief', 'sheriff', 'larry', 'waldie', 'overtime', 'going', 'utilized', 'event', 'sup', 'antonovich', 'people', 'hold', 'relief', 'items', 'require', 'overtime', 'backfill', 'sheriff', 'larry', 'waldie', 'relief', 'position', 'fill', 'normally', 'part', 'schedule', 'training', 'taken', 'training', 'administrative', 'sign', 'go', 'overtime', 'going', 'used', 'planned', 'sup', 'antonovich', 'planned', 'ambiguous', 'question', 'using', 'retired', 'personnel', 'bringing', 'back', 'days', 'would', 'disrupt', 'ongoing', 'patrols', 'procedure', 'use', 'time', 'using', 'personnel', 'would', 'give', 'numbers', 'may', 'feel', 'comfortable', 'would', 'also', 'shortchange', 'communities', 'rely', 'upon', 'presence', 'community', 'able', 'respond', 'immediately', 'crisis', 'would', 'occur', 'sheriff', 'larry', 'waldie', 'mr', 'antonovich', 'background', 'one', 'physicals', 'one', 'could', 'done', 'timeframe', 'takes', 'background', 'alone', 'six', 'weeks', 'sup', 'antonovich', 'retired', 'person', 'check', 'background', 'sheriff', 'larry', 'waldie', 'yes', 'mandatory', 'contract', 'sup', 'antonovich', 'retired', 'tomorrow', 'another', 'background', 'sheriff', 'larry', 'waldie', 'yes', 'sir', 'sup', 'antonovich', 'find', 'made', 'mistake', 'first', 'place', 'laughter', 'sheriff', 'larry', 'waldie', 'let', 'hope', 'sup', 'antonovich', 'think', 'using', 'lot', 'bureaucratic', 'red', 'tape', 'delay', 'getting', 'retired', 'personnel', 'qualified', 'recognized', 'competent', 'retired', 'recognition', 'department', 'great', 'job', 'giving', 'opportunity', 'going', 'shortchange', 'county', 'shortchange', 'people', 'going', 'charge', 'go', 'washington', 'mean', 'getting', 'competent', 'person', 'talking', 'getting', 'someone', 'retired', 'years', 'bringing', 'mothballs', 'sup', 'knabe', 'chair', 'supervisor', 'molina', 'response', 'understand', 'sending', 'three', 'full', 'platoons', 'correct', 'sheriff', 'larry', 'waldie', 'basically', 'quantity', 'six', 'believe', 'captain', 'one', 'platoon', 'three', 'side', 'yes', 'sup', 'yaroslavsky', 'many', 'platoon', 'sheriff', 'larry', 'waldie', 'platoon', 'yes', 'sup', 'knabe', 'chair', 'maybe', 'number', 'might', 'one', 'two', 'platoon', 'ifs', 'could', 'negotiate', 'something', 'sup', 'molina', 'let', 'say', 'otherwise', 'sup', 'knabe', 'chair', 'understand', 'problem', 'talking', 'right', 'sheriff', 'larry', 'waldie', 'sup', 'molina', 'want', 'sup', 'knabe', 'chair', 'three', 'votes', 'sup', 'molina', 'vote', 'number', 'trying', 'understand', 'otherwise', 'votes', 'let', 'go', 'exercise', 'number', 'sup', 'knabe', 'chair', 'supervisor', 'sup', 'mr', 'chairman', 'hear', 'number', 'falls', 'requested', 'amount', 'proposed', 'amount', 'falls', 'certain', 'number', 'becomes', 'impractical', 'terms', 'costs', 'might', 'triggered', 'otherwise', 'borne', 'hear', 'sheriff', 'larry', 'waldie', 'well', 'could', 'impact', 'hotel', 'taken', 'us', 'could', 'impact', 'flight', 'chartered', 'specific', 'number', 'yes', 'could', 'impact', 'two', 'costs', 'particularly', 'sup', 'seems', 'whatever', 'number', 'ultimately', 'arrive', 'informed', 'adverse', 'effect', 'might', 'management', 'costs', 'could', 'triggered', 'sup', 'knabe', 'chair', 'would', 'impact', 'people', 'washington', 'us', 'would', 'reduce', 'costs', 'sup', 'sup', 'antonovich', 'smaller', 'number', 'use', 'commercial', 'flight', 'charter', 'plane', 'sup', 'think', 'need', 'know', 'rather', 'assume', 'really', 'trying', 'push', 'clarification', 'sup', 'molina', 'also', 'assure', 'sunday', 'find', 'flight', 'go', 'flights', 'available', 'sunday', 'sheriff', 'larry', 'waldie', 'could', 'go', 'commercially', 'would', 'impossible', 'task', 'sup', 'whatever', 'suggest', 'may', 'mr', 'chair', 'sup', 'molina', 'give', 'ticket', 'send', 'cop', 'sup', 'yaroslavsky', 'could', 'sublease', 'hotel', 'rooms', 'make', 'money', 'sup', 'molina', 'could', 'make', 'money', 'sup', 'would', 'want', 'suggest', 'number', 'makes', 'impractical', 'accomplish', 'seems', 'variables', 'obliged', 'consider', 'interest', 'gleaned', 'inferred', 'mr', 'chair', 'inclined', 'move', 'forward', 'number', 'makes', 'sense', 'suggested', 'proposed', 'requested', 'number', 'supportable', 'supervisor', 'molina', 'asked', 'move', 'number', 'works', 'sheriff', 'larry', 'waldie', 'well', 'requested', 'needed', 'issue', 'beside', 'number', 'throw', 'need', 'get', 'job', 'done', 'asked', 'say', 'okay', 'going', 'send', 'burden', 'late', 'time', 'also', 'get', 'agencies', 'responded', 'dealing', 'protection', 'issue', 'ability', 'get', 'help', 'thought', 'going', 'get', 'us', 'real', 'issue', 'sup', 'molina', 'right', 'sup', 'antonovich', 'would', 'move', 'authorize', 'number', 'used', 'sup', 'yeah', 'work', 'sup', 'molina', 'going', 'ask', 'could', 'lay', 'table', 'minutes', 'go', 'another', 'item', 'come', 'back', 'going', 'ask', 'couple', 'questions', 'next', 'item', 'item', 'number', 'sup', 'knabe', 'chair', 'mr', 'sachs', 'forget', 'still', 'item', 'table', 'sup', 'molina', 'public', 'ones', 'held', 'could', 'call', 'item', 'number', 'sup', 'knabe', 'chair', 'sup', 'yaroslavksy', 'others', 'sup', 'knabe', 'chair', 'arnold', 'sachs', 'good', 'morning', 'county', 'board', 'supervisors', 'item', 'concerned', 'one', 'items', 'item', 'transportation', 'school', 'south', 'bay', 'reside', 'hermosa', 'beach', 'program', 'transporting', 'disabled', 'children', 'hermosa', 'beach', 'miles', 'long', 'maybe', 'mile', 'wide', 'program', 'although', 'open', 'transparent', 'company', 'collects', 'student', 'transported', 'plus', 'expenses', 'medical', 'student', 'use', 'medical', 'children', 'medical', 'needs', 'awful', 'lot', 'money', 'travel', 'miles', 'although', 'contracts', 'may', 'look', 'transparent', 'although', 'may', 'conflict', 'interest', 'would', 'really', 'nice', 'make', 'sure', 'open', 'competitive', 'bidding', 'process', 'item', 'number', 'sup', 'knabe', 'chair', 'okay', 'item', 'us', 'moved', 'supervisor', 'antonovich', 'chair', 'second', 'without', 'objection', 'ordered', 'would', 'add', 'process', 'bid', 'providers', 'service', 'good', 'service', 'although', 'totally', 'unrelated', 'item', 'okay', 'arnold', 'sachs', 'well', 'disability', 'sup', 'knabe', 'chair', 'right', 'arnold', 'sachs', 'next', 'item', 'sir', 'sup', 'knabe', 'chair', 'next', 'item', 'would', 'item', 'arnold', 'sachs', 'item', 'another', 'big', 'pot', 'kind', 'relationship', 'transportation', 'funding', 'coming', 'prop', 'prop', 'prop', 'c', 'know', 'prop', 'r', 'seems', 'pots', 'sudden', 'opening', 'funding', 'transportation', 'issues', 'overseeing', 'looking', 'general', 'public', 'welfare', 'money', 'spent', 'big', 'concern', 'sup', 'knabe', 'chair', 'moved', 'supervisor', 'molina', 'chair', 'second', 'without', 'objection', 'ordered', 'item', 'arnold', 'sachs', 'item', 'concerned', 'county', 'giving', 'dash', 'money', 'prop', 'money', 'put', 'little', 'flyer', 'proposition', 'half', 'cent', 'per', 'dollar', 'sales', 'tax', 'throughout', 'county', 'increases', 'inflation', 'used', 'transit', 'service', 'commuter', 'express', 'dash', 'city', 'ride', 'charter', 'bus', 'transit', 'facilities', 'say', 'formal', 'allocation', 'procedure', 'funds', 'commuter', 'express', 'downtown', 'dash', 'operations', 'eliminated', 'transfer', 'use', 'riders', 'day', 'pass', 'get', 'dash', 'buses', 'half', 'million', 'dollars', 'saved', 'half', 'million', 'dollars', 'county', 'going', 'give', 'plus', 'plus', 'next', 'couple', 'years', 'one', 'dash', 'line', 'east', 'side', 'inconsistency', 'funding', 'costs', 'collecting', 'saving', 'little', 'eliminating', 'day', 'pass', 'used', 'dash', 'downtown', 'going', 'turn', 'around', 'spend', 'almost', 'money', 'doubling', 'fee', 'two', 'years', 'sup', 'knabe', 'chair', 'well', 'first', 'prop', 'prop', 'c', 'monies', 'county', 'dollars', 'separate', 'pot', 'money', 'used', 'local', 'transit', 'services', 'various', 'parts', 'throughout', 'entire', 'county', 'two', 'totally', 'different', 'pots', 'money', 'arnold', 'sachs', 'county', 'prop', 'money', 'sup', 'knabe', 'chair', 'exactly', 'arnold', 'sachs', 'prop', 'money', 'sup', 'knabe', 'chair', 'could', 'separate', 'transit', 'agreements', 'county', 'whether', 'hollywood', 'bowl', 'park', 'ride', 'whether', 'south', 'bay', 'transit', 'whether', 'transit', 'service', 'palos', 'verdes', 'peninsula', 'long', 'beach', 'wherever', 'may', 'independent', 'transit', 'agreements', 'dealt', 'county', 'los', 'angeles', 'arnold', 'sachs', 'thank', 'answers', 'sup', 'knabe', 'chair', 'moved', 'antonovich', 'chair', 'second', 'without', 'objection', 'ordered', 'item', 'arnold', 'sachs', 'actually', 'addressed', 'together', 'also', 'disability', 'item', 'fraud', 'disability', 'claim', 'board', 'close', 'loopholes', 'addressed', 'county', 'board', 'supervisors', 'disability', 'claims', 'loophole', 'companies', 'provide', 'disability', 'services', 'certified', 'vehicles', 'proclaim', 'certified', 'drivers', 'able', 'drive', 'vehicles', 'pick', 'access', 'certified', 'passengers', 'looked', 'claim', 'claims', 'make', 'public', 'companies', 'provide', 'access', 'services', 'loophole', 'claim', 'crossings', 'trains', 'engines', 'light', 'rails', 'engines', 'loophole', 'crossings', 'recently', 'metrolink', 'want', 'put', 'automatic', 'safety', 'stop', 'system', 'congress', 'said', 'loophole', 'train', 'carrying', 'hazardous', 'materials', 'carrying', 'carrying', 'hazardous', 'materials', 'carrying', 'hazardous', 'materials', 'stops', 'county', 'addresses', 'loophole', 'regarding', 'vehicles', 'drivers', 'part', 'solution', 'part', 'problem', 'sup', 'knabe', 'chair', 'okay', 'mean', 'first', 'item', 'relates', 'district', 'attorney', 'unrelated', 'people', 'abused', 'system', 'item', 'separate', 'contract', 'arnold', 'sachs', 'companies', 'provide', 'service', 'abuse', 'system', 'also', 'investigated', 'sup', 'knabe', 'chair', 'yes', 'yes', 'item', 'moved', 'supervisor', 'molina', 'seconded', 'supervisor', 'antonovich', 'without', 'objection', 'ordered', 'mr', 'sachs', 'arnold', 'sachs', 'first', 'bridge', 'seismic', 'retrofit', 'first', 'funding', 'long', 'beach', 'involved', 'city', 'recently', 'transportation', 'commission', 'hearing', 'list', 'projects', 'economic', 'stimulus', 'washington', 'one', 'questions', 'asked', 'regarding', 'bridges', 'seismic', 'retrofitting', 'going', 'responsible', 'wondering', 'county', 'going', 'economic', 'stimulus', 'package', 'request', 'washington', 'also', 'essence', 'sup', 'knabe', 'chair', 'mr', 'sachs', 'back', 'week', 'ago', 'yesterday', 'part', 'recommendation', 'colleagues', 'congress', 'united', 'states', 'two', 'united', 'states', 'senators', 'significant', 'public', 'works', 'stimulus', 'package', 'includes', 'bridge', 'retrofits', 'many', 'public', 'works', 'projects', 'arnold', 'sachs', 'two', 'bridges', 'included', 'sup', 'knabe', 'chair', 'arnold', 'sachs', 'thank', 'sup', 'knabe', 'chair', 'long', 'beach', 'arnold', 'sachs', 'well', 'freeway', 'sup', 'knabe', 'chair', 'item', 'us', 'moved', 'supervisor', 'antonovich', 'seconded', 'supervisor', 'yaroslavsky', 'without', 'objection', 'ordered', 'sheriff', 'item', 'item', 'mr', 'sachs', 'arnold', 'sachs', 'item', 'actually', 'think', 'hypocritical', 'regarding', 'item', 'come', 'county', 'board', 'supervisors', 'numerous', 'times', 'budgetary', 'items', 'budget', 'homeless', 'spent', 'half', 'million', 'half', 'million', 'dollars', 'interviewing', 'homeless', 'people', 'downtown', 'requesting', 'cost', 'board', 'meeting', 'last', 'board', 'meeting', 'item', 'board', 'companies', 'initiate', 'certain', 'bids', 'picked', 'get', 'million', 'dollars', 'back', 'may', 'policy', 'one', 'supervisor', 'stood', 'asked', 'kind', 'policy', 'putting', 'million', 'dollars', 'much', 'money', 'rolling', 'afford', 'give', 'failed', 'bids', 'companies', 'make', 'failed', 'bids', 'million', 'dollars', 'presidential', 'inauguration', 'going', 'people', 'inauguration', 'probably', 'last', 'five', 'inaugurations', 'together', 'talked', 'funding', 'goes', 'rose', 'bowl', 'natural', 'disaster', 'situation', 'would', 'occur', 'three', 'days', 'people', 'gone', 'got', 'kind', 'departments', 'counties', 'came', 'covering', 'people', 'little', 'people', 'want', 'went', 'would', 'like', 'people', 'asking', 'included', 'would', 'able', 'find', 'agreement', 'orange', 'county', 'riverside', 'county', 'san', 'bernardino', 'county', 'local', 'divisions', 'police', 'departments', 'cover', 'incredible', 'need', 'whether', 'tsunami', 'occurs', 'nuclear', 'bomb', 'goes', 'plane', 'crashed', 'edwards', 'air', 'force', 'base', 'tornado', 'mudslide', 'time', 'things', 'occur', 'golden', 'able', 'sit', 'say', 'going', 'concerned', 'sheriff', 'budget', 'paying', 'sheriffs', 'go', 'sup', 'knabe', 'chair', 'lot', 'complicated', 'sheriff', 'budget', 'mr', 'sachs', 'heard', 'conversation', 'lot', 'complicated', 'issues', 'unincorporated', 'areas', 'deputies', 'street', 'time', 'arnold', 'sachs', 'understand', 'also', 'sir', 'looking', 'contract', 'put', 'sheriffs', 'bus', 'lines', 'sup', 'knabe', 'chair', 'unrelated', 'unrelated', 'arnold', 'sachs', 'okay', 'unrelated', 'part', 'sheriff', 'deployment', 'sup', 'knabe', 'chair', 'exactly', 'okay', 'need', 'item', 'need', 'vote', 'clerk', 'sachi', 'hamai', 'approved', 'items', 'except', 'still', 'table', 'sup', 'knabe', 'chair', 'okay', 'right', 'clerk', 'sachi', 'hamai', 'supervisor', 'molina', 'supervisor', 'molina', 'still', 'sup', 'molina', 'right', 'think', 'going', 'move', 'item', 'item', 'sorry', 'mic', 'sup', 'knabe', 'chair', 'item', 'us', 'fujioka', 'going', 'staff', 'join', 'us', 'center', 'table', 'speak', 'walking', 'going', 'ask', 'could', 'amend', 'motion', 'know', 'initial', 'direction', 'us', 'develop', 'think', 'better', 'served', 'went', 'forward', 'q', 'structure', 'also', 'tweak', 'state', 'reviews', 'done', 'independent', 'process', 'maybe', 'may', 'case', 'board', 'would', 'like', 'direct', 'reviews', 'recognizing', 'importance', 'allow', 'person', 'conduct', 'reviews', 'independent', 'basis', 'given', 'position', 'report', 'board', 'also', 'structured', 'responsive', 'board', 'request', 'also', 'ellen', 'martin', 'speak', 'issue', 'questions', 'sup', 'yaroslavsky', 'amendment', 'part', 'know', 'thing', 'thank', 'one', 'item', 'support', 'suggesting', 'mr', 'fujioka', 'would', 'add', 'one', 'thing', 'draft', 'may', 'become', 'said', 'proposers', 'office', 'would', 'narrow', 'one', 'proposer', 'submit', 'board', 'would', 'like', 'recommend', 'proposers', 'five', 'six', 'range', 'many', 'board', 'two', 'things', 'number', 'one', 'position', 'report', 'directly', 'board', 'think', 'intended', 'originally', 'first', 'made', 'motion', 'sup', 'molina', 'correct', 'sup', 'yaroslavsky', 'firm', 'position', 'secondly', 'board', 'one', 'look', 'supervisor', 'fujioka', 'recommended', 'let', 'make', 'sure', 'covering', 'notes', 'yeah', 'bill', 'assume', 'last', 'comment', 'made', 'reference', 'issue', 'maybe', 'piece', 'think', 'one', 'things', 'said', 'draft', 'board', 'supervisors', 'would', 'limited', 'ability', 'issue', 'directives', 'position', 'areas', 'fall', 'sorry', 'would', 'limit', 'board', 'issuing', 'directives', 'issues', 'fall', 'outside', 'field', 'sup', 'molina', 'says', 'way', 'around', 'time', 'could', 'ask', 'sup', 'yaroslavsky', 'think', 'says', 'would', 'limit', 'board', 'supervisors', 'ability', 'issue', 'directives', 'areas', 'fall', 'outside', 'area', 'sup', 'molina', 'understanding', 'time', 'board', 'could', 'ask', 'contractor', 'investigate', 'analyze', 'verify', 'sup', 'yaroslavsky', 'paragraph', 'page', 'board', 'directives', 'may', 'requested', 'board', 'basis', 'areas', 'fall', 'outside', 'expertise', 'sup', 'molina', 'means', 'time', 'ask', 'fujioka', 'maybe', 'could', 'amended', 'clarify', 'make', 'real', 'clear', 'got', 'make', 'board', 'absolute', 'right', 'direct', 'sup', 'yaroslavsky', 'says', 'want', 'make', 'sure', 'losing', 'mind', 'says', 'board', 'may', 'provide', 'periodic', 'instruction', 'directives', 'entity', 'related', 'areas', 'concern', 'wish', 'investigated', 'analyzed', 'solved', 'may', 'requested', 'board', 'basis', 'areas', 'fall', 'outside', 'expertise', 'think', 'limited', 'things', 'board', 'chooses', 'ask', 'group', 'something', 'may', 'fall', 'overlaps', 'expertise', 'saying', 'sup', 'molina', 'problem', 'ellen', 'sandt', 'wanted', 'two', 'things', 'wanted', 'proposers', 'aware', 'might', 'investigations', 'board', 'direction', 'time', 'sup', 'yaroslavsky', 'bring', 'attention', 'time', 'want', 'us', 'precluded', 'overlap', 'trying', 'avoid', 'problem', 'ellen', 'sandt', 'sure', 'fujioka', 'handle', 'like', 'recruitment', 'process', 'position', 'reports', 'directly', 'board', 'bring', 'candidates', 'show', 'list', 'proposers', 'breakdown', 'feel', 'constitute', 'list', 'candidates', 'without', 'prescribed', 'number', 'could', 'companies', 'coming', 'know', 'even', 'meet', 'qualifications', 'process', 'describe', 'sup', 'yaroslavsky', 'maybe', 'screening', 'committee', 'include', 'office', 'picking', 'would', 'like', 'get', 'hybrid', 'bill', 'one', 'last', 'thing', 'first', 'thing', 'mentioned', 'think', 'point', 'sure', 'position', 'going', 'direct', 'position', 'scope', 'going', 'look', 'fujioka', 'yes', 'sup', 'yaroslavsky', 'scope', 'work', 'think', 'one', 'things', 'ensuing', 'week', 'focused', 'scope', 'work', 'going', 'individual', 'roam', 'run', 'budget', 'millions', 'dollars', 'ellen', 'sandt', 'exactly', 'right', 'wanted', 'see', 'proposers', 'proposed', 'terms', 'much', 'homework', 'department', 'health', 'services', 'aware', 'issues', 'thought', 'addition', 'listing', 'expertise', 'experience', 'things', 'company', 'done', 'wanted', 'see', 'thought', 'top', 'priority', 'areas', 'would', 'absolutely', 'board', 'decide', 'actually', 'wanted', 'proposer', 'look', 'part', 'well', 'homework', 'sup', 'yaroslavsky', 'needs', 'appropriate', 'time', 'needs', 'made', 'crystal', 'clear', 'going', 'addition', 'mr', 'fujioka', 'recommended', 'want', 'make', 'sure', 'clear', 'item', 'raised', 'falling', 'outside', 'piece', 'think', 'enough', 'correct', 'okay', 'thank', 'sup', 'knabe', 'chair', 'questions', 'regards', 'item', 'sup', 'yaroslavsky', 'oh', 'mr', 'chairman', 'sorry', 'thing', 'process', 'selection', 'well', 'right', 'thank', 'mr', 'fujioka', 'items', 'well', 'bill', 'might', 'want', 'repeat', 'sure', 'got', 'clerk', 'sachi', 'hamai', 'screening', 'committee', 'include', 'want', 'included', 'well', 'screening', 'committee', 'include', 'sup', 'yaroslavsky', 'yes', 'hybrid', 'including', 'clerk', 'sachi', 'hamai', 'one', 'three', 'items', 'brought', 'forward', 'sup', 'molina', 'amended', 'three', 'items', 'sup', 'yaroslavsky', 'leave', 'think', 'understanding', 'part', 'amendment', 'two', 'clerk', 'sachi', 'hamai', 'two', 'first', 'five', 'six', 'proposers', 'ones', 'highest', 'ranked', 'brought', 'back', 'board', 'review', 'second', 'clarify', 'language', 'page', 'ensure', 'board', 'direct', 'independent', 'entity', 'review', 'area', 'sup', 'molina', 'exclusively', 'clerk', 'sachi', 'hamai', 'exclusively', 'sup', 'yaroslavsky', 'said', 'better', 'fujioka', 'change', 'sup', 'yaroslavsky', 'fujioka', 'sup', 'yaroslavsky', 'right', 'position', 'report', 'directly', 'board', 'thing', 'great', 'sup', 'knabe', 'chair', 'sup', 'yaroslavsky', 'supervisor', 'sup', 'thank', 'mr', 'chairman', 'think', 'important', 'step', 'direction', 'headed', 'increase', 'level', 'accountability', 'transparency', 'within', 'particular', 'department', 'point', 'view', 'extent', 'suggests', 'many', 'challenges', 'faced', 'isolated', 'view', 'remains', 'challenges', 'systemic', 'nature', 'inspector', 'general', 'began', 'working', 'legislation', 'matter', 'seems', 'important', 'move', 'forward', 'capture', 'sense', 'change', 'embrace', 'maximum', 'amount', 'flexibility', 'extent', 'possible', 'context', 'accountability', 'two', 'principles', 'features', 'strike', 'important', 'proceed', 'affords', 'us', 'may', 'add', 'mr', 'chairman', 'colleagues', 'independent', 'want', 'say', 'record', 'independent', 'better', 'along', 'flexibility', 'afforded', 'us', 'well', 'accountability', 'attendant', 'thereto', 'way', 'believe', 'address', 'fundamental', 'problems', 'plagued', 'department', 'move', 'direction', 'think', 'find', 'outcome', 'satisfactory', 'experienced', 'past', 'sup', 'knabe', 'chair', 'think', 'wavelength', 'far', 'independence', 'supervisor', 'molina', 'sup', 'molina', 'thank', 'first', 'want', 'thank', 'staff', 'responding', 'appreciate', 'think', 'unfortunate', 'situation', 'found', 'last', 'three', 'years', 'even', 'hard', 'understand', 'completely', 'department', 'reporting', 'whether', 'reporting', 'facts', 'information', 'truth', 'whether', 'telling', 'needed', 'hear', 'troubled', 'day', 'one', 'troubling', 'aspect', 'health', 'department', 'many', 'variations', 'truth', 'guess', 'variations', 'fact', 'recently', 'troubled', 'consent', 'forms', 'troubled', 'think', 'would', 'consistency', 'consent', 'forms', 'think', 'would', 'something', 'look', 'issue', 'hospital', 'operation', 'would', 'consistency', 'mean', 'one', 'hospital', 'one', 'clinic', 'one', 'different', 'another', 'things', 'like', 'would', 'lead', 'much', 'seamless', 'system', 'looked', 'issues', 'brought', 'martin', 'luther', 'king', 'testing', 'nurses', 'mean', 'finding', 'test', 'developed', 'think', 'one', 'would', 'set', 'tests', 'whether', 'pediatric', 'nurses', 'whether', 'trauma', 'nurses', 'surgical', 'nurses', 'whatever', 'issue', 'think', 'kind', 'thing', 'continues', 'surprise', 'us', 'live', 'scan', 'issues', 'certainly', 'surprised', 'assumption', 'personnel', 'things', 'stumble', 'across', 'hard', 'deal', 'department', 'every', 'time', 'assuming', 'certain', 'standards', 'care', 'certain', 'standards', 'administering', 'hospitals', 'clinics', 'patient', 'care', 'find', 'exceptions', 'recently', 'lawsuit', 'paid', 'even', 'defend', 'following', 'quote', 'standard', 'care', 'even', 'though', 'competent', 'situation', 'defense', 'kinds', 'things', 'troubling', 'supervisor', 'said', 'martin', 'luther', 'king', 'going', 'micromanage', 'interest', 'assumption', 'everything', 'working', 'well', 'like', 'anything', 'else', 'look', 'professionals', 'give', 'us', 'information', 'advice', 'counsel', 'importantly', 'information', 'could', 'make', 'determinations', 'policy', 'unfortunately', 'point', 'today', 'clear', 'like', 'led', 'unfortunately', 'failure', 'hospital', 'potentially', 'kinds', 'escalation', 'incidents', 'whether', 'patient', 'care', 'malpractice', 'kinds', 'issues', 'opportunity', 'create', 'mechanism', 'going', 'resource', 'partner', 'go', 'somebody', 'expertise', 'level', 'beyond', 'knows', 'enough', 'hospital', 'administration', 'hospital', 'patient', 'care', 'quality', 'care', 'issues', 'personnel', 'within', 'hospital', 'setting', 'could', 'come', 'automatically', 'would', 'think', 'appropriate', 'assumptions', 'assumptions', 'might', 'one', 'may', 'appropriate', 'assumptions', 'level', 'operate', 'could', 'assist', 'us', 'maybe', 'already', 'idea', 'kinds', 'things', 'could', 'quickly', 'investigate', 'audit', 'say', 'would', 'recommend', 'would', 'following', 'things', 'change', 'kinds', 'things', 'consistency', 'across', 'board', 'opportunity', 'every', 'often', 'also', 'need', 'saying', 'look', 'item', 'come', 'across', 'incidents', 'may', 'frame', 'somebody', 'else', 'significant', 'us', 'situation', 'really', 'create', 'independent', 'arm', 'yet', 'time', 'someone', 'going', 'assist', 'us', 'get', 'go', 'need', 'someone', 'going', 'sugar', 'coat', 'items', 'clearly', 'issues', 'responsibility', 'governing', 'board', 'duty', 'put', 'place', 'correction', 'biggest', 'problem', 'board', 'trying', 'get', 'facts', 'trying', 'get', 'basic', 'data', 'really', 'trying', 'understand', 'complexity', 'problem', 'perfect', 'example', 'right', 'consent', 'form', 'one', 'would', 'assume', 'made', 'unfortunate', 'assumption', 'consent', 'forms', 'fairly', 'general', 'mean', 'fairly', 'general', 'consistent', 'across', 'board', 'going', 'appendix', 'must', 'consent', 'form', 'pediatric', 'patient', 'going', 'know', 'kind', 'surgical', 'procedure', 'would', 'one', 'pediatric', 'patient', 'inconsistency', 'system', 'troubled', 'particularly', 'overriding', 'responsibilities', 'whether', 'right', 'know', 'patients', 'think', 'state', 'law', 'think', 'responsibilities', 'one', 'would', 'think', 'even', 'good', 'legal', 'defense', 'mechanism', 'would', 'consistent', 'consent', 'forms', 'kind', 'individual', 'company', 'group', 'people', 'might', 'come', 'give', 'us', 'pathway', 'could', 'least', 'get', 'facts', 'together', 'clearly', 'understand', 'issue', 'hopefully', 'ally', 'maybe', 'taking', 'steps', 'toward', 'correction', 'martin', 'luther', 'king', 'biggest', 'concern', 'read', 'every', 'day', 'times', 'chase', 'around', 'department', 'fact', 'information', 'get', 'know', 'kind', 'things', 'worst', 'part', 'trying', 'put', 'together', 'fix', 'know', 'left', 'us', 'five', 'members', 'trying', 'sort', 'fix', 'way', 'operate', 'hopefully', 'kind', 'technical', 'assistance', 'sometimes', 'whatever', 'reason', 'within', 'department', 'everybody', 'runs', 'protect', 'behinds', 'give', 'much', 'information', 'want', 'tell', 'anyone', 'else', 'whole', 'thing', 'goes', 'really', 'need', 'run', 'hospitals', 'run', 'clinics', 'largest', 'trauma', 'system', 'significant', 'safety', 'net', 'cannot', 'afford', 'another', 'failure', 'consequently', 'us', 'effective', 'need', 'kind', 'guidance', 'appreciate', 'work', 'done', 'look', 'forward', 'come', 'back', 'hopefully', 'array', 'people', 'going', 'able', 'meet', 'needs', 'think', 'important', 'part', 'going', 'advisor', 'going', 'resource', 'going', 'guide', 'us', 'become', 'effective', 'governing', 'board', 'criticized', 'chastised', 'sanctioned', 'acting', 'properly', 'martin', 'luther', 'king', 'opportunity', 'step', 'make', 'corrections', 'get', 'guidance', 'advice', 'look', 'forward', 'hope', 'quick', 'solid', 'process', 'come', 'back', 'quickly', 'possible', 'array', 'people', 'select', 'groups', 'board', 'start', 'way', 'really', 'getting', 'independent', 'voice', 'independent', 'body', 'share', 'us', 'let', 'us', 'know', 'best', 'mechanism', 'make', 'sure', 'protecting', 'safety', 'net', 'clinics', 'hospitals', 'thank', 'work', 'sup', 'knabe', 'chair', 'additional', 'questions', 'amended', 'sup', 'yaroslavsky', 'want', 'make', 'one', 'brief', 'comment', 'wonderful', 'idea', 'assuming', 'right', 'good', 'information', 'get', 'take', 'beyond', 'supervisor', 'molina', 'said', 'going', 'critical', 'lot', 'information', 'along', 'way', 'whole', 'lot', 'things', 'sometimes', 'variety', 'reasons', 'sometimes', 'good', 'reasons', 'sometimes', 'good', 'act', 'position', 'valuable', 'board', 'willingness', 'respond', 'engage', 'issues', 'brought', 'fore', 'hope', 'desired', 'result', 'sup', 'knabe', 'chair', 'right', 'mr', 'sachs', 'signed', 'speak', 'item', 'stay', 'close', 'supervisor', 'antonovich', 'go', 'ahead', 'mr', 'sachs', 'arnold', 'sachs', 'thank', 'good', 'afternoon', 'arnold', 'sachs', 'glad', 'going', 'get', 'micromanagement', 'would', 'assign', 'kind', 'blame', 'goes', 'wrong', 'really', 'fact', 'bringing', 'position', 'fold', 'point', 'view', 'look', 'success', 'four', 'county', 'hospitals', 'clinics', 'run', 'say', 'successful', 'failure', 'maintaining', 'policies', 'basic', 'policies', 'even', 'metro', 'plan', 'put', 'county', 'county', 'department', 'head', 'never', 'went', 'anywhere', 'getting', 'information', 'really', 'important', 'holding', 'people', 'accountable', 'timeline', 'information', 'important', 'information', 'made', 'public', 'available', 'able', 'acted', 'somebody', 'said', 'keep', 'passing', 'keep', 'putting', 'meetings', 'hold', 'holding', 'item', 'another', 'month', 'two', 'months', 'would', 'discovered', 'metro', 'plan', 'proposed', 'smoke', 'actually', 'nothing', 'happened', 'supposed', 'review', 'employees', 'never', 'happened', 'request', 'leadership', 'department', 'executive', 'officer', 'position', 'would', 'better', 'report', 'keep', 'even', 'outside', 'reach', 'whatever', 'board', 'wants', 'let', 'make', 'report', 'let', 'bring', 'recommendation', 'front', 'board', 'way', 'absolutely', 'influence', 'board', 'members', 'way', 'open', 'kind', 'conflict', 'board', 'seems', 'much', 'transparent', 'everybody', 'uses', 'word', 'finally', 'process', 'would', 'use', 'select', 'person', 'administrate', 'administrator', 'position', 'sup', 'knabe', 'chair', 'purpose', 'board', 'letter', 'arnold', 'sachs', 'would', 'consensus', 'scoring', 'sup', 'knabe', 'chair', 'laughing', 'item', 'amended', 'us', 'supervisor', 'antonovich', 'supervisor', 'antonovich', 'supervisor', 'antonovich', 'sup', 'antonovich', 'question', 'wanted', 'ask', 'health', 'team', 'conjunction', 'expertise', 'department', 'human', 'resources', 'analyze', 'department', 'management', 'structure', 'recommend', 'implement', 'changes', 'ellen', 'sandt', 'guess', 'response', 'probably', 'portions', 'could', 'familiar', 'obviously', 'county', 'management', 'processes', 'procedures', 'human', 'resources', 'processes', 'kinds', 'things', 'think', 'would', 'board', 'decide', 'want', 'divide', 'work', 'might', 'want', 'somebody', 'got', 'expertise', 'specifically', 'healthcare', 'industry', 'versus', 'time', 'might', 'want', 'county', 'staff', 'something', 'really', 'specific', 'county', 'processes', 'think', 'trying', 'create', 'something', 'gives', 'option', 'fujioka', 'would', 'replace', 'role', 'function', 'ability', 'direct', 'either', 'office', 'even', 'extent', 'well', 'investigative', 'agencies', 'county', 'create', 'independent', 'entity', 'go', 'solely', 'focus', 'health', 'services', 'whereas', 'focus', 'discretion', 'could', 'entity', 'county', 'los', 'angeles', 'intent', 'someone', 'focus', 'sup', 'antonovich', 'consultant', 'made', 'recommendations', 'based', 'upon', 'report', 'auditor', 'controller', 'analyze', 'department', 'go', 'consultant', 'fujioka', 'well', 'could', 'work', 'board', 'see', 'move', 'forward', 'identify', 'entity', 'board', 'many', 'options', 'disposal', 'one', 'option', 'would', 'get', 'another', 'mentioned', 'would', 'office', 'third', 'would', 'one', 'entity', 'develops', 'see', 'someone', 'recommend', 'someone', 'specific', 'experience', 'training', 'whatever', 'skill', 'sets', 'focus', 'public', 'healthcare', 'entity', 'civil', 'service', 'public', 'structure', 'brings', 'us', 'higher', 'level', 'expertise', 'review', 'process', 'focused', 'expertise', 'sup', 'antonovich', 'analyzed', 'costs', 'would', 'fujioka', 'come', 'back', 'following', 'conclusion', 'process', 'bring', 'board', 'sup', 'antonovich', 'talking', 'fujioka', 'costs', 'would', 'subject', 'type', 'reviews', 'number', 'reviews', 'imagine', 'would', 'probably', 'hourly', 'structure', 'would', 'come', 'back', 'board', 'board', 'discretion', 'often', 'extensive', 'board', 'reviews', 'sup', 'knabe', 'chair', 'purpose', 'versus', 'fujioka', 'yes', 'sir', 'sup', 'antonovich', 'conducted', 'management', 'studies', 'past', 'proposal', 'fujioka', 'well', 'answer', 'yes', 'could', 'trying', 'develop', 'team', 'special', 'level', 'expertise', 'healthcare', 'auditors', 'although', 'think', 'good', 'job', 'folks', 'generalists', 'versus', 'someone', 'come', 'understand', 'joint', 'commission', 'licensing', 'accreditation', 'standards', 'example', 'example', 'given', 'consent', 'decrees', 'mean', 'consent', 'statements', 'knowledge', 'person', 'must', 'understand', 'consent', 'statements', 'developed', 'degree', 'medical', 'understanding', 'expertise', 'important', 'sup', 'antonovich', 'consultant', 'brought', 'narrow', 'scope', 'right', 'narrow', 'focus', 'merrick', 'bobb', 'propose', 'limit', 'scope', 'contract', 'ensure', 'consultants', 'work', 'would', 'result', 'constructive', 'change', 'keep', 'costs', 'within', 'reason', 'avoid', 'type', 'experienced', 'navigant', 'complete', 'disaster', 'always', 'opposed', 'fujioka', 'believe', 'way', 'structured', 'large', 'extent', 'fall', 'board', 'control', 'costs', 'getting', 'line', 'given', 'position', 'reports', 'directly', 'board', 'providing', 'board', 'providing', 'board', 'ongoing', 'reports', 'including', 'costs', 'associated', 'reviews', 'structure', 'place', 'control', 'costs', 'escalate', 'something', 'unmanageable', 'sup', 'antonovich', 'let', 'say', 'recommendations', 'come', 'need', 'never', 'implemented', 'ensure', 'going', 'implemented', 'fujioka', 'well', 'implementation', 'point', 'hold', 'director', 'health', 'services', 'facility', 'manager', 'say', 'would', 'hold', 'facility', 'manager', 'recommendation', 'exists', 'director', 'health', 'services', 'accountable', 'making', 'sure', 'implemented', 'sup', 'knabe', 'chair', 'okay', 'questions', 'right', 'item', 'us', 'amended', 'objections', 'ordered', 'believe', 'supervisor', 'molina', 'believe', 'ready', 'bring', 'item', 'back', 'correct', 'question', 'supervisor', 'molina', 'gave', 'would', 'support', 'waste', 'anybody', 'time', 'okay', 'willingness', 'accept', 'anything', 'would', 'accept', 'deputies', 'little', 'two', 'platoons', 'would', 'put', 'table', 'deputies', 'sup', 'antonovich', 'less', 'two', 'platoons', 'sup', 'knabe', 'chair', 'tad', 'two', 'platoons', 'right', 'around', 'two', 'platoons', 'support', 'put', 'table', 'sheriff', 'larry', 'waldie', 'platoon', 'people', 'would', 'people', 'two', 'platoons', 'sup', 'knabe', 'chair', 'two', 'platoons', 'two', 'platoons', 'sup', 'antonovich', 'though', 'sup', 'knabe', 'chair', 'sup', 'light', 'began', 'sup', 'light', 'began', 'may', 'order', 'less', 'light', 'fact', 'need', 'think', 'reasonably', 'demonstrated', 'balance', 'discussion', 'would', 'seem', 'interest', 'reasonableness', 'sending', 'appropriate', 'message', 'land', 'least', 'area', 'would', 'move', 'substitute', 'motion', 'order', 'main', 'motion', 'chair', 'sees', 'appropriate', 'prepared', 'support', 'deputies', 'part', 'delegation', 'go', 'nation', 'capitol', 'protect', 'proper', 'time', 'place', 'sup', 'knabe', 'chair', 'substitute', 'motion', 'us', 'deputies', 'second', 'sup', 'molina', 'yes', 'sup', 'knabe', 'chair', 'roll', 'call', 'please', 'clerk', 'sachi', 'hamai', 'supervisor', 'molina', 'sup', 'molina', 'aye', 'clerk', 'sachi', 'hamai', 'supervisor', 'sup', 'aye', 'sup', 'antonovich', 'sup', 'yaroslavsky', 'sup', 'knabe', 'chair', 'clerk', 'sachi', 'hamai', 'motion', 'fails', 'sup', 'knabe', 'chair', 'back', 'original', 'recommendation', 'one', 'support', 'telling', 'two', 'platoons', 'somewhat', 'less', 'hundred', 'know', 'difference', 'sheriff', 'larry', 'waldie', 'cut', 'back', 'trying', 'stretch', 'three', 'platoons', 'went', 'back', 'drawing', 'board', 'deleted', 'cut', 'normal', 'platoon', 'strength', 'two', 'actual', 'platoons', 'run', 'people', 'sup', 'antonovich', 'cost', 'county', 'sheriff', 'larry', 'waldie', 'absolutely', 'cost', 'whatsoever', 'asked', 'mr', 'fujioka', 'sup', 'antonovich', 'talking', 'two', 'platoons', 'sup', 'knabe', 'chair', 'move', 'sup', 'yaroslavsky', 'going', 'fully', 'reimburse', 'transportation', 'sheriff', 'larry', 'waldie', 'well', 'reimburse', 'person', 'plane', 'work', 'plane', 'details', 'first', 'thing', 'get', 'concurrence', 'going', 'send', 'go', 'sup', 'knabe', 'chair', 'hang', 'second', 'go', 'ahead', 'sup', 'point', 'clarification', 'would', 'number', 'number', 'sheriff', 'larry', 'waldie', 'fujioka', 'see', 'going', 'ask', 'would', 'reasonable', 'ask', 'sheriff', 'discussion', 'impact', 'would', 'talked', 'two', 'platoons', 'third', 'platoon', 'voted', 'would', 'five', 'platoons', 'one', 'point', 'around', 'range', 'impact', 'would', 'four', 'platoons', 'three', 'platoons', 'cost', 'factor', 'also', 'flight', 'everything', 'clear', 'table', 'make', 'vote', 'sheriff', 'larry', 'waldie', 'send', 'two', 'platoons', 'three', 'platoons', 'four', 'platoons', 'absolutely', 'cost', 'county', 'los', 'angeles', 'think', 'issue', 'clarified', 'agency', 'given', 'costs', 'whatsoever', 'throughout', 'united', 'states', 'officers', 'think', 'actually', 'truly', 'cost', 'us', 'would', 'get', 'money', 'anyway', 'going', 'paid', 'salaries', 'sup', 'antonovich', 'benefits', 'going', 'absorb', 'benefits', 'contract', 'cities', 'sup', 'yaroslavsky', 'contract', 'cities', 'pay', 'sheriff', 'larry', 'waldie', 'dealing', 'government', 'officials', 'different', 'rate', 'wheeze', 'charge', 'benefits', 'different', 'rate', 'rather', 'normal', 'percentages', 'sup', 'antonovich', 'pay', 'rate', 'metro', 'going', 'pay', 'rate', 'sheriff', 'larry', 'waldie', 'paying', 'employee', 'benefits', 'sup', 'antonovich', 'cost', 'cost', 'fujioka', 'well', 'cost', 'incurring', 'question', 'going', 'ask', 'operational', 'impact', 'financial', 'lot', 'focus', 'whether', 'sending', 'deputies', 'staff', 'backfill', 'issue', 'impact', 'could', 'communities', 'could', 'speak', 'sheriff', 'larry', 'waldie', 'arranged', 'make', 'sure', 'amount', 'coverage', 'ability', 'back', 'couple', 'issues', 'need', 'addressed', 'called', 'asked', 'go', 'wanted', 'protect', 'city', 'issue', 'talked', 'assistant', 'chief', 'last', 'night', 'logistical', 'nightmare', 'chose', 'take', 'talked', 'chief', 'washington', 'asked', 'fact', 'objected', 'liability', 'aspects', 'decided', 'go', 'along', 'asked', 'year', 'reason', 'gave', 'struggle', 'last', 'year', 'particular', 'issues', 'sup', 'yaroslavsky', 'liability', 'issue', 'sheriff', 'larry', 'waldie', 'like', 'language', 'contract', 'county', 'counsel', 'said', 'language', 'okay', 'liability', 'reality', 'cost', 'deputies', 'today', 'go', 'washington', 'go', 'washington', 'today', 'going', 'pick', 'costs', 'stay', 'home', 'going', 'pick', 'costs', 'sup', 'molina', 'going', 'million', 'people', 'sheriff', 'larry', 'waldie', 'million', 'yes', 'sup', 'molina', 'coming', 'washington', 'sup', 'yaroslavsky', 'going', 'ask', 'sorry', 'mr', 'chairman', 'like', 'ask', 'county', 'counsel', 'indemnification', 'issue', 'contract', 'fully', 'indemnified', 'officers', 'fully', 'indemnified', 'terms', 'contract', 'go', 'ray', 'fortner', 'mr', 'chairman', 'members', 'board', 'believe', 'calls', 'federal', 'deputization', 'deputies', 'event', 'deputy', 'injured', 'job', 'would', 'would', 'eligible', 'federal', 'workers', 'compensation', 'benefits', 'sort', 'thing', 'large', 'however', 'risks', 'litigation', 'would', 'borne', 'party', 'named', 'litigation', 'could', 'ultimately', 'request', 'indemnity', 'federal', 'government', 'defense', 'indemnity', 'permissive', 'rather', 'mandatory', 'sup', 'yaroslavsky', 'permissive', 'rather', 'mandatory', 'federal', 'government', 'ray', 'fortner', 'part', 'federal', 'government', 'correct', 'sup', 'yaroslavsky', 'one', 'officers', 'gets', 'involved', 'altercation', 'sued', 'may', 'well', 'wrong', 'sake', 'argument', 'court', 'finds', 'wrong', 'may', 'end', 'liable', 'costs', 'ray', 'fortner', 'possibility', 'sup', 'yaroslavsky', 'cost', 'aware', 'potential', 'cost', 'aware', 'thank', 'mr', 'waldie', 'bringing', 'sup', 'knabe', 'chair', 'okay', 'right', 'us', 'conversation', 'put', 'two', 'platoons', 'approval', 'second', 'two', 'platoons', 'sup', 'antonovich', 'hard', 'number', 'contemplating', 'going', 'two', 'platoons', 'sheriff', 'larry', 'waldie', 'people', 'per', 'platoon', 'people', 'sup', 'antonovich', 'hard', 'number', 'sheriff', 'larry', 'waldie', 'yes', 'sir', 'sup', 'yaroslavsky', 'would', 'approving', 'sup', 'knabe', 'chair', 'approving', 'willingness', 'assist', 'united', 'states', 'protection', 'sup', 'yaroslavsky', 'understand', 'context', 'us', 'today', 'us', 'today', 'agreement', 'reimbursement', 'chartering', 'aircraft', 'approve', 'number', 'personnel', 'correct', 'sup', 'knabe', 'chair', 'cost', 'sup', 'yaroslavsky', 'know', 'hear', 'want', 'get', 'legal', 'understanding', 'actually', 'ray', 'fortner', 'today', 'approval', 'cost', 'air', 'fare', 'authorization', 'auditor', 'pay', 'charter', 'fare', 'addition', 'authority', 'enter', 'staffing', 'reimbursement', 'requirements', 'must', 'contract', 'sup', 'yaroslavsky', 'specify', 'number', 'officers', 'ray', 'fortner', 'know', 'set', 'forth', 'sup', 'knabe', 'chair', 'letter', 'set', 'forth', 'sheriff', 'larry', 'waldie', 'think', 'number', 'ray', 'fortner', 'number', 'somewhat', 'moving', 'target', 'expressed', 'letters', 'would', 'integrated', 'agreement', 'sup', 'yaroslavsky', 'make', 'question', 'make', 'amendment', 'understand', 'want', 'make', 'binding', 'make', 'sure', 'get', 'wanted', 'sup', 'knabe', 'chair', 'think', 'agreement', 'county', 'slash', 'sheriff', 'department', 'metropolitan', 'police', 'would', 'two', 'platoons', 'individuals', 'correct', 'numbers', 'would', 'change', 'reflect', 'authorized', 'sup', 'yaroslavsky', 'numbers', 'agreement', 'ray', 'fortner', 'agreement', 'covers', 'operating', 'structure', 'whatever', 'number', 'ultimately', 'accepted', 'sup', 'yaroslavsky', 'saying', 'ray', 'number', 'simple', 'nothing', 'agreement', 'said', 'going', 'nothing', 'agreement', 'would', 'say', 'somewhere', 'got', 'able', 'want', 'got', 'say', 'let', 'use', 'discretion', 'send', 'sup', 'knabe', 'chair', 'would', 'amend', 'authorize', 'two', 'platoons', 'individuals', 'sup', 'antonovich', 'would', 'inserted', 'sup', 'knabe', 'chair', 'would', 'cover', 'costs', 'paying', 'going', 'give', 'sheriff', 'department', 'money', 'deputies', 'sending', 'ray', 'fortner', 'specific', 'number', 'could', 'set', 'forth', 'separate', 'letter', 'signed', 'sheriff', 'authority', 'would', 'part', 'contract', 'would', 'govern', 'mr', 'grossman', 'sup', 'antonovich', 'point', 'information', 'platoon', 'information', 'per', 'platoon', 'sup', 'knabe', 'chair', 'based', 'operation', 'piece', 'reduced', 'platoons', 'six', 'individuals', 'sheriff', 'larry', 'waldie', 'wanted', 'send', 'three', 'platoons', 'half', 'ones', 'originally', 'promised', 'cut', 'numbers', 'original', 'platoon', 'people', 'need', 'know', 'something', 'though', 'advised', 'commander', 'grossman', 'washington', 'change', 'alter', 'agreement', 'come', 'via', 'letter', 'us', 'saying', 'provide', 'provide', 'provide', 'letter', 'information', 'see', 'sup', 'molina', 'right', 'let', 'clarify', 'motion', 'motion', 'basically', 'board', 'authorizes', 'sheriff', 'submit', 'letter', 'metro', 'police', 'send', 'two', 'platoons', 'get', 'full', 'reimbursement', 'travel', 'course', 'time', 'board', 'authorized', 'sheriff', 'carry', 'sheriff', 'larry', 'waldie', 'yes', 'cost', 'aircraft', 'sup', 'molina', 'cost', 'aircraft', 'reimbursement', 'sup', 'yaroslavsky', 'aircraft', 'sup', 'molina', 'pink', 'heard', 'pink', 'aircraft', 'sup', 'yaroslavsky', 'aircraft', 'sheriff', 'larry', 'waldie', 'looking', 'working', 'adjust', 'number', 'obviously', 'authorized', 'person', 'work', 'adjust', 'sup', 'knabe', 'chair', 'second', 'motion', 'supervisor', 'antonovich', 'seconds', 'roll', 'call', 'clerk', 'sachi', 'hamai', 'right', 'supervisor', 'molina', 'sup', 'molina', 'aye', 'clerk', 'sachi', 'hamai', 'supervisor', 'abstaining', 'vote', 'supervisor', 'yaroslavsky', 'sup', 'yaroslavsky', 'clerk', 'sachi', 'hamai', 'supervisor', 'antonovich', 'sup', 'antonovich', 'aye', 'clerk', 'sachi', 'hamai', 'supervisor', 'supervisor', 'knabe', 'sup', 'knabe', 'chair', 'aye', 'clerk', 'sachi', 'hamai', 'motion', 'passes', 'sup', 'knabe', 'chair', 'okay', 'supervisor', 'molina', 'still', 'sup', 'molina', 'yes', 'one', 'item', 'mr', 'chairman', 'motion', 'like', 'pass', 'like', 'read', 'report', 'hopefully', 'back', 'january', 'meeting', 'obama', 'pledged', 'initiate', 'federal', 'recovery', 'program', 'include', 'massive', 'investment', 'infrastructure', 'projects', 'green', 'energy', 'initiatives', 'electronic', 'medical', 'records', 'modernization', 'criteria', 'selection', 'projects', 'yet', 'established', 'congress', 'begun', 'work', 'economic', 'recovery', 'legislation', 'enactment', 'expected', 'early', 'president', 'obama', 'inaugurated', 'county', 'los', 'angeles', 'maximize', 'participation', 'category', 'economic', 'recovery', 'package', 'enhance', 'local', 'economy', 'improve', 'county', 'roads', 'facilities', 'programs', 'therefore', 'move', 'board', 'supervisors', 'direct', 'along', 'assistance', 'departments', 'legislative', 'advocates', 'board', 'offices', 'report', 'back', 'board', 'meeting', 'january', 'final', 'list', 'major', 'projects', 'initiatives', 'likely', 'qualify', 'funding', 'federal', 'economic', 'recovery', 'legislation', 'legislative', 'strategy', 'maximize', 'funding', 'los', 'angeles', 'county', 'projects', 'us', 'move', 'sup', 'knabe', 'chair', 'chair', 'second', 'without', 'objection', 'ordered', 'sup', 'molina', 'thank', 'items', 'adjournments', 'sup', 'knabe', 'chair', 'okay', 'supervisor', 'next', 'sup', 'please', 'mr', 'chair', 'items', 'today', 'sup', 'knabe', 'chair', 'adjournments', 'anything', 'sup', 'aware', 'sup', 'knabe', 'chair', 'okay', 'supervisor', 'yaroslavsky', 'third', 'district', 'sup', 'mr', 'chairman', 'sup', 'knabe', 'chair', 'yes', 'sup', 'one', 'item', 'terms', 'adjournments', 'may', 'called', 'attention', 'proceed', 'permission', 'sup', 'knabe', 'chair', 'okay', 'go', 'right', 'ahead', 'sup', 'ask', 'adjourn', 'memory', 'earl', 'portlock', 'office', 'father', 'city', 'attorney', 'staff', 'member', 'zna', 'houston', 'recently', 'passed', 'november', 'age', 'leaves', 'cherish', 'memory', 'daughters', 'zna', 'l', 'tanya', 'along', 'host', 'family', 'friends', 'thank', 'mr', 'chairman', 'sup', 'knabe', 'chair', 'ordered', 'supervisor', 'yaroslavsky', 'sup', 'yaroslavsky', 'three', 'adjourning', 'motions', 'actually', 'first', 'seymour', 'newman', 'long', 'time', 'resident', 'district', 'past', 'president', 'temple', 'adat', 'ari', 'el', 'san', 'fernando', 'valley', 'recently', 'passed', 'away', 'survived', 'wife', 'evelyn', 'two', 'daughters', 'johanna', 'newman', 'hilde', 'lyddan', 'well', 'four', 'grandchildren', 'also', 'ask', 'adjourn', 'memory', 'milton', 'mcauley', 'long', 'time', 'resident', 'district', 'guiding', 'patron', 'saint', 'generations', 'wilderness', 'hikers', 'santa', 'monica', 'mountains', 'passed', 'way', 'canoga', 'park', 'home', 'age', 'wrote', 'first', 'book', 'hiking', 'trails', 'santa', 'monica', 'mountains', 'went', 'publish', 'six', 'books', 'hiking', 'wildlife', 'mountains', 'including', 'volume', 'wildflowers', 'illustrated', 'considered', 'many', 'last', 'word', 'subject', 'giant', 'field', 'conservation', 'hiking', 'outdoors', 'especially', 'western', 'part', 'county', 'fought', 'hard', 'acquire', 'backbone', 'trail', 'stretch', 'trail', 'traverses', 'ridge', 'lines', 'santa', 'monica', 'mountains', 'rogers', 'park', 'point', 'mugu', 'ventura', 'county', 'survived', 'wife', 'years', 'maxine', 'two', 'daughters', 'pat', 'ramolo', 'barbara', 'frisk', 'southern', 'william', 'mcauley', 'eight', 'grandchildren', 'seven', 'great', 'grandchildren', 'also', 'learned', 'morning', 'trying', 'find', 'daughter', 'close', 'friend', 'mine', 'going', 'back', 'high', 'school', 'days', 'passed', 'away', 'daughter', 'barry', 'rube', 'constituent', 'mine', 'many', 'years', 'find', 'computer', 'get', 'information', 'daughter', 'complications', 'related', 'diabetes', 'tragic', 'sudden', 'passing', 'thank', 'mr', 'chairman', 'adjourning', 'motions', 'sup', 'knabe', 'chair', 'items', 'sup', 'yaroslavsky', 'yes', 'sup', 'knabe', 'chair', 'okay', 'sup', 'yaroslavsky', 'ask', 'director', 'probation', 'department', 'come', 'forward', 'chief', 'probation', 'officer', 'sorry', 'mr', 'taylor', 'jan', 'takada', 'going', 'one', 'knows', 'deal', 'members', 'think', 'one', 'came', 'attention', 'since', 'posting', 'agenda', 'thank', 'kind', 'issue', 'going', 'kind', 'direction', 'make', 'motion', 'make', 'finding', 'want', 'get', 'quick', 'discussion', 'grant', 'posted', 'acronym', 'stand', 'robert', 'taylor', 'correctional', 'standards', 'authority', 'sup', 'yaroslavsky', 'correctional', 'standards', 'authority', 'former', 'board', 'corrections', 'department', 'corrections', 'used', 'serve', 'million', 'grant', 'available', 'large', 'counties', 'correct', 'explain', 'instead', 'robert', 'taylor', 'thank', 'supervisor', 'senate', 'bill', 'facilities', 'grant', 'available', 'counties', 'state', 'california', 'determined', 'allocation', 'million', 'grant', 'sort', 'solemn', 'kind', 'judgment', 'splitting', 'thirds', 'available', 'small', 'counties', 'available', 'medium', 'sized', 'county', 'another', 'third', 'available', 'large', 'counties', 'part', 'could', 'million', 'large', 'counties', 'part', 'senate', 'bill', 'really', 'decision', 'send', 'minors', 'housed', 'state', 'institutions', 'back', 'counties', 'part', 'grant', 'would', 'made', 'available', 'counties', 'could', 'increase', 'facility', 'capacity', 'handle', 'population', 'opportunity', 'right', 'apply', 'grant', 'part', 'aware', 'several', 'counties', 'likely', 'situated', 'large', 'counties', 'applying', 'grant', 'including', 'alameda', 'county', 'sup', 'yaroslavsky', 'okay', 'issue', 'hope', 'rest', 'board', 'ought', 'make', 'every', 'effort', 'determine', 'whether', 'best', 'interest', 'forgo', 'opportunity', 'apply', 'money', 'deadline', 'january', 'day', 'come', 'back', 'first', 'year', 'issues', 'mr', 'campbell', 'mr', 'takada', 'shared', 'mr', 'taylor', 'us', 'issues', 'collateralization', 'property', 'require', 'kinds', 'things', 'may', 'required', 'know', 'facts', 'sit', 'today', 'wanted', 'sure', 'christmas', 'new', 'year', 'vacation', 'period', 'authorize', 'proceed', 'make', 'application', 'unless', 'absolute', 'dead', 'bang', 'loser', 'us', 'something', 'poison', 'pill', 'thing', 'county', 'authorize', 'chair', 'necessary', 'sign', 'whatever', 'application', 'needs', 'signed', 'period', 'time', 'rather', 'make', 'application', 'try', 'work', 'option', 'make', 'application', 'even', 'make', 'application', 'work', 'issues', 'may', 'identifying', 'property', 'need', 'collateralize', 'requirements', 'state', 'may', 'us', 'work', 'us', 'pull', 'back', 'rather', 'get', 'served', 'board', 'control', 'board', 'corrections', 'number', 'years', 'know', 'hard', 'get', 'funds', 'competition', 'may', 'get', 'depending', 'proposals', 'think', 'surrender', 'even', 'get', 'arena', 'like', 'propose', 'authorize', 'came', 'attention', 'board', 'posting', 'agenda', 'authorize', 'chair', 'board', 'direct', 'probation', 'chief', 'work', 'together', 'try', 'address', 'issue', 'authorize', 'chair', 'board', 'sign', 'whatever', 'documents', 'necessary', 'make', 'application', 'let', 'say', 'consistent', 'previous', 'applications', 'made', 'board', 'corrections', 'types', 'funding', 'keep', 'us', 'posted', 'holiday', 'anything', 'crucial', 'make', 'sense', 'robert', 'taylor', 'yes', 'makes', 'sense', 'move', 'forward', 'sup', 'yaroslavsky', 'would', 'make', 'motion', 'finding', 'sup', 'knabe', 'chair', 'okay', 'make', 'finding', 'first', 'sup', 'yaroslavsky', 'moved', 'ray', 'fortner', 'chairman', 'find', 'came', 'attention', 'subsequent', 'posting', 'need', 'take', 'immediate', 'action', 'given', 'three', 'members', 'would', 'want', 'make', 'unanimous', 'vote', 'sup', 'knabe', 'chair', 'thank', 'advice', 'appreciate', 'found', 'ordered', 'motion', 'articulated', 'zev', 'us', 'moved', 'yaroslavsky', 'seconded', 'antonovich', 'without', 'objection', 'ordered', 'robert', 'taylor', 'thank', 'speaker', 'thank', 'sup', 'knabe', 'chair', 'include', 'keeping', 'zev', 'posted', 'holidays', 'sup', 'yaroslavsky', 'call', 'collect', 'rape', 'kit', 'issue', 'number', 'sup', 'knabe', 'chair', 'item', 'sup', 'yaroslavsky', 'report', 'come', 'get', 'started', 'let', 'say', 'board', 'secretary', 'name', 'adjourned', 'jennifer', 'rube', 'sup', 'knabe', 'chair', 'sir', 'identify', 'earl', 'shields', 'hello', 'commander', 'earl', 'shields', 'sheriff', 'department', 'commander', 'technical', 'service', 'division', 'give', 'update', 'status', 'report', 'regarding', 'sexual', 'assault', 'kit', 'issue', 'appeared', 'board', 'november', 'time', 'outlined', 'study', 'conducting', 'three', 'phases', 'real', 'briefly', 'phase', 'one', 'count', 'number', 'kits', 'phase', 'two', 'determine', 'many', 'kits', 'untested', 'phase', 'three', 'determine', 'status', 'kits', 'could', 'prioritize', 'testing', 'november', 'meeting', 'finished', 'phase', 'one', 'count', 'kits', 'since', 'november', 'finished', 'phase', 'determine', 'many', 'untested', 'kits', 'letter', 'provided', 'midst', 'phase', 'three', 'took', 'untested', 'kits', 'divided', 'cases', 'whose', 'cases', 'sent', 'units', 'sheriff', 'department', 'cases', 'belonged', 'special', 'victims', 'bureau', 'also', 'independent', 'agencies', 'along', 'questionnaire', 'based', 'return', 'information', 'included', 'questionnaire', 'would', 'able', 'determine', 'status', 'case', 'able', 'determine', 'prioritize', 'cases', 'four', 'main', 'categories', 'using', 'right', 'initially', 'things', 'starting', 'come', 'week', 'asked', 'back', 'starting', 'come', 'number', 'looking', 'main', 'categories', 'cases', 'suspect', 'name', 'unadjudicated', 'cases', 'suspect', 'name', 'unadjudicated', 'cases', 'declined', 'filing', 'cases', 'adjudicated', 'also', 'since', 'looking', 'timeframe', 'completing', 'study', 'holidays', 'coming', 'issues', 'looking', 'completely', 'done', 'interim', 'questionnaires', 'coming', 'pulling', 'individually', 'screening', 'find', 'cases', 'relate', 'directly', 'coming', 'statute', 'limitations', 'coming', 'statute', 'limitations', 'evaluate', 'questionnaires', 'come', 'move', 'coming', 'kind', 'statutory', 'limits', 'move', 'front', 'line', 'rather', 'waiting', 'end', 'result', 'phase', 'sup', 'yaroslavsky', 'go', 'ahead', 'earl', 'shields', 'going', 'move', 'things', 'question', 'phase', 'sup', 'yaroslavsky', 'wait', 'done', 'earl', 'shields', 'addition', 'study', 'also', 'taken', 'steps', 'process', 'taking', 'steps', 'included', 'page', 'letter', 'includes', 'department', 'policy', 'modified', 'mandate', 'immediate', 'transfer', 'sexual', 'assault', 'kits', 'lab', 'lab', 'would', 'assume', 'complete', 'control', 'kits', 'also', 'management', 'directive', 'established', 'scientific', 'services', 'bureau', 'requiring', 'examination', 'sexual', 'assault', 'kits', 'receive', 'field', 'operations', 'directive', 'modified', 'require', 'annual', 'inspection', 'applicable', 'units', 'make', 'sure', 'complying', 'sexual', 'assault', 'victims', 'bill', 'rights', 'act', 'field', 'operations', 'directive', 'currently', 'conducting', 'audit', 'determine', 'prior', 'compliance', 'section', 'see', 'also', 'sent', 'letter', 'independent', 'police', 'agencies', 'advising', 'sheriff', 'new', 'policy', 'handling', 'processing', 'kits', 'also', 'going', 'attending', 'january', 'meeting', 'los', 'angeles', 'county', 'chiefs', 'police', 'association', 'explaining', 'new', 'policy', 'answering', 'questions', 'also', 'process', 'putting', 'together', 'plan', 'going', 'address', 'testing', 'untested', 'kits', 'also', 'going', 'handle', 'number', 'kits', 'currently', 'coming', 'plan', 'suspect', 'done', 'within', 'matter', 'couple', 'weeks', 'involve', 'significant', 'requests', 'funding', 'outsourcing', 'staffing', 'plan', 'point', 'plan', 'put', 'together', 'draft', 'form', 'take', 'office', 'go', 'plan', 'get', 'input', 'modify', 'plan', 'needed', 'make', 'part', 'department', 'budget', 'request', 'upcoming', 'year', 'sup', 'yaroslavsky', 'okay', 'first', 'let', 'thank', 'responsiveness', 'original', 'request', 'subsequent', 'deadlines', 'put', 'get', 'back', 'information', 'called', 'saw', 'people', 'done', 'great', 'job', 'moving', 'appreciate', 'want', 'hold', 'way', 'going', 'brief', 'couple', 'questions', 'number', 'one', 'generally', 'idea', 'sexual', 'assault', 'kits', 'found', 'breaking', 'date', 'earl', 'shields', 'ideas', 'date', 'kits', 'however', 'terms', 'using', 'information', 'statistical', 'analysis', 'hesitant', 'right', 'preliminary', 'unverified', 'numbers', 'get', 'surveys', 'back', 'surveys', 'complex', 'lot', 'hand', 'researching', 'saying', 'asking', 'asking', 'status', 'case', 'happened', 'kind', 'information', 'got', 'case', 'cases', 'go', 'back', 'years', 'years', 'example', 'special', 'victims', 'bureaus', 'handles', 'predominantly', 'sex', 'type', 'crimes', 'huge', 'number', 'cases', 'belong', 'sheriff', 'department', 'disproportionate', 'share', 'got', 'four', 'people', 'working', 'project', 'alone', 'trying', 'gather', 'information', 'cases', 'completely', 'adjudicated', 'numbers', 'obviously', 'statute', 'limitations', 'issues', 'apply', 'case', 'completely', 'adjudicated', 'hesitant', 'release', 'numbers', 'get', 'survey', 'forms', 'back', 'look', 'actually', 'status', 'cases', 'sup', 'yaroslavsky', 'think', 'complete', 'survey', 'earl', 'shields', 'like', 'said', 'looking', 'completing', 'phase', 'three', 'talking', 'middle', 'part', 'january', 'sup', 'yaroslavsky', 'right', 'like', 'going', 'prioritize', 'thought', 'heard', 'say', 'earl', 'shields', 'going', 'prioritize', 'go', 'along', 'wait', 'sup', 'yaroslavsky', 'statute', 'limitations', 'number', 'one', 'priority', 'earl', 'shields', 'correct', 'looking', 'sup', 'yaroslavsky', 'going', 'take', 'time', 'get', 'status', 'report', 'say', 'fourth', 'meeting', 'january', 'whatever', 'date', 'would', 'give', 'six', 'weeks', 'january', 'canceled', 'today', 'sup', 'yaroslavsky', 'earl', 'shields', 'would', 'fine', 'sup', 'yaroslavsky', 'great', 'thank', 'sup', 'knabe', 'chair', 'ask', 'one', 'question', 'earl', 'shields', 'yes', 'sir', 'sup', 'knabe', 'chair', 'using', 'prop', 'dollars', 'reduce', 'caseload', 'earl', 'shields', 'yes', 'using', 'prop', 'dollars', 'fact', 'allocated', 'board', 'approved', 'fact', 'could', 'use', 'additional', 'staffing', 'added', 'nine', 'positions', 'hired', 'one', 'several', 'backgrounds', 'believe', 'six', 'seven', 'backgrounds', 'eight', 'backgrounds', 'one', 'still', 'process', 'hiring', 'adding', 'staff', 'using', 'funds', 'additional', 'equipment', 'also', 'using', 'funds', 'outsourcing', 'sup', 'yaroslavsky', 'move', 'put', 'january', 'sup', 'knabe', 'chair', 'second', 'without', 'objection', 'ordered', 'thank', 'earl', 'shields', 'thank', 'sir', 'sup', 'yaroslavsky', 'thank', 'commander', 'think', 'sup', 'knabe', 'chair', 'several', 'adjournments', 'unfortunately', 'first', 'adjourn', 'memory', 'officer', 'joseph', 'sanders', 'california', 'highway', 'patrol', 'officer', 'killed', 'yesterday', 'morning', 'attending', 'traffic', 'accident', 'eastbound', 'hacienda', 'heights', 'officer', 'sanders', 'marine', 'veteran', 'fought', 'iraq', 'returned', 'duty', 'july', 'one', 'year', 'devout', 'family', 'man', 'survived', 'three', 'beautiful', 'children', 'unfortunately', 'wife', 'expecting', 'fourth', 'child', 'tragic', 'santa', 'fe', 'springs', 'office', 'services', 'majority', 'district', 'third', 'officer', 'die', 'line', 'duty', 'since', 'death', 'history', 'california', 'highway', 'patrol', 'thoughts', 'prayers', 'men', 'women', 'santa', 'fe', 'springs', 'importantly', 'family', 'members', 'also', 'adjourn', 'memory', 'chien', 'chen', 'cerritos', 'city', 'council', 'member', 'carol', 'chen', 'passed', 'away', 'recently', 'survived', 'wife', 'son', 'tony', 'wife', 'carol', 'two', 'grandchildren', 'also', 'adjourn', 'memory', 'yong', 'cho', 'father', 'cerritos', 'city', 'councilmember', 'dr', 'joseph', 'cho', 'passed', 'away', 'age', 'survived', 'five', 'children', 'grandchildren', 'eight', 'great', 'grandchildren', 'also', 'adjourn', 'memory', 'patricia', 'clugston', 'sister', 'dear', 'friend', 'neighbor', 'duane', 'dannecker', 'passed', 'away', 'recently', 'sorely', 'missed', 'family', 'friends', 'survived', 'two', 'children', 'brother', 'duane', 'also', 'adjourn', 'memory', 'another', 'friend', 'estelle', 'underwood', 'resident', 'la', 'mirada', 'valiant', 'struggle', 'cancer', 'life', 'long', 'member', 'whittier', 'community', 'theater', 'committee', 'group', 'active', 'member', 'women', 'republican', 'club', 'whittier', 'la', 'mirada', 'survived', 'daughter', 'diane', 'son', 'tom', 'granddaughter', 'great', 'lady', 'great', 'american', 'also', 'adjourn', 'memory', 'honorable', 'thomas', 'mayfeld', 'supervisor', 'chairman', 'board', 'stanislaus', 'county', 'board', 'supervisors', 'passed', 'away', 'december', 'long', 'illness', 'stanislaus', 'county', 'board', 'supervisors', 'years', 'strong', 'voice', 'agriculture', 'dedicated', 'public', 'servant', 'send', 'condolences', 'wife', 'anita', 'family', 'friends', 'would', 'ask', 'members', 'join', 'also', 'adjourn', 'memory', 'victor', 'evers', 'long', 'time', 'resident', 'lakewood', 'long', 'beach', 'area', 'father', 'employee', 'vickie', 'evers', 'passed', 'away', 'december', 'age', 'one', 'children', 'grew', 'tennessee', 'joined', 'merchant', 'marines', 'served', 'country', 'world', 'war', 'ii', 'volunteered', 'long', 'beach', 'rescue', 'mission', 'st', 'maria', 'goretti', 'church', 'knights', 'columbus', 'survived', 'wife', 'years', 'dorothy', 'eight', 'children', 'spouses', 'grandchildren', 'siblings', 'nieces', 'nephews', 'also', 'adjourn', 'memory', 'chuck', 'gerard', 'another', 'lakewood', 'resident', 'accomplished', 'musician', 'active', 'spanish', 'music', 'group', 'worked', 'compton', 'initiative', 'help', 'revitalize', 'community', 'emanuel', 'reform', 'church', 'paramount', 'survived', 'wife', 'soraya', 'three', 'children', 'father', 'stepmother', 'three', 'siblings', 'spouses', 'also', 'adjourn', 'memory', 'julianna', 'huerta', 'passed', 'away', 'december', 'battle', 'breast', 'cancer', 'years', 'old', 'principal', 'consultant', 'california', 'state', 'assembly', 'republican', 'caucus', 'budget', 'appropriation', 'survived', 'parents', 'raymond', 'sister', 'teresa', 'brother', 'well', 'nephews', 'michael', 'shawn', 'supervisor', 'antonovich', 'would', 'like', 'added', 'also', 'adjourn', 'memory', 'sharon', 'keehan', 'born', 'long', 'beach', 'passed', 'away', 'age', 'survived', 'husband', 'years', 'james', 'children', 'christina', 'james', 'spouses', 'also', 'adjourn', 'memory', 'john', 'lawrence', 'fire', 'captain', 'city', 'los', 'angeles', 'passed', 'away', 'suddenly', 'december', 'survived', 'wife', 'son', 'daughter', 'christy', 'guyovich', 'captain', 'lakewood', 'station', 'husband', 'tom', 'grandson', 'brandon', 'also', 'adjourn', 'memory', 'roger', 'marshall', 'survived', 'survived', 'sons', 'james', 'randall', 'five', 'grandchildren', 'seven', 'great', 'grandchildren', 'wife', 'preceded', 'death', 'past', 'august', 'also', 'adjourn', 'memory', 'alvin', 'mizoguchi', 'passed', 'away', 'age', 'spent', 'years', 'boeing', 'douglas', 'rockwell', 'survived', 'mother', 'sawayo', 'wife', 'ellen', 'children', 'jason', 'maile', 'spouses', 'grandchildren', 'great', 'grandchildren', 'also', 'adjourn', 'memory', 'lee', 'thomas', 'olson', 'survived', 'wife', 'cheryl', 'three', 'daughters', 'grandson', 'parents', 'three', 'siblings', 'missed', 'great', 'guy', 'also', 'adjourn', 'memory', 'maurice', 'rondeau', 'year', 'old', 'decorated', 'air', 'force', 'colonel', 'zest', 'life', 'remembered', 'desire', 'help', 'people', 'make', 'laugh', 'survived', 'wife', 'almost', 'years', 'mary', 'jane', 'sons', 'steve', 'dan', 'six', 'grandchildren', 'great', 'grandchildren', 'also', 'adjourn', 'memory', 'elizabeth', 'serbell', 'passed', 'away', 'recently', 'taught', 'whittier', 'union', 'high', 'school', 'district', 'retirement', 'distinguished', 'served', 'whittier', 'cultural', 'arts', 'commission', 'actually', 'recognized', 'recently', 'well', 'survived', 'three', 'daughters', 'susan', 'sherry', 'beverly', 'finally', 'adjourn', 'memory', 'earl', 'sorenson', 'passed', 'away', 'recently', 'served', 'country', 'world', 'war', 'ii', 'professional', 'pilot', 'retirement', 'enjoyed', 'flying', 'homemade', 'aircraft', 'built', 'adobe', 'house', 'bellflower', 'still', 'standing', 'today', 'survived', 'four', 'children', 'spouses', 'grandchildren', 'great', 'grandchildren', 'adjournments', 'ordered', 'okay', 'going', 'call', 'item', 'number', 'could', 'ask', 'staff', 'please', 'come', 'forward', 'welcome', 'kerry', 'silverstrom', 'good', 'afternoon', 'excuse', 'voice', 'happened', 'morning', 'sup', 'knabe', 'chair', 'right', 'kerry', 'silverstrom', 'kerry', 'silverstrom', 'chief', 'deputy', 'director', 'beaches', 'harbors', 'sup', 'knabe', 'chair', 'held', 'item', 'think', 'someone', 'else', 'public', 'held', 'item', 'call', 'bit', 'obviously', 'concern', 'dock', 'issue', 'lessee', 'failed', 'build', 'new', 'docks', 'last', 'four', 'years', 'prior', 'lease', 'amendment', 'really', 'want', 'know', 'know', 'pay', 'much', 'per', 'year', 'would', 'nice', 'like', 'know', 'stage', 'process', 'kerry', 'silverstrom', 'commencing', 'process', 'proposed', 'reconstruction', 'plan', 'sup', 'knabe', 'chair', 'approved', 'kerry', 'silverstrom', 'approved', 'regulatory', 'agencies', 'severe', 'penalties', 'act', 'swiftly', 'sup', 'knabe', 'chair', 'right', 'take', 'amount', 'year', 'kerry', 'silverstrom', 'year', 'extension', 'meet', 'requirements', 'regulatory', 'approvals', 'permits', 'within', 'days', 'july', 'owe', 'another', 'complete', 'construction', 'start', 'paying', 'monthly', 'per', 'unfinished', 'slip', 'per', 'month', 'sup', 'knabe', 'chair', 'going', 'next', 'question', 'happens', 'dollars', 'significant', 'love', 'dollars', 'want', 'docks', 'kerry', 'silverstrom', 'understand', 'made', 'onerous', 'provisions', 'sup', 'knabe', 'chair', 'thank', 'nancy', 'marino', 'signed', 'speak', 'thank', 'kerry', 'hope', 'feeling', 'better', 'nancy', 'marino', 'good', 'afternoon', 'honorable', 'supervisors', 'name', 'nancy', 'vernon', 'marino', 'question', 'docks', 'per', 'se', 'seems', 'little', 'premature', 'fact', 'amendment', 'also', 'updates', 'insurance', 'section', 'new', 'definition', 'reflects', 'subsequent', 'sale', 'condominiums', 'establishes', 'basis', 'conformity', 'general', 'basis', 'structure', 'recent', 'marina', 'transactions', 'would', 'like', 'take', 'good', 'long', 'look', 'new', 'definition', 'seems', 'something', 'kind', 'shoveled', 'lease', 'amendment', 'really', 'key', 'important', 'thing', 'chance', 'look', 'analyze', 'would', 'ask', 'sure', 'thank', 'sup', 'knabe', 'chair', 'thank', 'nancy', 'okay', 'item', 'us', 'move', 'seconded', 'supervisor', 'antonovich', 'without', 'objection', 'ordered', 'four', 'votes', 'going', 'call', 'item', 'item', 'call', 'staff', 'report', 'anybody', 'regional', 'planning', 'clerk', 'sachi', 'hamai', 'item', 'could', 'read', 'short', 'title', 'record', 'combined', 'hearing', 'reapproval', 'project', 'number', 'coastal', 'development', 'permit', 'parking', 'permit', 'number', 'variance', 'number', 'additional', 'california', 'environmental', 'quality', 'act', 'analysis', 'adoption', 'finding', 'necessary', 'recertify', 'environmental', 'impact', 'report', 'additional', 'analysis', 'property', 'located', 'via', 'marina', 'playa', 'del', 'rey', 'zone', 'district', 'applied', 'del', 'rey', 'shores', 'joint', 'venture', 'north', 'point', 'venture', 'plan', 'testify', 'item', 'please', 'stand', 'board', 'raise', 'right', 'hand', 'sworn', 'sup', 'knabe', 'chair', 'number', 'people', 'signed', 'would', 'stand', 'worn', 'clerk', 'sachi', 'hamai', 'testimony', 'may', 'give', 'board', 'solemnly', 'affirm', 'tell', 'truth', 'whole', 'nothing', 'truth', 'help', 'god', 'thank', 'may', 'seated', 'sup', 'knabe', 'chair', 'okay', 'first', 'call', 'regional', 'planning', 'number', 'people', 'signed', 'last', 'regional', 'planning', 'ask', 'favor', 'testify', 'opposed', 'go', 'yes', 'sir', 'michael', 'tripp', 'good', 'afternoon', 'mr', 'chair', 'members', 'board', 'name', 'michael', 'tripp', 'principal', 'regional', 'planning', 'assistant', 'department', 'regional', 'planning', 'left', 'dennis', 'hunter', 'department', 'public', 'works', 'case', 'planner', 'hearing', 'item', 'number', 'december', 'regional', 'planning', 'commission', 'approved', 'coastal', 'development', 'permit', 'parking', 'permit', 'variance', 'authorize', 'demolition', 'existing', 'apartment', 'complex', 'subsequent', 'construction', 'complex', 'residential', 'five', 'category', 'marina', 'del', 'rey', 'specific', 'plan', 'marina', 'strand', 'colony', 'homeowners', 'association', 'appealed', 'regional', 'planning', 'commission', 'decision', 'board', 'march', 'board', 'denied', 'appeal', 'following', 'denial', 'homeowners', 'association', 'petitioned', 'superior', 'court', 'los', 'angeles', 'writ', 'mandate', 'invalidate', 'environmental', 'impact', 'report', 'court', 'found', 'significant', 'new', 'information', 'included', 'final', 'environmental', 'impact', 'report', 'project', 'new', 'information', 'related', 'approximately', 'cubic', 'yards', 'cut', 'material', 'subject', 'prior', 'public', 'review', 'comments', 'court', 'directed', 'county', 'set', 'aside', 'approvals', 'project', 'permits', 'adoption', 'statement', 'overriding', 'considerations', 'environmental', 'findings', 'fact', 'mitigation', 'monitoring', 'program', 'conditions', 'project', 'approval', 'certification', 'project', 'environmental', 'impact', 'report', 'court', 'also', 'directed', 'new', 'information', 'regarding', 'project', 'rating', 'impacts', 'county', 'landfill', 'capacity', 'associated', 'secondary', 'environmental', 'impacts', 'traffic', 'air', 'quality', 'noise', 'environments', 'analyzed', 'recirculated', 'public', 'agency', 'review', 'comments', 'sup', 'knabe', 'chair', 'specifically', 'related', 'grating', 'issue', 'correct', 'michael', 'tripp', 'right', 'transport', 'cut', 'material', 'draft', 'additional', 'environmental', 'analysis', 'made', 'available', 'public', 'october', 'staff', 'received', 'letters', 'opposition', 'project', 'period', 'within', 'comment', 'period', 'final', 'additional', 'environmental', 'analysis', 'addresses', 'relevant', 'comments', 'made', 'letters', 'additional', 'letter', 'received', 'via', 'email', 'december', 'rose', 'zoya', 'counsel', 'homeowners', 'association', 'originally', 'filed', 'suit', 'county', 'letter', 'received', 'comment', 'period', 'environmental', 'findings', 'fact', 'statement', 'overriding', 'considerations', 'addressed', 'revised', 'address', 'miss', 'zoya', 'letter', 'copy', 'provided', 'executive', 'office', 'prior', 'hearing', 'subject', 'property', 'located', 'via', 'marina', 'playa', 'del', 'rey', 'zone', 'district', 'surrounding', 'land', 'uses', 'residential', 'north', 'residential', 'open', 'space', 'east', 'south', 'residential', 'city', 'los', 'angeles', 'west', 'conclude', 'presentation', 'would', 'like', 'mention', 'staff', 'noticed', 'typographical', 'error', 'draft', 'additional', 'environmental', 'analysis', 'page', 'states', 'disposal', 'project', 'excess', 'cut', 'would', 'approximately', 'percent', 'remaining', 'landfill', 'capacity', 'say', 'percent', 'error', 'change', 'conclusions', 'regarding', 'landfill', 'impacts', 'concludes', 'report', 'available', 'questions', 'board', 'may', 'sup', 'knabe', 'chair', 'department', 'public', 'works', 'comments', 'dennis', 'hunter', 'additional', 'comments', 'questions', 'sup', 'knabe', 'chair', 'right', 'call', 'forward', 'testify', 'mr', 'david', 'levine', 'comer', 'daryl', 'koutnik', 'david', 'levine', 'good', 'afternoon', 'members', 'board', 'thank', 'attention', 'matter', 'morning', 'name', 'david', 'levine', 'chief', 'staff', 'jerry', 'epstein', 'managing', 'partner', 'del', 'rey', 'shores', 'joint', 'venture', 'del', 'rey', 'shores', 'north', 'joint', 'venture', 'sponsors', 'project', 'want', 'use', 'time', 'morning', 'make', 'key', 'points', 'number', 'site', 'zoned', 'redevelopment', 'indeed', 'high', 'density', 'redevelopment', 'since', 'number', 'units', 'feet', 'height', 'grade', 'project', 'percent', 'less', 'dense', 'feet', 'lower', 'potential', 'development', 'parameters', 'called', 'certified', 'local', 'plans', 'since', 'engaged', 'ongoing', 'dialogue', 'community', 'county', 'project', 'since', 'first', 'proposal', 'redevelopment', 'project', 'requested', 'project', 'units', 'would', 'full', 'development', 'potential', 'plus', 'density', 'bonus', 'permitted', 'state', 'law', 'met', 'residents', 'complex', 'multiple', 'occasions', 'promised', 'certain', 'economic', 'incentives', 'participate', 'transition', 'project', 'go', 'forward', 'project', 'also', 'subject', 'nearly', 'one', 'dozen', 'public', 'hearings', 'small', 'craft', 'harbor', 'commission', 'design', 'control', 'board', 'regional', 'planning', 'commission', 'board', 'important', 'feature', 'project', 'commitment', 'provision', 'affordable', 'housing', 'site', 'may', 'recall', 'project', 'early', 'stages', 'county', 'policy', 'called', 'payment', 'lieu', 'fee', 'would', 'provided', 'funds', 'affordable', 'housing', 'project', 'pioneer', 'providing', 'one', 'largest', 'commitment', 'affordable', 'housing', 'without', 'provision', 'density', 'bonus', 'coastal', 'zone', 'board', 'applauded', 'examination', 'issue', 'number', 'process', 'well', 'served', 'laws', 'rules', 'followed', 'shortcuts', 'concealments', 'every', 'question', 'answered', 'number', 'bears', 'repeating', 'project', 'essential', 'second', 'generation', 'development', 'marina', 'del', 'rey', 'consistent', 'certified', 'local', 'plan', 'coastal', 'plan', 'marina', 'del', 'rey', 'largest', 'asset', 'owned', 'people', 'county', 'los', 'angeles', 'percent', 'ground', 'rent', 'generated', 'marina', 'del', 'rey', 'projects', 'support', 'social', 'service', 'safety', 'net', 'citizens', 'throughout', 'county', 'los', 'angeles', 'therefore', 'county', 'important', 'interest', 'project', 'going', 'forward', 'finally', 'think', 'important', 'note', 'economic', 'times', 'even', 'critical', 'ever', 'support', 'project', 'morning', 'news', 'historic', 'decline', 'housing', 'starts', 'building', 'permits', 'constitutes', 'much', 'sobering', 'news', 'economy', 'board', 'know', 'sponsors', 'project', 'lessees', 'partners', 'years', 'anxious', 'proceed', 'short', 'project', 'consistent', 'certified', 'project', 'transparent', 'project', 'carefully', 'planned', 'behalf', 'ownership', 'want', 'thank', 'consideration', 'project', 'afternoon', 'thank', 'sup', 'knabe', 'chair', 'whoever', 'next', 'keep', 'minutes', 'overran', 'time', 'proceed', 'comer', 'thank', 'david', 'may', 'name', 'comer', 'partner', 'armbruster', 'goldsmith', 'served', 'litigation', 'partner', 'litigation', 'also', 'served', 'counsel', 'compliance', 'litigation', 'thank', 'honorable', 'board', 'allowing', 'us', 'speak', 'thank', 'staff', 'hard', 'work', 'project', 'want', 'speak', 'procedure', 'followed', 'throughout', 'hearing', 'process', 'original', 'project', 'several', 'environmental', 'impact', 'issues', 'raised', 'many', 'claims', 'made', 'environmental', 'compliance', 'adequate', 'many', 'issues', 'fact', 'issues', 'went', 'superior', 'court', 'laid', 'superior', 'court', 'involved', 'traffic', 'alternatives', 'analysis', 'cumulative', 'analysis', 'list', 'goes', 'superior', 'court', 'determined', 'every', 'single', 'one', 'issues', 'raised', 'complied', 'found', 'issue', 'exporting', 'cubic', 'yards', 'soil', 'comply', 'important', 'remember', 'many', 'issues', 'court', 'court', 'found', 'county', 'complied', 'one', 'one', 'studied', 'additional', 'environmental', 'analysis', 'en', 'studied', 'reasonably', 'foreseeable', 'impacts', 'cubic', 'yards', 'soil', 'export', 'important', 'know', 'county', 'threshold', 'requiring', 'conditional', 'use', 'permit', 'export', 'soil', 'threshold', 'cubic', 'yards', 'little', 'quarter', 'threshold', 'analysis', 'followed', 'model', 'county', 'already', 'tried', 'successfully', 'west', 'creek', 'case', 'west', 'creek', 'case', 'like', 'case', 'one', 'item', 'found', 'noncompliance', 'additional', 'analysis', 'prepared', 'brought', 'board', 'board', 'approved', 'additional', 'analysis', 'challenged', 'court', 'upheld', 'procedure', 'followed', 'impacts', 'associated', 'export', 'soil', 'fully', 'analyzed', 'public', 'comments', 'thoroughly', 'responded', 'today', 'fully', 'compliant', 'court', 'order', 'happy', 'answer', 'questions', 'may', 'come', 'back', 'answer', 'questions', 'may', 'come', 'hearing', 'thank', 'time', 'sup', 'knabe', 'chair', 'thank', 'yes', 'sir', 'daryl', 'koutnik', 'yeah', 'name', 'daryl', 'koutnik', 'work', 'impact', 'sciences', 'company', 'prepared', 'environmental', 'impact', 'report', 'behalf', 'county', 'say', 'looked', 'comments', 'received', 'additional', 'environmental', 'analysis', 'carefully', 'analyzed', 'responded', 'confusion', 'calculations', 'numbers', 'summary', 'table', 'like', 'enter', 'administrative', 'record', 'documents', 'progression', 'information', 'available', 'basically', 'amount', 'total', 'waste', 'would', 'exported', 'project', 'site', 'including', 'demolition', 'existing', 'project', 'waste', 'construction', 'remained', 'throughout', 'entire', 'environmental', 'process', 'primarily', 'site', 'grading', 'modified', 'actually', 'site', 'reduced', 'materials', 'would', 'exported', 'landfill', 'numbers', 'consistent', 'within', 'environmental', 'document', 'beginning', 'answer', 'questions', 'may', 'subsequent', 'sup', 'knabe', 'chair', 'appreciate', 'follow', 'questions', 'stay', 'around', 'call', 'opposed', 'project', 'first', 'daniel', 'christy', 'michael', 'rosenfeld', 'witman', 'witmar', 'sure', 'nancy', 'vernon', 'marino', 'would', 'join', 'four', 'seats', 'daniel', 'christy', 'good', 'afternoon', 'honorable', 'supervisors', 'name', 'daniel', 'christy', 'resident', 'homeowner', 'marina', 'del', 'rey', 'also', 'director', 'marina', 'strand', 'colony', 'homeowners', 'association', 'representing', 'homeowners', 'residents', 'emphatically', 'oppose', 'certification', 'shore', 'project', 'project', 'although', 'within', 'county', 'parameters', 'much', 'large', 'intrusive', 'best', 'interest', 'marina', 'community', 'los', 'angeles', 'residents', 'knowledge', 'two', 'supervisors', 'publicly', 'named', 'called', 'marina', 'county', 'cash', 'cow', 'well', 'gentlemen', 'ask', 'intent', 'parcel', 'originally', 'given', 'county', 'cash', 'cow', 'used', 'recreational', 'purposes', 'residents', 'county', 'increasing', 'number', 'rental', 'buildings', 'condominiums', 'restaurants', 'quickly', 'changing', 'character', 'area', 'destination', 'area', 'intent', 'area', 'set', 'aside', 'shores', 'project', 'hearing', 'today', 'another', 'one', 'rental', 'properties', 'proliferated', 'past', 'years', 'abysmal', 'occupancy', 'rates', 'marina', 'need', 'marina', 'needs', 'affordable', 'housing', 'needs', 'preserve', 'much', 'open', 'area', 'possible', 'order', 'fulfill', 'original', 'intent', 'thank', 'much', 'attention', 'sup', 'knabe', 'chair', 'thank', 'see', 'nancy', 'missing', 'called', 'four', 'please', 'identify', 'please', 'name', 'record', 'witman', 'witman', 'county', 'current', 'strategic', 'plan', 'includes', 'goal', 'improving', 'quality', 'life', 'residents', 'los', 'angeles', 'county', 'homeowners', 'via', 'dulce', 'pray', 'sentiment', 'includes', 'us', 'forced', 'face', 'approximately', 'monolith', 'right', 'outside', 'windows', 'surely', 'severely', 'reduce', 'sun', 'diagonal', 'light', 'contrary', 'questionable', 'shadow', 'studies', 'view', 'home', 'values', 'surely', 'fall', 'wants', 'buy', 'dark', 'home', 'facing', 'wall', 'apartments', 'becomes', 'worse', 'building', 'marina', 'continually', 'expands', 'construction', 'one', 'project', 'another', 'traffic', 'access', 'homes', 'work', 'become', 'increasingly', 'encumbered', 'home', 'difficult', 'reach', 'loses', 'value', 'without', 'seeming', 'mendacious', 'let', 'say', 'value', 'decreases', 'per', 'unit', 'cumulative', 'loss', 'range', 'million', 'million', 'easily', 'recoverable', 'stressed', 'real', 'estate', 'market', 'scenario', 'anything', 'look', 'forward', 'toxic', 'dust', 'swirls', 'around', 'us', 'continual', 'noise', 'disturbs', 'souls', 'years', 'construction', 'want', 'save', 'quality', 'life', 'people', 'via', 'dulce', 'let', 'developers', 'build', 'apartments', 'near', 'sites', 'old', 'apartments', 'understand', 'developers', 'want', 'maximize', 'financial', 'gains', 'project', 'financial', 'loss', 'less', 'apartments', 'lose', 'lose', 'lot', 'understand', 'pay', 'high', 'price', 'ill', 'equipped', 'absorb', 'financial', 'loss', 'ability', 'concerns', 'greatly', 'appreciated', 'thank', 'sup', 'knabe', 'chair', 'nancy', 'start', 'call', 'lynne', 'shapiro', 'daniel', 'gottlieb', 'lawrence', 'falkin', 'nancy', 'marino', 'good', 'afternoon', 'honorable', 'supervisors', 'nancy', 'vernon', 'marino', 'miss', 'molina', 'hour', 'ago', 'spoke', 'eloquently', 'importance', 'truth', 'guiding', 'governing', 'decisions', 'today', 'grading', 'issues', 'truth', 'applicant', 'manipulated', 'earth', 'moving', 'information', 'obscure', 'intention', 'raise', 'grade', 'level', 'underlying', 'parcels', 'order', 'support', 'project', 'otherwise', 'unfeasible', 'presented', 'contrary', 'claimed', 'really', 'answer', 'question', 'letter', 'response', 'number', 'would', 'like', 'read', 'comment', 'references', 'final', 'grade', 'project', 'time', 'construction', 'completed', 'although', 'marina', 'del', 'rey', 'specific', 'plan', 'allows', 'structures', 'much', 'taller', 'proposed', 'building', 'height', 'applicant', 'designed', 'think', 'means', 'designed', 'project', 'stay', 'height', 'avoid', 'building', 'classified', 'structure', 'building', 'height', 'final', 'grade', 'could', 'lowered', 'excavating', 'deeper', 'would', 'require', 'greater', 'amounts', 'cut', 'material', 'exported', 'concludes', 'response', 'concludes', 'saying', 'regardless', 'final', 'grade', 'parking', 'garage', 'bottom', 'level', 'residential', 'apartments', 'county', 'project', 'engineers', 'find', 'buildings', 'feasible', 'address', 'concern', 'project', 'feasible', 'existing', 'parcels', 'acknowledge', 'intend', 'raze', 'grade', 'level', 'sorry', 'intend', 'raise', 'grade', 'level', 'building', 'acknowledge', 'either', 'reclassify', 'building', 'construction', 'standards', 'much', 'different', 'mid', 'rise', 'currently', 'proposed', 'need', 'scale', 'back', 'project', 'would', 'like', 'today', 'please', 'find', 'truth', 'project', 'looked', 'find', 'anything', 'certified', 'local', 'coastal', 'program', 'addresses', 'issue', 'changing', 'land', 'form', 'topography', 'coastal', 'land', 'think', 'minimum', 'coastal', 'commission', 'ought', 'review', 'aspect', 'project', 'indeed', 'intending', 'raise', 'grade', 'level', 'want', 'hill', 'marina', 'del', 'rey', 'want', 'hills', 'precedent', 'please', 'look', 'questions', 'us', 'thank', 'much', 'sup', 'knabe', 'chair', 'thank', 'lynne', 'believe', 'next', 'lynne', 'shapiro', 'disturbing', 'two', 'supervisors', 'missing', 'one', 'telephone', 'waiting', 'morning', 'address', 'sup', 'knabe', 'chair', 'go', 'ahead', 'lynne', 'shapiro', 'would', 'start', 'time', 'please', 'sup', 'knabe', 'chair', 'yes', 'start', 'lynne', 'shapiro', 'honorable', 'supervisors', 'reply', 'many', 'homeowners', 'letters', 'said', 'quality', 'life', 'marina', 'improved', 'shore', 'additional', 'units', 'feet', 'additional', 'height', 'buildings', 'buildings', 'whose', 'quality', 'life', 'immediate', 'neighbors', 'marina', 'strand', 'colony', 'left', 'shadow', 'subjected', 'least', 'years', 'digging', 'hauling', 'hammering', 'much', 'right', 'outside', 'bedroom', 'windows', 'additional', 'cubic', 'yards', 'dirt', 'hauling', 'hours', 'indicates', 'huge', 'trucks', 'per', 'day', 'contribute', 'intersections', 'marquesas', 'via', 'marina', 'panay', 'via', 'marina', 'admiralty', 'via', 'marina', 'washington', 'via', 'marina', 'via', 'dulce', 'probably', 'reason', 'omission', 'cubic', 'yards', 'dirt', 'original', 'scale', 'back', 'projects', 'accordance', 'green', 'construction', 'market', 'demand', 'decency', 'via', 'marina', 'silver', 'strand', 'community', 'number', 'projects', 'street', 'indicates', 'dictates', 'scale', 'back', 'cubic', 'yards', 'soil', 'removed', 'dictates', 'scale', 'back', 'tossing', 'friends', 'neighbors', 'improve', 'quality', 'life', 'addition', 'subsidized', 'low', 'moderate', 'income', 'housing', 'compensated', 'builders', 'additional', 'height', 'density', 'gift', 'community', 'replaces', 'current', 'units', 'affordable', 'resident', 'via', 'dulce', 'homeowners', 'association', 'opposed', 'hauling', 'additional', 'cubic', 'yards', 'dirt', 'well', 'aspects', 'project', 'old', 'represent', 'effective', 'fair', 'master', 'plan', 'cited', 'case', 'thank', 'much', 'present', 'sup', 'knabe', 'chair', 'thank', 'mr', 'gottlieb', 'daniel', 'gottlieb', 'name', 'daniel', 'gottlieb', 'professor', 'mathematics', 'live', 'marina', 'strand', 'colony', 'ii', 'received', 'new', 'final', 'draft', 'yesterday', 'get', 'usual', 'notice', 'contained', 'many', 'inaccuracies', 'even', 'testimony', 'would', 'like', 'ask', 'continuance', 'go', 'back', 'enter', 'things', 'correct', 'errors', 'much', 'based', 'questions', 'asked', 'feel', 'correctly', 'answered', 'sent', 'large', 'document', 'probably', 'read', 'contained', 'superior', 'court', 'court', 'order', 'believe', 'reads', 'quite', 'differently', 'representation', 'presented', 'us', 'looked', 'covering', 'letter', 'final', 'draft', 'recommends', 'approval', 'project', 'say', 'approve', 'project', 'answered', 'judge', 'statements', 'instead', 'mention', 'public', 'right', 'know', 'basis', 'decision', 'made', 'representatives', 'mention', 'total', 'amount', 'solid', 'waste', 'removal', 'cubic', 'yards', 'actually', 'total', 'mention', 'words', 'recirculated', 'instead', 'circulated', 'something', 'unusual', 'title', 'unusual', 'means', 'google', 'search', 'see', 'wording', 'used', 'title', 'narrow', 'point', 'saw', 'looked', 'tried', 'look', 'calculations', 'movement', 'dirt', 'kinds', 'little', 'subtle', 'distinctions', 'dirt', 'cut', 'dirt', 'filled', 'gravel', 'moved', 'little', 'details', 'somehow', 'numbers', 'add', 'could', 'never', 'get', 'total', 'also', 'found', 'parts', 'final', 'document', 'said', 'also', 'found', 'discrepancies', 'would', 'like', 'chance', 'respond', 'thank', 'speaker', 'feel', 'would', 'fair', 'us', 'request', 'continuance', 'statement', 'today', 'shores', 'given', 'november', 'december', 'respond', 'us', 'extend', 'us', 'courtesy', 'prepare', 'response', 'found', 'errors', 'involving', 'soil', 'movement', 'calculations', 'soil', 'toxicity', 'time', 'present', 'proper', 'rebuttal', 'sure', 'others', 'also', 'found', 'others', 'new', 'report', 'need', 'addressed', 'know', 'count', 'time', 'making', 'point', 'feel', 'continuance', 'statement', 'wanted', 'make', 'currently', 'via', 'dulce', 'large', 'construction', 'project', 'underway', 'rules', 'permit', 'require', 'work', 'cars', 'allowed', 'onto', 'site', 'workers', 'drive', 'great', 'distances', 'work', 'avoid', 'traffic', 'arrive', 'park', 'sides', 'street', 'alleys', 'entire', 'center', 'island', 'hours', 'morning', 'inconvenient', 'large', 'problem', 'street', 'center', 'island', 'street', 'parking', 'shores', 'neither', 'delivery', 'trucks', 'drywall', 'lumber', 'need', 'unloaded', 'forklifts', 'took', 'quite', 'time', 'block', 'traffic', 'island', 'wider', 'street', 'debris', 'needed', 'hauled', 'large', 'trucks', 'also', 'waited', 'island', 'load', 'filled', 'whole', 'street', 'day', 'true', 'cement', 'trucks', 'critical', 'issues', 'trivialized', 'shore', 'traffic', 'trips', 'hugely', 'underestimated', 'done', 'honestly', 'would', 'far', 'exceed', 'traffic', 'shores', 'prepared', 'actual', 'numbers', 'saw', 'yesterday', 'opposition', 'regarding', 'traffic', 'trivialized', 'previous', 'hearing', 'specifically', 'asked', 'new', 'soil', 'report', 'done', 'told', 'true', 'continue', 'refer', 'outdated', 'far', 'thorough', 'report', 'read', 'report', 'see', 'samples', 'taken', 'shallow', 'depths', 'except', 'one', 'sample', 'went', 'deep', 'instead', 'sent', 'chemical', 'analysis', 'core', 'actually', 'physically', 'sniffed', 'detect', 'petrochemicals', 'detected', 'new', 'soil', 'study', 'done', 'told', 'would', 'assume', 'findings', 'study', 'must', 'shown', 'presence', 'toxic', 'material', 'soil', 'included', 'clearly', 'current', 'comprehensive', 'soil', 'report', 'done', 'protect', 'us', 'exposed', 'toxic', 'substances', 'extended', 'period', 'time', 'many', 'residents', 'complex', 'seniors', 'almost', 'seniors', 'health', 'protected', 'allow', 'continue', 'quality', 'life', 'soil', 'movement', 'numbers', 'also', 'misinterpreted', 'explain', 'three', 'minutes', 'sup', 'knabe', 'chair', 'state', 'name', 'larry', 'falkin', 'larry', 'falkin', 'oh', 'soil', 'numbers', 'need', 'analyzed', 'threw', 'lot', 'numbers', 'us', 'difficult', 'mathematics', 'professor', 'trouble', 'interpreting', 'numbers', 'need', 'time', 'found', 'yesterday', 'mr', 'tripp', 'notified', 'us', 'email', 'mr', 'gottlieb', 'professor', 'gottlieb', 'checks', 'website', 'county', 'virtually', 'almost', 'every', 'day', 'sup', 'knabe', 'chair', 'continued', 'days', 'ago', 'people', 'regional', 'planning', 'want', 'respond', 'michael', 'tripp', 'yes', 'prior', 'previous', 'hearing', 'contact', 'anyone', 'sent', 'comment', 'letter', 'let', 'know', 'new', 'hearing', 'date', 'previous', 'case', 'continued', 'date', 'sup', 'knabe', 'chair', 'okay', 'thank', 'called', 'mr', 'rosenfeld', 'come', 'proceed', 'thank', 'ask', 'regional', 'planning', 'respond', 'issues', 'raised', 'opponents', 'particularly', 'relates', 'ground', 'level', 'issue', 'topography', 'change', 'michael', 'tripp', 'know', 'going', 'topography', 'change', 'maybe', 'public', 'works', 'could', 'address', 'additional', 'change', 'project', 'removing', 'cut', 'site', 'topography', 'change', 'know', 'would', 'moving', 'dirt', 'site', 'seems', 'like', 'would', 'lower', 'elevation', 'property', 'sup', 'knabe', 'chair', 'right', 'motion', 'like', 'enter', 'record', 'combined', 'public', 'hearing', 'reapproval', 'shores', 'apartment', 'project', 'located', 'via', 'marina', 'marina', 'del', 'rey', 'therefore', 'move', 'board', 'one', 'close', 'public', 'hearing', 'certify', 'final', 'additional', 'environmental', 'analysis', 'final', 'additional', 'environmental', 'analysis', 'prepared', 'shores', 'project', 'number', 'compliance', 'june', 'written', 'mandate', 'issued', 'los', 'angeles', 'county', 'superior', 'court', 'adopt', 'environmental', 'findings', 'fact', 'statement', 'overriding', 'considerations', 'mitigation', 'monitoring', 'program', 'prepared', 'project', 'necessary', 'final', 'final', 'additional', 'analysis', 'three', 'final', 'additional', 'environmental', 'analysis', 'four', 'indicate', 'intent', 'reapprove', 'shores', 'apartment', 'project', 'number', 'including', 'coastal', 'development', 'permit', 'number', 'parking', 'permit', 'number', 'variance', 'number', 'five', 'instruct', 'county', 'counsel', 'prepare', 'final', 'findings', 'conditions', 'necessary', 'approvals', 'bring', 'back', 'january', 'board', 'consideration', 'seconded', 'supervisor', 'antonovich', 'discussion', 'questions', 'ordered', 'thank', 'hold', 'anything', 'else', 'clerk', 'sachi', 'hamai', 'item', 'believe', 'going', 'sup', 'knabe', 'chair', 'going', 'release', 'continuance', 'think', 'wanted', 'continued', 'january', 'correct', 'clerk', 'sachi', 'hamai', 'correct', 'sup', 'knabe', 'chair', 'ordered', 'clerk', 'sachi', 'hamai', 'item', 'number', 'sup', 'knabe', 'chair', 'item', 'number', 'going', 'continue', 'want', 'make', 'brief', 'comment', 'asking', 'continued', 'till', 'end', 'january', 'couple', 'reasons', 'one', 'really', 'worthy', 'program', 'questioning', 'benefits', 'research', 'concerned', 'fact', 'department', 'public', 'health', 'facing', 'severe', 'fiscal', 'challenges', 'core', 'mission', 'asked', 'commit', 'million', 'dollars', 'county', 'general', 'funds', 'next', 'five', 'years', 'something', 'clearly', 'valuable', 'critical', 'standpoint', 'planning', 'need', 'concerned', 'core', 'mission', 'right', 'also', 'understand', 'first', 'five', 'approached', 'increase', 'funding', 'commitment', 'declined', 'however', 'would', 'like', 'january', 'become', 'chair', 'first', 'five', 'explore', 'issue', 'would', 'like', 'put', 'record', 'continue', 'item', 'end', 'january', 'last', 'meeting', 'january', 'without', 'objections', 'ordered', 'continued', 'last', 'meeting', 'january', 'anything', 'else', 'clerk', 'sachi', 'hamai', 'yes', 'item', 'number', 'two', 'individuals', 'holding', 'item', 'sup', 'knabe', 'chair', 'okay', 'like', 'ask', 'arnold', 'sachs', 'jamie', 'garcia', 'would', 'come', 'forward', 'please', 'record', 'intent', 'motion', 'focus', 'county', 'hospitals', 'county', 'private', 'know', 'going', 'extend', 'report', 'back', 'amendment', 'days', 'versus', 'jamie', 'garcia', 'good', 'afternoon', 'mr', 'chairman', 'members', 'board', 'supervisors', 'behalf', 'hospital', 'association', 'voice', 'support', 'motion', 'today', 'know', 'seismic', 'issue', 'challenging', 'issue', 'hospitals', 'study', 'concluded', 'would', 'cost', 'billion', 'seismically', 'retrofit', 'hospitals', 'state', 'california', 'include', 'financing', 'costs', 'seismic', 'mandate', 'combined', 'workforce', 'reimbursement', 'created', 'instances', 'resulted', 'hospital', 'closures', 'many', 'quite', 'familiar', 'around', 'state', 'california', 'current', 'downturn', 'economy', 'help', 'situation', 'recently', 'california', 'hospital', 'association', 'commissioned', 'study', 'found', 'percent', 'hospitals', 'statewide', 'unable', 'secure', 'capital', 'needed', 'seismic', 'retrofit', 'importantly', 'percent', 'hospitals', 'california', 'unable', 'meet', 'deadline', 'like', 'thank', 'support', 'interest', 'issue', 'assistance', 'please', 'hesitate', 'sup', 'knabe', 'chair', 'appreciate', 'might', 'want', 'give', 'senator', 'lowenthal', 'office', 'call', 'working', 'conjunction', 'office', 'regards', 'potential', 'legislative', 'issues', 'jamie', 'garcia', 'okay', 'thank', 'much', 'sup', 'knabe', 'chair', 'arnold', 'arnold', 'sachs', 'thank', 'arnold', 'sachs', 'quickly', 'since', 'closure', 'since', 'date', 'meet', 'requirements', 'fast', 'approaching', 'would', 'curious', 'find', 'within', 'last', 'four', 'years', 'let', 'say', 'number', 'hospitals', 'closed', 'county', 'basically', 'less', 'economic', 'reasons', 'kind', 'study', 'done', 'find', 'correlation', 'economic', 'reasons', 'closure', 'fact', 'maybe', 'hospitals', 'seismically', 'would', 'required', 'massive', 'infusions', 'funding', 'meet', 'deadline', 'article', 'newspaper', 'brought', 'last', 'week', 'regarding', 'seismically', 'need', 'seismic', 'retrofitting', 'never', 'addressed', 'time', 'problems', 'came', 'things', 'discussed', 'one', 'ever', 'mentioned', 'seismic', 'retrofitting', 'recently', 'new', 'supervisor', 'came', 'said', 'sup', 'knabe', 'chair', 'talking', 'long', 'time', 'arnold', 'sachs', 'conjunction', 'keeping', 'hospital', 'open', 'sup', 'knabe', 'chair', 'yes', 'got', 'familiar', 'issue', 'two', 'separate', 'buildings', 'one', 'got', 'seismic', 'important', 'part', 'whole', 'issue', 'important', 'arnold', 'sachs', 'never', 'coming', 'meetings', 'never', 'heard', 'sup', 'knabe', 'chair', 'hear', 'want', 'hear', 'arnold', 'seriously', 'important', 'part', 'arnold', 'sachs', 'could', 'important', 'part', 'absolutely', 'right', 'saying', 'heard', 'metro', 'plans', 'heard', 'kinds', 'plans', 'heard', 'kinds', 'plans', 'staffing', 'never', 'heard', 'plan', 'would', 'allow', 'hospital', 'stay', 'open', 'would', 'okay', 'got', 'dr', 'kildare', 'got', 'general', 'hospital', 'got', 'st', 'elsewhere', 'got', 'every', 'hospital', 'staff', 'every', 'show', 'ever', 'produced', 'come', 'retrofit', 'hospital', 'bring', 'top', 'line', 'never', 'heard', 'anybody', 'say', 'okay', 'completed', 'change', 'going', 'seismic', 'retrofitting', 'never', 'heard', 'discussion', 'retrofitting', 'regarding', 'sup', 'knabe', 'chair', 'apologize', 'important', 'part', 'huge', 'issue', 'county', 'hospitals', 'well', 'private', 'hospitals', 'trying', 'address', 'issue', 'arnold', 'sachs', 'well', 'understand', 'county', 'hospital', 'understand', 'reopened', 'new', 'hospital', 'hospitals', 'built', 'fairly', 'new', 'saying', 'point', 'hospital', 'get', 'vast', 'infusion', 'money', 'bond', 'passed', 'help', 'retrofitting', 'got', 'huge', 'bond', 'sup', 'knabe', 'chair', 'retrofitting', 'emergency', 'room', 'arnold', 'sachs', 'part', 'hospital', 'sup', 'knabe', 'always', 'line', 'item', 'reopening', 'line', 'item', 'even', 'open', 'retrofitting', 'one', 'exempt', 'like', 'ignored', 'one', 'hospital', 'exempt', 'seismic', 'standards', 'arnold', 'sachs', 'thank', 'sup', 'knabe', 'chair', 'right', 'mr', 'antonovich', 'adjournments', 'items', 'held', 'excuse', 'need', 'go', 'back', 'move', 'seconded', 'yaroslavsky', 'without', 'objection', 'ordered', 'sup', 'antonovich', 'resided', 'pasadena', 'university', 'southern', 'california', 'founded', 'lamberti', 'industries', 'industrial', 'consulting', 'acquired', 'tools', 'production', 'company', 'temple', 'city', 'participated', 'university', 'southern', 'california', 'football', 'catholic', 'charities', 'social', 'philanthropy', 'survived', 'wife', 'joan', 'children', 'also', 'bill', 'bjerke', 'aerospace', 'engineer', 'worked', 'apollo', 'gemini', 'projects', 'resided', 'antelope', 'valley', 'lillian', 'bunny', 'minghelli', 'antelope', 'valley', 'nurse', 'passed', 'away', 'survived', 'five', 'children', 'william', 'baird', 'keigwin', 'served', 'united', 'states', 'air', 'force', 'korean', 'war', 'air', 'traffic', 'controller', 'worked', 'federal', 'aviation', 'administration', 'years', 'knight', 'commander', 'pasadena', 'scottish', 'rite', 'served', 'community', 'elks', 'lodge', 'masonic', 'lodge', 'shriners', 'red', 'cross', 'palmdale', 'methodist', 'church', 'children', 'language', 'center', 'william', 'joe', 'king', 'jr', 'first', 'became', 'associated', 'access', 'services', 'member', 'community', 'advisory', 'committee', 'joined', 'staff', 'access', 'service', 'consumer', 'advocate', 'recognized', 'accomplishments', 'field', 'called', 'eligibility', 'assisted', 'development', 'practices', 'federal', 'transit', 'administration', 'easter', 'seals', 'project', 'action', 'transportation', 'research', 'board', 'advocated', 'improved', 'accessibility', 'disabilities', 'adjournment', 'motions', 'item', 'number', 'million', 'appropriation', 'parking', 'lot', 'museum', 'foundation', 'contributed', 'funds', 'political', 'campaigns', 'dr', 'jane', 'pisano', 'sup', 'antonovich', 'since', 'new', 'parking', 'facility', 'project', 'estimated', 'cost', 'million', 'funded', 'partially', 'fundraising', 'much', 'foundation', 'raise', 'appropriation', 'dr', 'jane', 'pisano', 'money', 'foundation', 'already', 'money', 'pay', 'differential', 'county', 'contribution', 'total', 'cost', 'sup', 'antonovich', 'total', 'cost', 'improvements', 'museum', 'funding', 'including', 'seismic', 'upgrades', 'gallery', 'improvements', 'dr', 'jane', 'pisano', 'total', 'would', 'million', 'plus', 'million', 'plus', 'million', 'sorry', 'number', 'head', 'sup', 'antonovich', 'would', 'county', 'obligated', 'pay', 'additional', 'million', 'entire', 'project', 'costs', 'dr', 'jane', 'pisano', 'parking', 'sup', 'antonovich', 'parking', 'dr', 'jane', 'pisano', 'county', 'already', 'contributed', 'sup', 'antonovich', 'overruns', 'saying', 'dr', 'jane', 'pisano', 'overruns', 'motion', 'clearly', 'states', 'foundation', 'responsible', 'charges', 'county', 'contribution', 'sup', 'antonovich', 'money', 'parking', 'lot', 'costs', 'county', 'dr', 'jane', 'pisano', 'correct', 'sup', 'antonovich', 'total', 'amount', 'county', 'general', 'funds', 'appropriated', 'museum', 'dr', 'jane', 'pisano', 'million', 'plus', 'sorry', 'number', 'right', 'offhand', 'sup', 'antonovich', 'total', 'amount', 'dr', 'jane', 'pisano', 'county', 'contributed', 'money', 'seismic', 'retrofit', 'restoration', 'building', 'state', 'proposition', 'funding', 'county', 'commitment', 'plus', 'million', 'plus', 'million', 'retrofit', 'seismically', 'strengthened', 'retrofit', 'building', 'sup', 'knabe', 'chair', 'question', 'without', 'regard', 'think', 'would', 'nice', 'know', 'morning', 'good', 'morning', 'america', 'museum', 'natural', 'history', 'featured', 'idea', 'going', 'would', 'nice', 'get', 'little', 'heads', 'would', 'get', 'kind', 'publicity', 'nice', 'piece', 'actually', 'several', 'pieces', 'museum', 'dr', 'jane', 'pisano', 'right', 'apologize', 'sup', 'knabe', 'chair', 'thank', 'sup', 'antonovich', 'thank', 'one', 'sup', 'knabe', 'chair', 'got', 'us', 'moved', 'yaroslavsky', 'chair', 'second', 'without', 'objection', 'ordered', 'sup', 'antonovich', 'question', 'supervisor', 'yaroslavsky', 'mr', 'fujioka', 'relative', 'probation', 'grant', 'verbal', 'motion', 'question', 'applying', 'grant', 'asking', 'information', 'grant', 'fujioka', 'believe', 'information', 'timeline', 'associated', 'applying', 'grant', 'sup', 'antonovich', 'information', 'problem', 'fujioka', 'understand', 'getting', 'providing', 'board', 'office', 'issue', 'came', 'fairly', 'quickly', 'sup', 'antonovich', 'already', 'voted', 'support', 'information', 'supporting', 'sup', 'knabe', 'chair', 'voted', 'support', 'moving', 'forward', 'sup', 'yaroslavsky', 'let', 'tell', 'intent', 'know', 'heading', 'think', 'need', 'worry', 'fact', 'would', 'suggest', 'even', 'one', 'thing', 'wanted', 'us', 'even', 'apply', 'next', 'three', 'weeks', 'review', 'decide', 'something', 'want', 'pursue', 'unapply', 'withdraw', 'recommend', 'good', 'deal', 'something', 'good', 'deal', 'ought', 'would', 'suggest', 'maybe', 'heavy', 'day', 'bring', 'back', 'report', 'board', 'stand', 'example', 'applied', 'give', 'us', 'opportunity', 'discuss', 'withdraw', 'fujioka', 'sup', 'yaroslavsky', 'whatever', 'want', 'us', 'go', 'holidays', 'apply', 'think', 'rightly', 'criticized', 'leaving', 'money', 'table', 'potentially', 'fujioka', 'go', 'process', 'keep', 'justice', 'deputies', 'informed', 'sup', 'antonovich', 'grant', 'commits', 'us', 'fund', 'put', 'additional', 'facilities', 'camp', 'challenger', 'fujioka', 'well', 'comes', 'additional', 'commitment', 'bring', 'board', 'quickly', 'possible', 'sup', 'antonovich', 'fujioka', 'applying', 'accepting', 'normally', 'two', 'different', 'steps', 'go', 'avail', 'opportunity', 'go', 'process', 'nothing', 'happens', 'sup', 'antonovich', 'locked', 'saying', 'sup', 'yaroslavsky', 'correct', 'fact', 'scheduled', 'middle', 'january', 'last', 'meeting', 'inauguration', 'opportunity', 'discuss', 'whatever', 'want', 'sup', 'antonovich', 'apply', 'pending', 'board', 'approval', 'fujioka', 'bring', 'back', 'sup', 'yaroslavsky', 'say', 'fujioka', 'yes', 'sup', 'antonovich', 'could', 'direct', 'public', 'works', 'report', 'back', 'let', 'say', 'new', 'regulations', 'resources', 'board', 'promulgated', 'relative', 'diesel', 'engines', 'diesel', 'equipment', 'operate', 'throughout', 'state', 'county', 'operates', 'ability', 'analyze', 'preparing', 'budget', 'factor', 'factor', 'regulations', 'come', 'fujioka', 'sup', 'knabe', 'chair', 'anything', 'else', 'sup', 'antonovich', 'sup', 'knabe', 'chair', 'items', 'us', 'go', 'public', 'comment', 'clerk', 'sachi', 'hamai', 'public', 'comment', 'sup', 'knabe', 'chair', 'okay', 'ask', 'walter', 'becktel', 'come', 'forward', 'lynne', 'shapiro', 'larry', 'falkin', 'nancy', 'vernon', 'marino', 'start', 'following', 'mr', 'shapiro', 'mr', 'sachs', 'would', 'come', 'forward', 'first', 'two', 'testify', 'lynne', 'shapiro', 'say', 'shapiro', 'first', 'sup', 'knabe', 'chair', 'yes', 'lynne', 'shapiro', 'thank', 'came', 'today', 'standing', 'tall', 'citizen', 'wishing', 'speak', 'local', 'representatives', 'feel', 'big', 'time', 'almost', 'us', 'speaking', 'busy', 'things', 'talking', 'people', 'listen', 'us', 'point', 'really', 'disturbing', 'talking', 'things', 'going', 'live', 'rest', 'lives', 'concerned', 'legitimate', 'builders', 'place', 'buildings', 'feet', 'tall', 'right', 'existing', 'homeowners', 'project', 'blocking', 'sunlight', 'destroying', 'value', 'property', 'courtyard', 'tennis', 'court', 'else', 'fair', 'right', 'claimed', 'improving', 'value', 'quality', 'lives', 'something', 'wrong', 'process', 'gentlemen', 'wrong', 'thank', 'sup', 'knabe', 'chair', 'mr', 'becktel', 'walter', 'becktel', 'thank', 'much', 'wanted', 'reiterate', 'something', 'think', 'already', 'talked', 'intellectual', 'property', 'theft', 'think', 'people', 'impression', 'mr', 'pelicano', 'sentenced', 'years', 'believe', 'yesterday', 'federal', 'court', 'something', 'case', 'intellectual', 'property', 'theft', 'never', 'contacted', 'federal', 'government', 'anything', 'case', 'talking', 'separate', 'case', 'going', 'since', 'child', 'city', 'los', 'angeles', 'surrounding', 'communities', 'los', 'angeles', 'county', 'entertainment', 'people', 'involved', 'theft', 'intellectual', 'property', 'tried', 'take', 'several', 'cases', 'courtrooms', 'exhausted', 'judicial', 'remedies', 'also', 'tried', 'stand', 'city', 'los', 'angeles', 'police', 'commission', 'promised', 'would', 'talked', 'nobody', 'talked', 'made', 'hints', 'mentioned', 'want', 'reiterate', 'last', 'remedy', 'relate', 'governing', 'body', 'like', 'city', 'council', 'board', 'supervisors', 'situation', 'going', 'asking', 'ex', 'reo', 'prosecution', 'sort', 'situation', 'give', 'details', 'aware', 'many', 'people', 'individuals', 'mostly', 'involved', 'receiving', 'stolen', 'property', 'copyrighting', 'making', 'music', 'mostly', 'oftentimes', 'also', 'making', 'ideas', 'movies', 'et', 'cetera', 'constitutes', 'intellectual', 'property', 'grand', 'larceny', 'situation', 'also', 'note', 'department', 'corrections', 'appears', 'also', 'involved', 'kind', 'misunderstanding', 'abolished', 'formerly', 'known', 'works', 'projects', 'administration', 'abolished', 'using', 'prisoners', 'force', 'make', 'music', 'rather', 'sit', 'nothing', 'nothing', 'forced', 'believe', 'abolished', 'unconstitutionality', 'somehow', 'continued', 'forward', 'one', 'sure', 'victims', 'major', 'victim', 'area', 'lot', 'entertainment', 'people', 'background', 'family', 'mostly', 'venue', 'owners', 'people', 'like', 'colonel', 'reginald', 'barlow', 'people', 'famous', 'entertainment', 'industry', 'like', 'said', 'would', 'like', 'relate', 'situation', 'would', 'like', 'able', 'see', 'something', 'talk', 'somebody', 'sup', 'knabe', 'chair', 'thank', 'think', 'testified', 'previously', 'mean', 'issue', 'district', 'attorney', 'office', 'maybe', 'somebody', 'county', 'counsel', 'give', 'visit', 'relates', 'contact', 'district', 'attorney', 'office', 'okay', 'thank', 'someone', 'talk', 'walter', 'becktel', 'thank', 'mr', 'sachs', 'come', 'forward', 'gottlieb', 'join', 'us', 'well', 'larry', 'nancy', 'arnold', 'speaker', 'okay', 'wanted', 'bring', 'little', 'history', 'way', 'marina', 'squandered', 'great', 'source', 'revenue', 'actually', 'think', 'lot', 'think', 'many', 'cases', 'staff', 'giving', 'information', 'today', 'guys', 'talking', 'staff', 'give', 'good', 'information', 'make', 'bad', 'decisions', 'heard', 'outside', 'think', 'situation', 'getting', 'getting', 'bad', 'information', 'talking', 'shores', 'talking', 'marina', 'del', 'rey', 'general', 'accident', 'history', 'failure', 'make', 'sound', 'decisions', 'get', 'revenue', 'marina', 'abe', 'lurey', 'allowed', 'keep', 'leases', 'long', 'stopped', 'paying', 'allowed', 'board', 'bring', 'secret', 'partner', 'order', 'keep', 'leases', 'partner', 'turned', 'saudi', 'defaulted', 'leases', 'legal', 'reach', 'anything', 'valuable', 'leases', 'marina', 'went', 'unpaid', 'board', 'decision', 'charge', 'parking', 'fisherman', 'village', 'effectively', 'stopping', 'people', 'going', 'causing', 'many', 'shops', 'close', 'little', 'shops', 'gone', 'pay', 'parking', 'still', 'force', 'quaint', 'marina', 'destination', 'destroyed', 'bad', 'decision', 'board', 'marina', 'city', 'club', 'also', 'leased', 'someone', 'collected', 'lease', 'money', 'owners', 'kept', 'board', 'powerless', 'force', 'pay', 'lease', 'insurance', 'company', 'stepped', 'made', 'payments', 'red', 'onion', 'restaurant', 'closed', 'louise', 'restaurant', 'popular', 'restaurant', 'chain', 'wanted', 'lease', 'board', 'rejected', 'louise', 'restaurants', 'make', 'lots', 'money', 'would', 'good', 'choice', 'pushed', 'away', 'easy', 'diner', 'closed', 'leased', 'company', 'new', 'business', 'gets', 'small', 'fraction', 'customers', 'easy', 'used', 'get', 'larger', 'attached', 'restaurants', 'also', 'valuable', 'waterfront', 'spot', 'poor', 'choices', 'made', 'lease', 'prime', 'time', 'steakhouse', 'harbor', 'house', 'organic', 'paneficcio', 'really', 'poor', 'choices', 'former', 'lasorda', 'restaurant', 'marquesas', 'also', 'waterfront', 'remained', 'empty', 'years', 'benny', 'hana', 'remained', 'empty', 'years', 'apartments', 'end', 'marquesas', 'took', 'many', 'years', 'complete', 'money', 'makers', 'county', 'prior', 'giant', 'new', 'buildings', 'remain', 'percent', 'occupied', 'number', 'people', 'coming', 'lease', 'dried', 'may', 'decade', 'fill', 'revenue', 'lost', 'years', 'many', 'hundreds', 'thousands', 'vacant', 'apartments', 'new', 'complexes', 'provide', 'revenue', 'middle', 'want', 'take', 'yet', 'another', 'apartment', 'build', 'another', 'large', 'apartment', 'county', 'see', 'dime', 'revenue', 'least', 'next', 'years', 'sup', 'knabe', 'chair', 'time', 'thank', 'nancy', 'arnold', 'mr', 'gottlieb', 'nancy', 'marino', 'nancy', 'vernon', 'marino', 'thank', 'like', 'follow', 'things', 'larry', 'said', 'amortized', 'returns', 'county', 'development', 'california', 'coastal', 'commission', 'explicitly', 'clearly', 'recommended', 'comprehensive', 'study', 'done', 'prior', 'comprehensive', 'revision', 'marina', 'del', 'rey', 'local', 'coastal', 'program', 'looks', 'already', 'built', 'success', 'rate', 'used', 'see', 'appropriate', 'future', 'development', 'marina', 'del', 'rey', 'yet', 'county', 'continues', 'headlong', 'piecemeal', 'approach', 'one', 'extremely', 'burdensome', 'us', 'taken', 'challenge', 'trying', 'find', 'going', 'b', 'trying', 'reasonable', 'participation', 'process', 'need', 'master', 'plan', 'need', 'long', 'time', 'ago', 'stands', 'way', 'date', 'closest', 'thing', 'master', 'plan', 'yet', 'followed', 'countless', 'parcels', 'marina', 'reallocated', 'different', 'land', 'use', 'changing', 'whole', 'mix', 'things', 'need', 'take', 'look', 'whole', 'thing', 'california', 'constitution', 'public', 'right', 'participate', 'planning', 'decisions', 'section', 'gives', 'us', 'right', 'give', 'us', 'right', 'finds', 'right', 'convey', 'us', 'kind', 'privilege', 'given', 'us', 'finds', 'right', 'process', 'extraordinarily', 'abusive', 'terms', 'number', 'projects', 'go', 'participate', 'phase', 'project', 'order', 'maintain', 'standing', 'well', 'know', 'unless', 'take', 'herculean', 'task', 'way', 'participating', 'process', 'meaningful', 'way', 'asking', 'supervisors', 'today', 'without', 'delay', 'put', 'agenda', 'whatever', 'next', 'available', 'meeting', 'issue', 'master', 'plan', 'marina', 'del', 'rey', 'come', 'marina', 'del', 'rey', 'talk', 'community', 'find', 'going', 'look', 'happening', 'look', 'projects', 'larry', 'mentioned', 'see', 'happening', 'giving', 'good', 'return', 'county', 'dealing', 'needs', 'people', 'community', 'improving', 'anyone', 'quality', 'life', 'keep', 'please', 'take', 'good', 'long', 'look', 'bad', 'decisions', 'made', 'thank', 'sup', 'knabe', 'chair', 'thank', 'arnold', 'arnold', 'sachs', 'good', 'afternoon', 'arnold', 'sachs', 'start', 'public', 'comment', 'like', 'wish', 'everybody', 'happy', 'healthy', 'holiday', 'season', 'like', 'also', 'include', 'weeks', 'ago', 'missed', 'paul', 'newman', 'death', 'adjournments', 'also', 'missed', 'van', 'johnson', 'death', 'occurred', 'adjournments', 'back', 'metro', 'favorite', 'subject', 'suffered', 'kind', 'loss', 'recent', 'recent', 'downturn', 'economy', 'go', 'metro', 'headquarters', 'pick', 'game', 'monthly', 'quarterly', 'issue', 'called', 'stealing', 'money', 'ho', 'game', 'kinds', 'projects', 'enter', 'put', 'kind', 'metro', 'project', 'even', 'falsely', 'printed', 'gone', 'times', 'metro', 'dollars', 'really', 'metro', 'dollars', 'metro', 'dollars', 'cover', 'cost', 'operations', 'actually', 'public', 'dollars', 'show', 'far', 'behind', 'metro', 'even', 'blueprint', 'plan', 'east', 'side', 'extension', 'went', 'steps', 'taken', 'today', 'like', 'says', 'year', 'major', 'investment', 'study', 'actually', 'going', 'go', 'back', 'metro', 'board', 'suspends', 'metro', 'board', 'suspends', 'construction', 'metro', 'red', 'line', 'east', 'studies', 'begin', 'determine', 'cost', 'efficient', 'project', 'year', 'major', 'investment', 'study', 'considered', 'alternatives', 'metro', 'red', 'line', 'east', 'one', 'study', 'though', 'january', 'looking', 'maintenance', 'facilities', 'one', 'study', 'gold', 'line', 'east', 'side', 'extension', 'included', 'kind', 'permanent', 'facilities', 'gold', 'line', 'temporary', 'facility', 'going', 'used', 'also', 'supposed', 'used', 'expo', 'line', 'kind', 'leadership', 'metro', 'measure', 'r', 'passed', 'going', 'create', 'billion', 'dollars', 'year', 'going', 'create', 'approximately', 'million', 'make', 'threshold', 'billion', 'talked', 'term', 'project', 'reasonable', 'question', 'tax', 'sites', 'according', 'article', 'times', 'october', 'raised', 'million', 'beginning', 'taxes', 'certain', 'sum', 'projected', 'much', 'certain', 'sum', 'projected', 'taxes', 'increased', 'money', 'show', 'money', 'produced', 'always', 'thank', 'time', 'answers', 'attention', 'sup', 'knabe', 'chair', 'thank', 'arnold', 'sachs', 'see', 'sup', 'knabe', 'chair', 'okay', 'go', 'read', 'closed', 'session', 'would', 'like', 'say', 'behalf', 'colleagues', 'county', 'family', 'citizens', 'los', 'angeles', 'county', 'however', 'celebrate', 'holidays', 'hope', 'joyful', 'healthy', 'peaceful', 'family', 'friends', 'great', 'safe', 'holiday', 'season', 'us', 'county', 'families', 'citizens', 'los', 'angeles', 'county', 'god', 'bless', 'clerk', 'sachi', 'hamai', 'accordance', 'brown', 'act', 'requirements', 'notice', 'hereby', 'given', 'board', 'supervisors', 'convene', 'closed', 'session', 'discuss', 'item', 'conferences', 'legal', 'counsel', 'regarding', 'existing', 'litigation', 'item', 'number', 'conference', 'legal', 'counsel', 'regarding', 'significant', 'exposure', 'litigation', 'one', 'case', 'item', 'interview', 'consideration', 'candidates', 'position', 'item', 'number', 'conference', 'legal', 'counsel', 'regarding', 'existing', 'litigation', 'item', 'consideration', 'appointment', 'emilio', 'salas', 'acting', 'executive', 'director', 'community', 'development', 'commission', 'housing', 'authority', 'pursuant', 'government', 'code', 'section', 'indicated', 'posted', 'supplemental', 'agenda', 'thank', 'report', 'action', 'taken', 'closed', 'session', 'tuesday', 'december', 'agenda', 'item', 'continued', 'monday', 'december', 'jennifer']\n"
     ]
    }
   ],
   "source": [
    "print(\"The most frequent unigrams:\", most_freq_unigrams())"
   ]
  },
  {
   "cell_type": "code",
   "execution_count": 11,
   "metadata": {
    "collapsed": false
   },
   "outputs": [
    {
     "name": "stdout",
     "output_type": "stream",
     "text": [
      "KNABE, CHAIR: CALL THE MEETING TO ORDER, PLEASE, IF EVERYONE WOULD PLEASE RISE.\n"
     ]
    }
   ],
   "source": [
    "with open('115039_12-16-08.txt', 'r') as f:\n",
    "    raw = f.read()\n",
    "#Finding Start and End of the Actual Text -- eliminating content, preface, and  bibliographies at the end    \n",
    "start = (raw.find(\"REPORT OF ACTION TAKEN IN CLOSED SESSION\")) +85\n",
    "end = (raw.rfind('Certified Shorthand Reporter'))-10\n",
    "raw = raw[start:end]\n",
    "\n",
    "raw_tokenized_sent = sent_tokenizer.tokenize(raw)\n",
    "print(raw_tokenized_sent[1])"
   ]
  },
  {
   "cell_type": "code",
   "execution_count": 12,
   "metadata": {
    "collapsed": false
   },
   "outputs": [
    {
     "name": "stdout",
     "output_type": "stream",
     "text": [
      "['SUP', '.', 'KNABE', ',', 'CHAIR', ':', 'CALL', 'THE', 'MEETING', 'TO', 'ORDER', ',', 'PLEASE', ',', 'IF', 'EVERYONE', 'WOULD', 'PLEASE', 'RISE', '.', 'WE', 'WILL', 'BE', 'LED', 'IN', 'THE', 'INVOCATION', 'THIS', 'MORNING', 'BY']\n"
     ]
    }
   ],
   "source": [
    "raw= raw.replace(\"-\\n\",\"\")\n",
    "pattern = r'''(?x) # set flag to allow verbose regexps\n",
    "(?:[A-Z]\\.)+ # abbreviations, e.g. U.S.A.\n",
    "| \\w+(?:-\\w+)* # words with optional internal hyphens\n",
    "| \\d{1,2}:\\d{2} # time as one token\n",
    "| \\$?\\d+(?:\\.\\d+)?%? # currency and percentages, e.g. $12.40, 82%\n",
    "| \\.\\.\\. # ellipsis\n",
    "| [][.,;\"'?():-_`] # these are separate tokens; includes ], [\n",
    "'''\n",
    "tokenized_raw_text = nltk.regexp_tokenize(raw, pattern)\n",
    "print(tokenized_raw_text[:30])"
   ]
  },
  {
   "cell_type": "code",
   "execution_count": 13,
   "metadata": {
    "collapsed": false
   },
   "outputs": [
    {
     "data": {
      "text/plain": [
       "41114"
      ]
     },
     "execution_count": 13,
     "metadata": {},
     "output_type": "execute_result"
    }
   ],
   "source": [
    "len(tokenized_raw_text)"
   ]
  },
  {
   "cell_type": "code",
   "execution_count": 14,
   "metadata": {
    "collapsed": true
   },
   "outputs": [],
   "source": [
    "tokenized_raw_text_new = [w for w in tokenized_raw_text if w.isalpha()]"
   ]
  },
  {
   "cell_type": "code",
   "execution_count": 15,
   "metadata": {
    "collapsed": true
   },
   "outputs": [],
   "source": [
    "tokenized_raw_text_wo_stopwords = [x.lower() for x in tokenized_raw_text_new if x.lower() not in stopwords.words('english')]"
   ]
  },
  {
   "cell_type": "code",
   "execution_count": 16,
   "metadata": {
    "collapsed": true
   },
   "outputs": [],
   "source": [
    "fd_wo_stopwords = FreqDist(tokenized_raw_text_wo_stopwords)  # compute the frequency distribution\n",
    "fd_top_20 =fd_wo_stopwords.most_common(50)"
   ]
  },
  {
   "cell_type": "code",
   "execution_count": 17,
   "metadata": {
    "collapsed": false
   },
   "outputs": [
    {
     "data": {
      "text/plain": [
       "[('sup', 370),\n",
       " ('chair', 177),\n",
       " ('knabe', 164),\n",
       " ('would', 162),\n",
       " ('county', 133),\n",
       " ('going', 125),\n",
       " ('board', 119),\n",
       " ('thank', 114),\n",
       " ('item', 113),\n",
       " ('number', 113),\n",
       " ('yaroslavsky', 94),\n",
       " ('sheriff', 94),\n",
       " ('us', 93),\n",
       " ('think', 92),\n",
       " ('antonovich', 90),\n",
       " ('one', 89),\n",
       " ('supervisor', 79),\n",
       " ('also', 78),\n",
       " ('larry', 75),\n",
       " ('waldie', 72),\n",
       " ('people', 69),\n",
       " ('time', 67),\n",
       " ('want', 66),\n",
       " ('mr', 64),\n",
       " ('make', 64),\n",
       " ('molina', 64),\n",
       " ('los', 64),\n",
       " ('angeles', 64),\n",
       " ('project', 62),\n",
       " ('know', 58),\n",
       " ('could', 56),\n",
       " ('right', 55),\n",
       " ('back', 55),\n",
       " ('like', 53),\n",
       " ('get', 52),\n",
       " ('go', 51),\n",
       " ('two', 50),\n",
       " ('well', 47),\n",
       " ('yes', 45),\n",
       " ('may', 44),\n",
       " ('years', 44),\n",
       " ('issue', 43),\n",
       " ('come', 42),\n",
       " ('sachs', 41),\n",
       " ('new', 40),\n",
       " ('today', 40),\n",
       " ('many', 40),\n",
       " ('public', 40),\n",
       " ('okay', 40),\n",
       " ('department', 40)]"
      ]
     },
     "execution_count": 17,
     "metadata": {},
     "output_type": "execute_result"
    }
   ],
   "source": [
    "fd_top_20"
   ]
  },
  {
   "cell_type": "code",
   "execution_count": 18,
   "metadata": {
    "collapsed": false
   },
   "outputs": [],
   "source": [
    "date_pattern = r'''(?x) # set flag to allow verbose regexps\n",
    "(mon|tues|wednes|thurs|fri|satur|sun)day #days of the week\n",
    "|(jan(uary)?|feb(ruary)?|mar(ch)?|apr(il)?|may|jun(e)?|jul(y)?|aug(ust)?|sep(tember)?|oct(ober)?|nov(ember)?|dec(ember)?)\\s+\\d{1,2},\\s+\\d{4}\n",
    "|(january|february|march|april|june|july|august|september|october|november|december) #months\n",
    "|^(19|20)\\d{2}$ #years between 1900-2099\n",
    "'''\n",
    "# |(january|february|march|april|may|june|july|august|september|october|november|december) #months\n",
    "# |^(19|20)\\d{2}$ #years between 1900-2099\n"
   ]
  },
  {
   "cell_type": "code",
   "execution_count": 19,
   "metadata": {
    "collapsed": false
   },
   "outputs": [],
   "source": [
    "import re\n",
    "sentences_with_dates=[]\n",
    "for i in range(len(raw_tokenized_sent)):\n",
    "    if len(re.findall(date_pattern, raw_tokenized_sent[i].strip().lower()))!=0:\n",
    "        sentences_with_dates.append((raw_tokenized_sent[i-1]+raw_tokenized_sent[i]).strip().lower())"
   ]
  },
  {
   "cell_type": "code",
   "execution_count": 20,
   "metadata": {
    "collapsed": false
   },
   "outputs": [
    {
     "name": "stdout",
     "output_type": "stream",
     "text": [
      "on item number 12, supervisor knabe requests that this item be held.on item number 13, the chief executive officer requests that this item be continued to january 13th, 2009.\n",
      "\n",
      "on item 51, there's a request from a member of the public to hold this item.and on item number 60, the interim director of health services requests that the corrective action plan be continued to january 6th, 2009, but the settlement be approved today.\n",
      "\n",
      "public hearings, item 71 we will hold for a public hearing.on item 72, as indicated on the supplemental agenda, supervisor ridley-thomas requests that this item be continued without discussion to january 27th, 2009.\n",
      "\n",
      "knabe, chair: so ordered.clerk sachi hamai: on item 73, as indicated on the supplemental agenda, supervisor ridley-thomas requests that this item be continued without discussion to february 24th, 2009.\n",
      "\n",
      "he owns an 803 to 655 win-loss record for 551 winning percentage with the angels.he reached the 800 win plateau on september 22nd with a 2-1 victory over seattle.\n",
      "\n",
      "under his leadership, they have won 90 or more in five of the last seven seasons.the numerous community events include he's co chair of the angels care 65 roses golf tournament, the chairman of the heart association heart and soul walk, supports local little leagues throughout the mike scioscia youth baseball clinic make-a-wish foundation, and also, through his leadership, the monrovia boys and girls club raise about 75 percent of their budget each january/february when they do their annual dinner and mike does a phenomenal job as the auctioneer.\n",
      "\n",
      "and so let me just say that we are indeed pleased to have them with us this morning.you will want to know that they will be featured on the holiday celebration national show on december 17th and december the 24th at 10 p.m. on p.b.s.\n",
      "\n",
      "make sure that you don't miss it.in addition, they are performing at the 49th annual holiday celebration at the dorothy chandler pavilion on december the 24th.\n",
      "\n",
      "for the first year they are doing highlights of the version of the 2007 show.and it will air for the first time tomorrow night, december 17th, at 10 p.m. on k.c.e.t.\n",
      "\n",
      "we have with us danelle prado, james klefley, jennifer weinstein luc robitaille, los angeles kings hockey club, and trish ploehn, of the director of our department of the children and family services.we are going to recognize their hard work, leadership and dedication to partnering with our department of children and family services to promote positive outcomes for our children in foster care and to help find permanent and loving families through the support of the freddie mack foundation's wednesday child program and fox 11 news, the heart gallery los angeles, and the department's adoption matching events and awareness campaigns.\n",
      "\n",
      "thank you very much.for many years, the l.a. kings has been a proud sponsor of the freddie mack foundation's wednesday's child program.\n",
      "\n",
      "and we support the endeavors of the l.a. county department of children and family services in the collective quest to find permanent and loving homes in hundreds of the l.a. county's foster children.special thanks to supervisor antonovich and the other members of the board and welcoming to new supervisor mike ridley- thomas and trish ploehn and d.c.f, and of course, christine devine, and of course, the fox wednesday's child team.\n",
      "\n",
      "obviously taking deputies off the streets, particularly in unincorporated areas.i know some of the others have questions, but i think it might be appropriate, at least what has changed from last tuesday, where it was a million dollars cost, to today where obviously you have a letter saying no costs?\n",
      "\n",
      "molina: and then one of the constituents wrote me that she felt that she should go along in order to take pictures of them partying out there.but as i understand, they travel on sunday.\n",
      "\n",
      "but as i understand, they travel on sunday.they train on monday.\n",
      "\n",
      "they train on monday.they work on tuesday all day, 16 hours, as i understand.\n",
      "\n",
      "they work on tuesday all day, 16 hours, as i understand.and they return on wednesday.\n",
      "\n",
      "you make certain assumptions, mr. waldie.you make certain assumptions about how many people are going to be sick during the course of the year, how many are going to be on vacation during the year, this is january.\n",
      "\n",
      "you make certain assumptions about how many people are going to be sick during the course of the year, how many are going to be on vacation during the year, this is january.the number of employees sick rises in january, as you well know.\n",
      "\n",
      "sup.molina: i can also assure you that on sunday you have to find some other flight to go there.\n",
      "\n",
      "molina: i can also assure you that on sunday you have to find some other flight to go there.there are no flights available to d.c. on sunday.\n",
      "\n",
      "it's for a report.hopefully back at our january 6th meeting.\n",
      "\n",
      "i therefore move the board of supervisors direct the c.e.o.along with the assistance of the departments, our legislative advocates and board offices to report back at the board meeting on january 6th with a final list of major projects and initiatives that are most likely to qualify for funding by the federal economic recovery legislation and a legislative strategy to maximize funding for the los angeles county projects.\"\n",
      "\n",
      "sup.ridley-thomas: i ask that we adjourn in memory of earl portlock office of father of city attorney staff member, zna houston, who recently passed on november 10 at the age of 82.\n",
      "\n",
      "yaroslavsky: okay.and the issue for me, i hope it's for the rest of the board, too, is that we ought to make every effort to determine whether this is in our best interest and not forgo the opportunity to apply for this money and the deadline is january 6th, which is the day we come back after the first of the year.\n",
      "\n",
      "and i'm here to give you an update, a status report regarding the sexual assault kit issue.i appeared before the board on november 12th.\n",
      "\n",
      "and phase three was to determine the status of those kits so that we could prioritize them for testing.as of the november 12th meeting we had finished phase one, which was to count the kits.\n",
      "\n",
      "as of the november 12th meeting we had finished phase one, which was to count the kits.we have now, since november 12th, finished phase 2, which was to determine how many untested kits there were, and that is in the letter that was provided to you, that's 4,727 and we are now in the midst of phase three, which is, what we did was we took all the untested kits, we divided those cases up by whose cases they were, sent them out to all the units in the sheriff's department that those cases belonged to and to special victims' bureau, and also to all the independent agencies along with a questionnaire.\n",
      "\n",
      "cases that have suspect's name that are unadjudicated, cases that were declined for filing, and cases that are adjudicated.what we're also doing with those is since we are looking at a timeframe of completing this study in mid-january-- we have the holidays coming up, some issues there-- but we're looking at this completely done by mid-january.\n",
      "\n",
      "and we have also sent a letter out to all independent police agencies advising them of the sheriff's new policy in the handling and processing of kits.and i am also going to be attending the january 15th meeting of the los angeles county chiefs of police association where i will again be explaining the new policy to them and answering questions that they have.\n",
      "\n",
      "when will you complete that survey?earl shields: like i said, we're looking at completing phase three, which is what we're talking about here, middle part of january.\n",
      "\n",
      "yaroslavsky: i'm not going to take any more time.can we get a status report, say in the fourth meeting of january, whatever date that is?\n",
      "\n",
      "that would give you more than six weeks.january 13th or the 20th was canceled today.\n",
      "\n",
      "sup.yaroslavsky: so i move we can put this over to january 27th.\n",
      "\n",
      "first of all, that we adjourn in memory of officer joseph sanders, the california highway patrol officer who was killed yesterday morning attending to a traffic accident on the eastbound 60 in hacienda heights.officer sanders was a marine veteran who fought in iraq, returned from duty in july 2006, was with c.h.p.\n",
      "\n",
      "also adjourn in memory of the honorable thomas mayfeld, supervisor and he was chairman of the board of the stanislaus county board of supervisors.he passed away on december 9th after a long illness.\n",
      "\n",
      "also adjourn in memory of victor evers, a long time resident of lakewood and long beach area, the father of c.e.o.employee vickie evers, who passed away on december 8th at the age of 84.\n",
      "\n",
      "he is survived by wife, soraya, three children, father and stepmother, three siblings and their spouses.also that we adjourn in memory of julianna huerta, who passed away on december 6th after a five-year battle with breast cancer.\n",
      "\n",
      "she's survived by her husband of 44 years, james, children christina, james and their spouses.also that we adjourn in memory of john lawrence, fire captain of the city of los angeles who passed away very suddenly on december 14th.\n",
      "\n",
      "he is survived survived by his sons james and randall, five grandchildren, seven great grandchildren.his wife preceded him in death this past august.\n",
      "\n",
      "that's just for the extension.if they don't meet the requirements to have all regulatory approvals and permits by 2010, within 15 days, by july 15th, they owe another $250,000.\n",
      "\n",
      "i am the case planner for hearing item number 71.on december 13th, 2006, the regional planning commission approved a coastal development permit, parking permit and variance to authorize the demolition of an existing 202-unit apartment complex and subsequent construction of a 544-unit complex in the residential five category of the marina del rey specific plan.\n",
      "\n",
      "on december 13th, 2006, the regional planning commission approved a coastal development permit, parking permit and variance to authorize the demolition of an existing 202-unit apartment complex and subsequent construction of a 544-unit complex in the residential five category of the marina del rey specific plan.the marina strand colony 2 homeowners' association appealed the regional planning commission's decision to your board and on march 27th, 2007 your board denied this appeal.\n",
      "\n",
      "for off-site transport of cut material.the draft additional environmental analysis was made available to the public on october 4th, 2008.\n",
      "\n",
      "the final additional environmental analysis addresses the relevant comments made in these letters.an additional letter was received via email on december 11th from rose zoya, counsel to the homeowners' association that originally filed suit against the county.\n",
      "\n",
      "speaker: i do feel that it would be fair for us to request a continuance.i do have a statement today, but the shores was given from november 25th to december 16th to respond to us.\n",
      "\n",
      "for the combined public hearing on the reapproval of the shores apartment project r-2005-00234 located at 4201 via marina, marina del rey, i therefore move that the board, one, close the public hearing and certify that the final additional environmental analysis, final additional environmental analysis prepared for the shores project number r-2005-00234 is in compliance with the c.e.q.a.and with the june 2008 written mandate issued by the los angeles county superior court.\n",
      "\n",
      "and the variance number 2005-00004.and, five, instruct county counsel to prepare the final findings and conditions necessary for these approvals to bring them back on january 27th, 2009 for this board's consideration.\n",
      "\n",
      "i think the c.e.o.wanted that continued to january 6th, is that correct?\n",
      "\n",
      "knabe, chair: item number 20, we're going to continue this.but i just want to make a brief comment because i'm asking for it to be continued till the end of january for a couple reasons.\n",
      "\n",
      "also, i understand first five was approached to increase their funding commitment and they declined.however, i would like to follow-up on this in january when i become chair of first five and explore the issue with them.\n",
      "\n",
      "however, i would like to follow-up on this in january when i become chair of first five and explore the issue with them.so i would like to just put that on the record but continue this item until the end of january, last meeting in january.\n",
      "\n",
      "so ordered.continued to the last meeting in january.\n",
      "\n",
      "yaroslavsky: that's correct.in fact, we should scheduled it before the middle of january, 13th, the last meeting before the inauguration, so we have an opportunity to discuss it and do whatever you want to do with it.\n",
      "\n",
      "metro board suspends-- 1998 metro board suspends construction of metro red line to east l.a. studies begin to determine a more cost efficient project.in the year 2000, a major investment study considered 47 alternatives to the metro red line to east l.a. not one study, though, because as of january, they're looking for maintenance facilities-- so not one study of the gold line, the east side extension, included any kind of permanent facilities for the gold line.\n",
      "\n",
      "so the question is you have these tax sites in 1980 and 1990.and according to an article in from the l.a. times from october 30th, each of those raised $686 million in 2007.\n",
      "\n",
      "thank you.report of action taken in closed\r",
      "session tuesday, december 16, 2008\r",
      "\r",
      "\r",
      "\r",
      "agenda item cs-4 was continued to monday, december 22, 2008 at 9:00 a.m.\n",
      "\n"
     ]
    }
   ],
   "source": [
    "for sentence in sentences_with_dates:\n",
    "    print(sentence+'\\n')"
   ]
  },
  {
   "cell_type": "code",
   "execution_count": 21,
   "metadata": {
    "collapsed": true
   },
   "outputs": [],
   "source": [
    "def train_tagger_on_brown():\n",
    "    brown_tagged_sents = treebank.tagged_sents()\n",
    "    return train_tagger(brown_tagged_sents)"
   ]
  },
  {
   "cell_type": "code",
   "execution_count": 22,
   "metadata": {
    "collapsed": false
   },
   "outputs": [
    {
     "ename": "AttributeError",
     "evalue": "'module' object has no attribute 'tagged_sents'",
     "output_type": "error",
     "traceback": [
      "\u001b[0;31m---------------------------------------------------------------------------\u001b[0m",
      "\u001b[0;31mAttributeError\u001b[0m                            Traceback (most recent call last)",
      "\u001b[0;32m<ipython-input-22-af70fd43849f>\u001b[0m in \u001b[0;36m<module>\u001b[0;34m()\u001b[0m\n\u001b[0;32m----> 1\u001b[0;31m \u001b[0mbrown_tagger\u001b[0m \u001b[0;34m=\u001b[0m \u001b[0mtrain_tagger_on_brown\u001b[0m\u001b[0;34m(\u001b[0m\u001b[0;34m)\u001b[0m\u001b[0;34m\u001b[0m\u001b[0m\n\u001b[0m",
      "\u001b[0;32m<ipython-input-21-4a117f9efdf5>\u001b[0m in \u001b[0;36mtrain_tagger_on_brown\u001b[0;34m()\u001b[0m\n\u001b[1;32m      1\u001b[0m \u001b[0;32mdef\u001b[0m \u001b[0mtrain_tagger_on_brown\u001b[0m\u001b[0;34m(\u001b[0m\u001b[0;34m)\u001b[0m\u001b[0;34m:\u001b[0m\u001b[0;34m\u001b[0m\u001b[0m\n\u001b[0;32m----> 2\u001b[0;31m     \u001b[0mbrown_tagged_sents\u001b[0m \u001b[0;34m=\u001b[0m \u001b[0mtreebank\u001b[0m\u001b[0;34m.\u001b[0m\u001b[0mtagged_sents\u001b[0m\u001b[0;34m(\u001b[0m\u001b[0;34m)\u001b[0m\u001b[0;34m\u001b[0m\u001b[0m\n\u001b[0m\u001b[1;32m      3\u001b[0m     \u001b[0;32mreturn\u001b[0m \u001b[0mtrain_tagger\u001b[0m\u001b[0;34m(\u001b[0m\u001b[0mbrown_tagged_sents\u001b[0m\u001b[0;34m)\u001b[0m\u001b[0;34m\u001b[0m\u001b[0m\n",
      "\u001b[0;31mAttributeError\u001b[0m: 'module' object has no attribute 'tagged_sents'"
     ]
    }
   ],
   "source": [
    "brown_tagger = train_tagger_on_brown()"
   ]
  },
  {
   "cell_type": "code",
   "execution_count": null,
   "metadata": {
    "collapsed": true
   },
   "outputs": [],
   "source": [
    "def tokenize_text(corpus):\n",
    "    sent_tokenizer = nltk.data.load('tokenizers/punkt/english.pickle')\n",
    "    raw_sents = sent_tokenizer.tokenize(corpus) # Split text into sentences    \n",
    "    return [nltk.word_tokenize(word.lower()) for word in raw_sents]\n",
    "\n",
    "def create_corpus(f): \n",
    "    with open(f, 'r',encoding='ISO-8859-1') as text_file: \n",
    "        new_corpus = text_file.read()\n",
    "        start = (new_corpus.find(\"REPORT OF ACTION TAKEN IN CLOSED SESSION\")) +85\n",
    "        end = (new_corpus.rfind('Certified Shorthand Reporter'))-10\n",
    "        new_corpus = new_corpus[start:end]\n",
    "        new_corpus= new_corpus.replace(\"- \\n\",\"\")\n",
    "    return new_corpus"
   ]
  },
  {
   "cell_type": "code",
   "execution_count": null,
   "metadata": {
    "collapsed": false
   },
   "outputs": [],
   "source": [
    "mybook_file = '115039_12-16-08.txt'\n",
    "mybook_sents = tokenize_text(create_corpus(mybook_file))\n",
    "mybook_sents"
   ]
  },
  {
   "cell_type": "code",
   "execution_count": null,
   "metadata": {
    "collapsed": true
   },
   "outputs": [],
   "source": [
    "def get_mybook(sents, tagger):\n",
    "    return [tagger.tag(sent) for sent in sents]   "
   ]
  },
  {
   "cell_type": "code",
   "execution_count": null,
   "metadata": {
    "collapsed": false
   },
   "outputs": [],
   "source": [
    "mybook_tags = get_mybook(mybook_sents, brown_tagger)"
   ]
  },
  {
   "cell_type": "code",
   "execution_count": null,
   "metadata": {
    "collapsed": false
   },
   "outputs": [],
   "source": [
    "mybook_tags"
   ]
  },
  {
   "cell_type": "code",
   "execution_count": null,
   "metadata": {
    "collapsed": false
   },
   "outputs": [],
   "source": [
    "#brown_tagger = train_tagger_on_brown()"
   ]
  },
  {
   "cell_type": "code",
   "execution_count": null,
   "metadata": {
    "collapsed": true
   },
   "outputs": [],
   "source": [
    "def V2Vchunker(sentence):\n",
    "    grammar= r\"\"\"\n",
    "    V2V_CHUNK: \n",
    "           {<V.*> <TO> <V.*>}\n",
    "    \"\"\"\n",
    "    cp=nltk.RegexpParser(grammar)\n",
    "    result = cp.parse(sentence)\n",
    "    return result"
   ]
  },
  {
   "cell_type": "code",
   "execution_count": null,
   "metadata": {
    "collapsed": false
   },
   "outputs": [],
   "source": [
    "from operator import itemgetter\n",
    "\n",
    "for sent in mybook_tags:\n",
    "    V2V_tree = V2Vchunker(sent)\n",
    "    for subtree in V2V_tree.subtrees():\n",
    "        if subtree.label() == 'V2V_CHUNK': \n",
    "            print(subtree)"
   ]
  },
  {
   "cell_type": "code",
   "execution_count": null,
   "metadata": {
    "collapsed": true
   },
   "outputs": [],
   "source": [
    "def NP_IN_chunker(sentence):\n",
    "    grammar= r\"\"\"\n",
    "    NP_IN_CHUNK: \n",
    "           {<[CDJNP].*>+} \n",
    "          \n",
    "    \"\"\"\n",
    "    cp=nltk.RegexpParser(grammar)\n",
    "    result = cp.parse(sentence)\n",
    "    return result"
   ]
  },
  {
   "cell_type": "code",
   "execution_count": 23,
   "metadata": {
    "collapsed": false
   },
   "outputs": [
    {
     "ename": "NameError",
     "evalue": "name 'mybook_tags' is not defined",
     "output_type": "error",
     "traceback": [
      "\u001b[0;31m---------------------------------------------------------------------------\u001b[0m",
      "\u001b[0;31mNameError\u001b[0m                                 Traceback (most recent call last)",
      "\u001b[0;32m<ipython-input-23-6815831e0479>\u001b[0m in \u001b[0;36m<module>\u001b[0;34m()\u001b[0m\n\u001b[0;32m----> 1\u001b[0;31m \u001b[0;32mfor\u001b[0m \u001b[0msent\u001b[0m \u001b[0;32min\u001b[0m \u001b[0mmybook_tags\u001b[0m\u001b[0;34m:\u001b[0m\u001b[0;34m\u001b[0m\u001b[0m\n\u001b[0m\u001b[1;32m      2\u001b[0m     \u001b[0mNP_IN_tree\u001b[0m \u001b[0;34m=\u001b[0m \u001b[0mNP_IN_chunker\u001b[0m\u001b[0;34m(\u001b[0m\u001b[0msent\u001b[0m\u001b[0;34m)\u001b[0m\u001b[0;34m\u001b[0m\u001b[0m\n\u001b[1;32m      3\u001b[0m     \u001b[0;32mfor\u001b[0m \u001b[0msubtree\u001b[0m \u001b[0;32min\u001b[0m \u001b[0mNP_IN_tree\u001b[0m\u001b[0;34m.\u001b[0m\u001b[0msubtrees\u001b[0m\u001b[0;34m(\u001b[0m\u001b[0;34m)\u001b[0m\u001b[0;34m:\u001b[0m\u001b[0;34m\u001b[0m\u001b[0m\n\u001b[1;32m      4\u001b[0m         \u001b[0;32mif\u001b[0m \u001b[0msubtree\u001b[0m\u001b[0;34m.\u001b[0m\u001b[0mlabel\u001b[0m\u001b[0;34m(\u001b[0m\u001b[0;34m)\u001b[0m \u001b[0;34m==\u001b[0m \u001b[0;34m'NP_IN_CHUNK'\u001b[0m\u001b[0;34m:\u001b[0m \u001b[0;32mprint\u001b[0m\u001b[0;34m(\u001b[0m\u001b[0msubtree\u001b[0m\u001b[0;34m)\u001b[0m\u001b[0;34m\u001b[0m\u001b[0m\n",
      "\u001b[0;31mNameError\u001b[0m: name 'mybook_tags' is not defined"
     ]
    }
   ],
   "source": [
    "for sent in mybook_tags:\n",
    "    NP_IN_tree = NP_IN_chunker(sent)\n",
    "    for subtree in NP_IN_tree.subtrees():\n",
    "        if subtree.label() == 'NP_IN_CHUNK': print(subtree)"
   ]
  },
  {
   "cell_type": "code",
   "execution_count": 121,
   "metadata": {
    "collapsed": true
   },
   "outputs": [],
   "source": [
    "proper_nouns=[]\n",
    "for sent in mybook_tags:\n",
    "    NP_tree = NPchunker(sent)\n",
    "    for subtree in NP_tree.subtrees():\n",
    "        if subtree.label() == 'NP_CHUNK': \n",
    "            proper_nouns.append(subtree[0][0])"
   ]
  },
  {
   "cell_type": "code",
   "execution_count": 122,
   "metadata": {
    "collapsed": false
   },
   "outputs": [
    {
     "data": {
      "text/plain": [
       "[('going', 52),\n",
       " ('want', 48),\n",
       " ('trying', 18),\n",
       " ('wanted', 10),\n",
       " ('like', 9),\n",
       " ('need', 6),\n",
       " ('tried', 4),\n",
       " ('came', 4),\n",
       " ('used', 3),\n",
       " ('continue', 3),\n",
       " ('afford', 2),\n",
       " ('hope', 2),\n",
       " ('got', 2),\n",
       " ('try', 2),\n",
       " ('voted', 2),\n",
       " ('inclined', 2),\n",
       " ('asked', 2),\n",
       " ('allowed', 2),\n",
       " ('starting', 2),\n",
       " ('done', 2),\n",
       " ('continued', 1),\n",
       " ('failed', 1),\n",
       " ('continues', 1),\n",
       " ('wishing', 1),\n",
       " ('sniffed', 1),\n",
       " ('use', 1),\n",
       " ('pledged', 1),\n",
       " ('equipped', 1),\n",
       " ('prepared', 1),\n",
       " ('pleased', 1),\n",
       " ('passed', 1),\n",
       " ('forced', 1),\n",
       " ('threatening', 1),\n",
       " ('funding', 1),\n",
       " ('affirm', 1),\n",
       " ('revised', 1),\n",
       " ('modified', 1),\n",
       " ('proceed', 1),\n",
       " ('leaves', 1),\n",
       " ('obliged', 1),\n",
       " ('get', 1),\n",
       " ('begin', 1),\n",
       " ('begun', 1),\n",
       " ('protected', 1),\n",
       " ('coming', 1),\n",
       " ('refused', 1),\n",
       " ('delighted', 1),\n",
       " ('supposed', 1),\n",
       " ('plan', 1),\n",
       " ('search', 1)]"
      ]
     },
     "execution_count": 122,
     "metadata": {},
     "output_type": "execute_result"
    }
   ],
   "source": [
    "mp_freqdist = FreqDist(proper_nouns)  # compute the frequency distribution\n",
    "mp_freqdist.most_common(50)  # show the top 20 (word, frequency) pairs"
   ]
  },
  {
   "cell_type": "code",
   "execution_count": 80,
   "metadata": {
    "collapsed": true
   },
   "outputs": [],
   "source": [
    "date_pattern = r'''(?x) # set flag to allow verbose regexps\n",
    "item(s)?\n",
    "'''\n",
    "# |(january|february|march|april|may|june|july|august|september|october|november|december) #months\n",
    "# |^(19|20)\\d{2}$ #years between 1900-2099\n"
   ]
  },
  {
   "cell_type": "code",
   "execution_count": 40,
   "metadata": {
    "collapsed": false
   },
   "outputs": [],
   "source": [
    "import re\n",
    "sentences_with_agendaitems=[]\n",
    "for i in range(len(raw_tokenized_sent)):\n",
    "    if len(re.findall(date_pattern, raw_tokenized_sent[i].strip().lower()))!=0:\n",
    "        sentences_with_agendaitems.append((raw_tokenized_sent[i]).strip().lower())"
   ]
  },
  {
   "cell_type": "code",
   "execution_count": 41,
   "metadata": {
    "collapsed": false
   },
   "outputs": [
    {
     "name": "stdout",
     "output_type": "stream",
     "text": [
      "on item number 13, the chief executive officer requests that this item be continued to january 13th, 2009.\n",
      "\n",
      "and on item number 60, the interim director of health services requests that the corrective action plan be continued to january 6th, 2009, but the settlement be approved today.\n",
      "\n",
      "on item 72, as indicated on the supplemental agenda, supervisor ridley-thomas requests that this item be continued without discussion to january 27th, 2009.\n",
      "\n",
      "clerk sachi hamai: on item 73, as indicated on the supplemental agenda, supervisor ridley-thomas requests that this item be continued without discussion to february 24th, 2009.\n",
      "\n",
      "he reached the 800 win plateau on september 22nd with a 2-1 victory over seattle.\n",
      "\n",
      "the numerous community events include he's co chair of the angels care 65 roses golf tournament, the chairman of the heart association heart and soul walk, supports local little leagues throughout the mike scioscia youth baseball clinic make-a-wish foundation, and also, through his leadership, the monrovia boys and girls club raise about 75 percent of their budget each january/february when they do their annual dinner and mike does a phenomenal job as the auctioneer.\n",
      "\n",
      "you will want to know that they will be featured on the holiday celebration national show on december 17th and december the 24th at 10 p.m. on p.b.s.\n",
      "\n",
      "in addition, they are performing at the 49th annual holiday celebration at the dorothy chandler pavilion on december the 24th.\n",
      "\n",
      "and it will air for the first time tomorrow night, december 17th, at 10 p.m. on k.c.e.t.\n",
      "\n",
      "we are going to recognize their hard work, leadership and dedication to partnering with our department of children and family services to promote positive outcomes for our children in foster care and to help find permanent and loving families through the support of the freddie mack foundation's wednesday child program and fox 11 news, the heart gallery los angeles, and the department's adoption matching events and awareness campaigns.\n",
      "\n",
      "for many years, the l.a. kings has been a proud sponsor of the freddie mack foundation's wednesday's child program.\n",
      "\n",
      "special thanks to supervisor antonovich and the other members of the board and welcoming to new supervisor mike ridley- thomas and trish ploehn and d.c.f, and of course, christine devine, and of course, the fox wednesday's child team.\n",
      "\n",
      "i know some of the others have questions, but i think it might be appropriate, at least what has changed from last tuesday, where it was a million dollars cost, to today where obviously you have a letter saying no costs?\n",
      "\n",
      "but as i understand, they travel on sunday.\n",
      "\n",
      "they train on monday.\n",
      "\n",
      "they work on tuesday all day, 16 hours, as i understand.\n",
      "\n",
      "and they return on wednesday.\n",
      "\n",
      "you make certain assumptions about how many people are going to be sick during the course of the year, how many are going to be on vacation during the year, this is january.\n",
      "\n",
      "the number of employees sick rises in january, as you well know.\n",
      "\n",
      "molina: i can also assure you that on sunday you have to find some other flight to go there.\n",
      "\n",
      "there are no flights available to d.c. on sunday.\n",
      "\n",
      "hopefully back at our january 6th meeting.\n",
      "\n",
      "along with the assistance of the departments, our legislative advocates and board offices to report back at the board meeting on january 6th with a final list of major projects and initiatives that are most likely to qualify for funding by the federal economic recovery legislation and a legislative strategy to maximize funding for the los angeles county projects.\"\n",
      "\n",
      "ridley-thomas: i ask that we adjourn in memory of earl portlock office of father of city attorney staff member, zna houston, who recently passed on november 10 at the age of 82.\n",
      "\n",
      "and the issue for me, i hope it's for the rest of the board, too, is that we ought to make every effort to determine whether this is in our best interest and not forgo the opportunity to apply for this money and the deadline is january 6th, which is the day we come back after the first of the year.\n",
      "\n",
      "i appeared before the board on november 12th.\n",
      "\n",
      "as of the november 12th meeting we had finished phase one, which was to count the kits.\n",
      "\n",
      "we have now, since november 12th, finished phase 2, which was to determine how many untested kits there were, and that is in the letter that was provided to you, that's 4,727 and we are now in the midst of phase three, which is, what we did was we took all the untested kits, we divided those cases up by whose cases they were, sent them out to all the units in the sheriff's department that those cases belonged to and to special victims' bureau, and also to all the independent agencies along with a questionnaire.\n",
      "\n",
      "what we're also doing with those is since we are looking at a timeframe of completing this study in mid-january-- we have the holidays coming up, some issues there-- but we're looking at this completely done by mid-january.\n",
      "\n",
      "and i am also going to be attending the january 15th meeting of the los angeles county chiefs of police association where i will again be explaining the new policy to them and answering questions that they have.\n",
      "\n",
      "earl shields: like i said, we're looking at completing phase three, which is what we're talking about here, middle part of january.\n",
      "\n",
      "can we get a status report, say in the fourth meeting of january, whatever date that is?\n",
      "\n",
      "january 13th or the 20th was canceled today.\n",
      "\n",
      "yaroslavsky: so i move we can put this over to january 27th.\n",
      "\n",
      "officer sanders was a marine veteran who fought in iraq, returned from duty in july 2006, was with c.h.p.\n",
      "\n",
      "he passed away on december 9th after a long illness.\n",
      "\n",
      "employee vickie evers, who passed away on december 8th at the age of 84.\n",
      "\n",
      "also that we adjourn in memory of julianna huerta, who passed away on december 6th after a five-year battle with breast cancer.\n",
      "\n",
      "also that we adjourn in memory of john lawrence, fire captain of the city of los angeles who passed away very suddenly on december 14th.\n",
      "\n",
      "his wife preceded him in death this past august.\n",
      "\n",
      "if they don't meet the requirements to have all regulatory approvals and permits by 2010, within 15 days, by july 15th, they owe another $250,000.\n",
      "\n",
      "on december 13th, 2006, the regional planning commission approved a coastal development permit, parking permit and variance to authorize the demolition of an existing 202-unit apartment complex and subsequent construction of a 544-unit complex in the residential five category of the marina del rey specific plan.\n",
      "\n",
      "the marina strand colony 2 homeowners' association appealed the regional planning commission's decision to your board and on march 27th, 2007 your board denied this appeal.\n",
      "\n",
      "the draft additional environmental analysis was made available to the public on october 4th, 2008.\n",
      "\n",
      "an additional letter was received via email on december 11th from rose zoya, counsel to the homeowners' association that originally filed suit against the county.\n",
      "\n",
      "i do have a statement today, but the shores was given from november 25th to december 16th to respond to us.\n",
      "\n",
      "and with the june 2008 written mandate issued by the los angeles county superior court.\n",
      "\n",
      "and, five, instruct county counsel to prepare the final findings and conditions necessary for these approvals to bring them back on january 27th, 2009 for this board's consideration.\n",
      "\n",
      "wanted that continued to january 6th, is that correct?\n",
      "\n",
      "but i just want to make a brief comment because i'm asking for it to be continued till the end of january for a couple reasons.\n",
      "\n",
      "however, i would like to follow-up on this in january when i become chair of first five and explore the issue with them.\n",
      "\n",
      "so i would like to just put that on the record but continue this item until the end of january, last meeting in january.\n",
      "\n",
      "continued to the last meeting in january.\n",
      "\n",
      "in fact, we should scheduled it before the middle of january, 13th, the last meeting before the inauguration, so we have an opportunity to discuss it and do whatever you want to do with it.\n",
      "\n",
      "in the year 2000, a major investment study considered 47 alternatives to the metro red line to east l.a. not one study, though, because as of january, they're looking for maintenance facilities-- so not one study of the gold line, the east side extension, included any kind of permanent facilities for the gold line.\n",
      "\n",
      "and according to an article in from the l.a. times from october 30th, each of those raised $686 million in 2007.\n",
      "\n",
      "report of action taken in closed\r",
      "session tuesday, december 16, 2008\r",
      "\r",
      "\r",
      "\r",
      "agenda item cs-4 was continued to monday, december 22, 2008 at 9:00 a.m.\n",
      "\n"
     ]
    }
   ],
   "source": [
    "for sentence in sentences_with_agendaitems:\n",
    "    print(sentence+'\\n')"
   ]
  },
  {
   "cell_type": "code",
   "execution_count": 26,
   "metadata": {
    "collapsed": true
   },
   "outputs": [],
   "source": [
    "from gensim.summarization import summarize\n"
   ]
  },
  {
   "cell_type": "code",
   "execution_count": 31,
   "metadata": {
    "collapsed": false
   },
   "outputs": [
    {
     "data": {
      "text/plain": [
       "u'THE NUMEROUS COMMUNITY EVENTS INCLUDE HE\\'S CO CHAIR OF THE ANGELS CARE 65 ROSES GOLF TOURNAMENT, THE CHAIRMAN OF THE HEART ASSOCIATION HEART AND SOUL WALK, SUPPORTS LOCAL LITTLE LEAGUES THROUGHOUT THE MIKE SCIOSCIA YOUTH BASEBALL CLINIC MAKE-A-WISH FOUNDATION, AND ALSO, THROUGH HIS LEADERSHIP, THE MONROVIA BOYS AND GIRLS CLUB RAISE ABOUT 75 PERCENT OF THEIR BUDGET EACH JANUARY/FEBRUARY WHEN THEY DO THEIR ANNUAL DINNER AND MIKE DOES A PHENOMENAL JOB AS THE AUCTIONEER.\\nAND LET ME JUST ADD A WORD BEFORE I MAKE THE REST OF THE PRESENTATIONS, ONE THING WE SHOULD DO IS THANK THE PEOPLE OF LOS ANGELES COUNTY, WHO IN 2002 VOTED FOR A PROPOSITION, MEASURE B, WHICH PROVIDED MUCH NEEDED FUNDING, WHICH HELPED THE TRAUMA CENTERS SURVIVE.\\nWE ARE GOING TO RECOGNIZE THEIR HARD WORK, LEADERSHIP AND DEDICATION TO PARTNERING WITH OUR DEPARTMENT OF CHILDREN AND FAMILY SERVICES TO PROMOTE POSITIVE OUTCOMES FOR OUR CHILDREN IN FOSTER CARE AND TO HELP FIND PERMANENT AND LOVING FAMILIES THROUGH THE SUPPORT OF THE FREDDIE MACK FOUNDATION\\'S WEDNESDAY CHILD PROGRAM AND FOX 11 NEWS, THE HEART GALLERY LOS ANGELES, AND THE DEPARTMENT\\'S ADOPTION MATCHING EVENTS AND AWARENESS CAMPAIGNS.\\nUNDER SHERIFF LARRY WALDIE : BASICALLY, WE\\'RE JUST ASKING THE BOARD TO AUTHORIZE THE SHERIFF\\'S DEPARTMENT TO CHARTER A PRIVATE AIRLINE TO TRANSPORT DEPUTY PERSONNEL TO THE 56TH PRESIDENTIAL INAUGURATION IN WASHINGTON D.C. THAT\\'S THE AGENDA ITEM.\\nANTONOVICH: I THINK WE\\'RE USING A LOT OF BUREAUCRATIC RED TAPE TO DELAY GETTING RETIRED PERSONNEL, WHO ARE QUALIFIED, WHO HAVE BEEN RECOGNIZED FOR BEING COMPETENT AND HAVE RETIRED WITH RECOGNITION FROM THE DEPARTMENT FOR A GREAT JOB, GIVING THEM THAT OPPORTUNITY IS NOT GOING TO SHORTCHANGE OUR COUNTY OR SHORTCHANGE THOSE PEOPLE THAT THEY\\'RE GOING TO BE IN CHARGE OF WHEN THEY GO TO WASHINGTON, D.C. I MEAN YOU\\'RE GETTING A COMPETENT PERSON.\\nI\\'VE COME BEFORE THIS COUNTY BOARD OF SUPERVISORS NUMEROUS TIMES ON BUDGETARY ITEMS, ON THE BUDGET FOR THE HOMELESS WHERE YOU SPENT HALF A MILLION, OVER A HALF MILLION DOLLARS INTERVIEWING HOMELESS PEOPLE DOWNTOWN REQUESTING WHY THEY COST.\\nIF THERE\\'S A NATURAL DISASTER, IF THERE\\'S A SITUATION THAT WOULD OCCUR IN THE THREE DAYS THAT THE PEOPLE WILL BE GONE, THERE\\'S GOT TO BE SOME KIND OF CROSS-AGREEMENTS WITH OTHER DEPARTMENTS, WITH OTHER COUNTIES THAT IF IT CAME TO COVERING FOR 300 PEOPLE, A LITTLE UNDER 300 PEOPLE, BECAUSE YOU WANT 67 THAT WENT, IT WOULD BE LIKE 285 PEOPLE THAT YOU\\'RE ASKING TO BE INCLUDED, THAT YOU WOULD BE ABLE TO FIND AN AGREEMENT WITH ORANGE COUNTY OR RIVERSIDE COUNTY OR SAN BERNARDINO COUNTY OR ANY OF THE LOCAL DIVISIONS, POLICE DEPARTMENTS, TO COVER THOSE-- THAT INCREDIBLE NEED, WHETHER IT\\'S TSUNAMI THAT OCCURS, WHEN A NUCLEAR BOMB GOES OFF, FROM A PLANE THAT CRASHED AT EDWARDS AIR FORCE BASE, TO A TORNADO AND A MUDSLIDE AT THE SAME TIME.\\nSO I LOOK FORWARD TO R.F.Q. I HOPE IT WILL BE A QUICK, SOLID PROCESS THAT CAN COME BACK AS QUICKLY AS POSSIBLE, THAT WE WILL HAVE AN ARRAY OF PEOPLE TO SELECT FROM, OR GROUPS, AND THAT THIS BOARD CAN START ON ITS WAY TO REALLY GETTING AN INDEPENDENT VOICE OR AN INDEPENDENT BODY WHO CAN SHARE WITH US AND LET US KNOW WHAT IS THE BEST MECHANISM TO MAKE SURE WE ARE PROTECTING THE SAFETY NET OF OUR CLINICS AND OUR HOSPITALS.\\nKNABE, CHAIR: I THINK THE AGREEMENT BETWEEN THE COUNTY SLASH THE SHERIFF\\'S DEPARTMENT AND THE METROPOLITAN POLICE WOULD BE FOR TWO PLATOONS, 112 INDIVIDUALS; IS THAT CORRECT?\\nI THEREFORE MOVE THE BOARD OF SUPERVISORS DIRECT THE C.E.O. ALONG WITH THE ASSISTANCE OF THE DEPARTMENTS, OUR LEGISLATIVE ADVOCATES AND BOARD OFFICES TO REPORT BACK AT THE BOARD MEETING ON JANUARY 6TH WITH A FINAL LIST OF MAJOR PROJECTS AND INITIATIVES THAT ARE MOST LIKELY TO QUALIFY FOR FUNDING BY THE FEDERAL ECONOMIC RECOVERY LEGISLATION AND A LEGISLATIVE STRATEGY TO MAXIMIZE FUNDING FOR THE LOS ANGELES COUNTY PROJECTS.\" THAT IS BEFORE US.\\nAND WHAT I WANTED TO BE SURE IS THAT WHILE WE\\'RE --DURING THE CHRISTMAS/NEW YEAR\\'S VACATION PERIOD HERE, THAT WE AUTHORIZE YOU TO PROCEED TO MAKE AN APPLICATION FOR THIS, UNLESS IT\\'S AN ABSOLUTE DEAD BANG LOSER FOR US, OR THERE\\'S SOMETHING THAT DOESN\\'T-- THAT IS A POISON PILL IN THIS THING FOR THE COUNTY, AND AUTHORIZE THE CHAIR, IF NECESSARY, TO SIGN WHATEVER APPLICATION NEEDS TO BE SIGNED DURING THIS PERIOD OF TIME, I\\'D RATHER MAKE AN APPLICATION, TRY TO WORK OUT-- HAVE THE OPTION TO MAKE THE APPLICATION, EVEN MAKE THE APPLICATION, WORK OUT THE ISSUES THAT WE MAY HAVE ON IDENTIFYING A PROPERTY THAT WE NEED TO COLLATERALIZE OR OTHER REQUIREMENTS THE STATE MAY HAVE FOR US.\\nFOR THE COMBINED PUBLIC HEARING ON THE REAPPROVAL OF THE SHORES APARTMENT PROJECT R-2005-00234 LOCATED AT 4201 VIA MARINA, MARINA DEL REY, I THEREFORE MOVE THAT THE BOARD, ONE, CLOSE THE PUBLIC HEARING AND CERTIFY THAT THE FINAL ADDITIONAL ENVIRONMENTAL ANALYSIS, FINAL ADDITIONAL ENVIRONMENTAL ANALYSIS PREPARED FOR THE SHORES PROJECT NUMBER R-2005-00234 IS IN COMPLIANCE WITH THE C.E.Q.A. AND WITH THE JUNE 2008 WRITTEN MANDATE ISSUED BY THE LOS ANGELES COUNTY SUPERIOR COURT.\\nIF WE COULD DIRECT THE C.I.O. AND PUBLIC WORKS TO REPORT BACK, LET\\'S SAY ON THE 13TH OR THE 20TH, ON THE NEW REGULATIONS THAT THE THEIR RESOURCES BOARD HAS PROMULGATED RELATIVE TO DIESEL ENGINES AND DIESEL EQUIPMENT THAT WE OPERATE THROUGHOUT THE STATE, BUT THAT THE COUNTY OPERATES SO WE CAN HAVE THE ABILITY TO ANALYZE AS WE\\'RE PREPARING THE 2009/10 BUDGET HOW WE CAN FACTOR IN, OR WILL FACTOR IN, THOSE REGULATIONS THAT HAVE JUST COME DOWN.\\nCLERK SACHI HAMAI: IN ACCORDANCE WITH BROWN ACT REQUIREMENTS NOTICE IS HEREBY GIVEN THAT THE BOARD OF SUPERVISORS WILL CONVENE IN CLOSED SESSION TO DISCUSS ITEM C.S.-1 AND C.S.-2 CONFERENCES WITH LEGAL COUNSEL REGARDING EXISTING LITIGATION, ITEM NUMBER C.S.-3, CONFERENCE WITH LEGAL COUNSEL REGARDING SIGNIFICANT EXPOSURE TO LITIGATION, ONE CASE, ITEM C.S.-4, INTERVIEW AND CONSIDERATION OF CANDIDATES FOR THE POSITION OF AUDITOR-CONTROLLER.'"
      ]
     },
     "execution_count": 31,
     "metadata": {},
     "output_type": "execute_result"
    }
   ],
   "source": [
    "summarize(text,0.005)"
   ]
  },
  {
   "cell_type": "code",
   "execution_count": 35,
   "metadata": {
    "collapsed": false
   },
   "outputs": [],
   "source": [
    "text_final = ' '.join(elem for elem in )"
   ]
  },
  {
   "cell_type": "code",
   "execution_count": 44,
   "metadata": {
    "collapsed": false
   },
   "outputs": [
    {
     "data": {
      "text/plain": [
       "'and it will air for the first time tomorrow night, december 17th, at 10 p.m. on k.c.e.t. we are going to recognize their hard work, leadership and dedication to partnering with our department of children and family services to promote positive outcomes for our children in foster care and to help find permanent and loving families through the support of the freddie mack foundation\\'s wednesday child program and fox 11 news, the heart gallery los angeles, and the department\\'s adoption matching events and awareness campaigns.\\nalong with the assistance of the departments, our legislative advocates and board offices to report back at the board meeting on january 6th with a final list of major projects and initiatives that are most likely to qualify for funding by the federal economic recovery legislation and a legislative strategy to maximize funding for the los angeles county projects.\" ridley-thomas: i ask that we adjourn in memory of earl portlock office of father of city attorney staff member, zna houston, who recently passed on november 10 at the age of 82.'"
      ]
     },
     "execution_count": 44,
     "metadata": {},
     "output_type": "execute_result"
    }
   ],
   "source": [
    "summarize(text_final,0.05)\n"
   ]
  },
  {
   "cell_type": "code",
   "execution_count": 109,
   "metadata": {
    "collapsed": false
   },
   "outputs": [],
   "source": [
    "sortedsummary=[]\n",
    "for i in range(len(sentences_with_agendaitems)):\n",
    "    word = \"item\" +\" \"+ str(i)\n",
    "    if word in sentences_with_agendaitems[i].strip().split():\n",
    "        sortedsummary.append(sentences_with_agendaitems[i])\n",
    "    "
   ]
  },
  {
   "cell_type": "code",
   "execution_count": 110,
   "metadata": {
    "collapsed": false
   },
   "outputs": [
    {
     "data": {
      "text/plain": [
       "['on',\n",
       " 'item',\n",
       " 'number',\n",
       " '36,',\n",
       " \"there's\",\n",
       " 'a',\n",
       " 'request',\n",
       " 'from',\n",
       " 'a',\n",
       " 'member',\n",
       " 'of',\n",
       " 'the',\n",
       " 'public',\n",
       " 'to',\n",
       " 'hold',\n",
       " 'this',\n",
       " 'item.']"
      ]
     },
     "execution_count": 110,
     "metadata": {},
     "output_type": "execute_result"
    }
   ],
   "source": [
    "sentences_with_agendaitems[17].strip().split()"
   ]
  },
  {
   "cell_type": "code",
   "execution_count": 111,
   "metadata": {
    "collapsed": false
   },
   "outputs": [
    {
     "name": "stdout",
     "output_type": "stream",
     "text": [
      "[]\n"
     ]
    }
   ],
   "source": [
    "print( sortedsummary)"
   ]
  },
  {
   "cell_type": "code",
   "execution_count": null,
   "metadata": {
    "collapsed": true
   },
   "outputs": [],
   "source": []
  }
 ],
 "metadata": {
  "anaconda-cloud": {},
  "kernelspec": {
   "display_name": "Python [Root]",
   "language": "python",
   "name": "Python [Root]"
  },
  "language_info": {
   "codemirror_mode": {
    "name": "ipython",
    "version": 2
   },
   "file_extension": ".py",
   "mimetype": "text/x-python",
   "name": "python",
   "nbconvert_exporter": "python",
   "pygments_lexer": "ipython2",
   "version": "2.7.12"
  }
 },
 "nbformat": 4,
 "nbformat_minor": 0
}
